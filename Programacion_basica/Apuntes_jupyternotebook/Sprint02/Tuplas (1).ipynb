{
 "cells": [
  {
   "cell_type": "code",
   "execution_count": 3,
   "id": "6e959f49-2bbc-43ce-8c01-6a411bf5e157",
   "metadata": {},
   "outputs": [
    {
     "name": "stdout",
     "output_type": "stream",
     "text": [
      "<class 'tuple'>\n",
      "(3, 'Texto')\n"
     ]
    }
   ],
   "source": [
    "tupla_ejemplo = (3, \"Texto\")\n",
    "print(type(tupla_ejemplo))\n",
    "print(tupla_ejemplo)"
   ]
  },
  {
   "cell_type": "code",
   "execution_count": 4,
   "id": "052eec2c-b152-4f4c-a753-e9f5feb47786",
   "metadata": {},
   "outputs": [
    {
     "name": "stdout",
     "output_type": "stream",
     "text": [
      "El primer elemnto es 3\n",
      "El segundo elemento es Texto\n"
     ]
    }
   ],
   "source": [
    "print(\"El primer elemnto es\", tupla_ejemplo[0])\n",
    "print(\"El segundo elemento es\", tupla_ejemplo[1])"
   ]
  },
  {
   "cell_type": "code",
   "execution_count": 8,
   "id": "3811ee9f-6f34-40fe-8573-4c89eb060e7a",
   "metadata": {},
   "outputs": [
    {
     "name": "stdout",
     "output_type": "stream",
     "text": [
      "<class 'int'> 24\n",
      "<class 'tuple'> (24,)\n"
     ]
    }
   ],
   "source": [
    "mala_tupla = (24)\n",
    "print(type(mala_tupla),mala_tupla)\n",
    "buena_tupla = (24,)\n",
    "print(type(buena_tupla),buena_tupla)"
   ]
  },
  {
   "cell_type": "code",
   "execution_count": 20,
   "id": "38e39af9-2f6f-4726-bb27-f04fb16d4818",
   "metadata": {},
   "outputs": [
    {
     "name": "stdout",
     "output_type": "stream",
     "text": [
      "(1, 2, 3, ('A', 'B', 'C'))\n",
      "4\n"
     ]
    }
   ],
   "source": [
    "#Anidación de tuplas\n",
    "tupla_anid = (1,2,3, (\"A\", \"B\", \"C\"))\n",
    "print(tupla_anid)\n",
    "print(len(tupla_anid))"
   ]
  },
  {
   "cell_type": "code",
   "execution_count": 21,
   "id": "33310d28-f623-4cea-bc2c-cab3899fa38d",
   "metadata": {},
   "outputs": [
    {
     "name": "stdout",
     "output_type": "stream",
     "text": [
      "3\n",
      "B\n"
     ]
    }
   ],
   "source": [
    "print(tupla_anid[2])\n",
    "print(tupla_anid[3][1])"
   ]
  },
  {
   "cell_type": "code",
   "execution_count": 28,
   "id": "6abcabbb-5473-43f8-925a-26a9c3140642",
   "metadata": {
    "scrolled": true
   },
   "outputs": [
    {
     "name": "stdout",
     "output_type": "stream",
     "text": [
      "1\n",
      "2\n",
      "3\n",
      "('A', 'B', 'C')\n"
     ]
    }
   ],
   "source": [
    "#Las tuplas son iterables\n",
    "for i in tupla_anid:\n",
    "    print(i)"
   ]
  },
  {
   "cell_type": "code",
   "execution_count": 29,
   "id": "5d673ac1-1d82-4024-931d-b9dbf4e9f997",
   "metadata": {},
   "outputs": [
    {
     "name": "stdout",
     "output_type": "stream",
     "text": [
      "(3, ('A', 'B', 'C'))\n"
     ]
    }
   ],
   "source": [
    "#Slicing\n",
    "tupla_bis = tupla_anid [2:]\n",
    "print(tupla_bis)"
   ]
  },
  {
   "cell_type": "code",
   "execution_count": 31,
   "id": "257551f6-204d-4ce8-bf4a-6acb6144fb2f",
   "metadata": {},
   "outputs": [
    {
     "name": "stdout",
     "output_type": "stream",
     "text": [
      "(1, 2, 3, 4, 5, 6)\n",
      "(1, 2, 3, 4, 5, 6)\n",
      "(1, 2, 3, 4, 5, 6)\n"
     ]
    }
   ],
   "source": [
    "tupla_1 = (1,2,3)\n",
    "tupla_2 = (4,5,6)\n",
    "print(tupla_1 + tupla_2)\n",
    "tupla_3 = tupla_1 + tupla_2\n",
    "tupla_1 = tupla_1 + tupla_2\n",
    "print(tupla_3)\n",
    "print(tupla_1)"
   ]
  },
  {
   "cell_type": "code",
   "execution_count": null,
   "id": "78996167-8448-4db5-83c5-bda560191c87",
   "metadata": {},
   "outputs": [],
   "source": [
    "lista_ejemplo = [\"Fresas\", (\"naranjas\",\"limones\"), \"kiwis\"]\n",
    "tupla_lista = "
   ]
  }
 ],
 "metadata": {
  "kernelspec": {
   "display_name": "Python 3 (ipykernel)",
   "language": "python",
   "name": "python3"
  },
  "language_info": {
   "codemirror_mode": {
    "name": "ipython",
    "version": 3
   },
   "file_extension": ".py",
   "mimetype": "text/x-python",
   "name": "python",
   "nbconvert_exporter": "python",
   "pygments_lexer": "ipython3",
   "version": "3.8.10"
  }
 },
 "nbformat": 4,
 "nbformat_minor": 5
}
