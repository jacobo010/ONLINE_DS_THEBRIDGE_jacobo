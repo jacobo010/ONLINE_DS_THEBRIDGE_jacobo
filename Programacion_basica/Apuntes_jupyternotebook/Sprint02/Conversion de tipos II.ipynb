{
 "cells": [
  {
   "cell_type": "code",
   "execution_count": 6,
   "id": "64032de1-bba2-4702-a418-e060657c81df",
   "metadata": {},
   "outputs": [
    {
     "ename": "ValueError",
     "evalue": "could not convert string to float: '68,34'",
     "output_type": "error",
     "traceback": [
      "\u001b[0;31m---------------------------------------------------------------------------\u001b[0m",
      "\u001b[0;31mValueError\u001b[0m                                Traceback (most recent call last)",
      "Cell \u001b[0;32mIn[6], line 2\u001b[0m\n\u001b[1;32m      1\u001b[0m real_str \u001b[38;5;241m=\u001b[39m \u001b[38;5;124m\"\u001b[39m\u001b[38;5;124m68,34\u001b[39m\u001b[38;5;124m\"\u001b[39m\n\u001b[0;32m----> 2\u001b[0m real \u001b[38;5;241m=\u001b[39m \u001b[38;5;28;43mfloat\u001b[39;49m\u001b[43m(\u001b[49m\u001b[43mreal_str\u001b[49m\u001b[43m)\u001b[49m\n",
      "\u001b[0;31mValueError\u001b[0m: could not convert string to float: '68,34'"
     ]
    }
   ],
   "source": [
    "real_str = \"68,34\"\n",
    "real = float(real_str)"
   ]
  },
  {
   "cell_type": "code",
   "execution_count": 7,
   "id": "64177158-5136-4331-8cb9-0920e68eba8c",
   "metadata": {},
   "outputs": [
    {
     "data": {
      "text/plain": [
       "'68.34'"
      ]
     },
     "execution_count": 7,
     "metadata": {},
     "output_type": "execute_result"
    }
   ],
   "source": [
    "real_str.replace(\",\",\".\")"
   ]
  },
  {
   "cell_type": "code",
   "execution_count": 10,
   "id": "53e84a71-e96d-4c0e-afcc-57fd2de5f238",
   "metadata": {},
   "outputs": [
    {
     "name": "stdout",
     "output_type": "stream",
     "text": [
      "<class 'str'>\n"
     ]
    }
   ],
   "source": [
    "nuevo_str = real_str.replace(\",\",\".\")\n",
    "print(type(nuevo_str))"
   ]
  },
  {
   "cell_type": "code",
   "execution_count": 13,
   "id": "860e707c-b531-4e11-a962-bbc0aaf38978",
   "metadata": {},
   "outputs": [
    {
     "name": "stdout",
     "output_type": "stream",
     "text": [
      "68.34 <class 'float'>\n"
     ]
    }
   ],
   "source": [
    "real = float(nuevo_str)\n",
    "print(real,type(real))"
   ]
  },
  {
   "cell_type": "code",
   "execution_count": 17,
   "id": "8c142600-f8e6-4d11-86d5-c974ae9dd2d9",
   "metadata": {},
   "outputs": [
    {
     "name": "stdin",
     "output_type": "stream",
     "text": [
      "Escribe algo 98\n"
     ]
    }
   ],
   "source": [
    "primer_input = input(\"Escribe algo\")"
   ]
  },
  {
   "cell_type": "code",
   "execution_count": 19,
   "id": "6c061060-070e-444e-afc0-e5736e76aa47",
   "metadata": {},
   "outputs": [
    {
     "name": "stdout",
     "output_type": "stream",
     "text": [
      "98 <class 'str'>\n"
     ]
    }
   ],
   "source": [
    "print(primer_input, type(primer_input))"
   ]
  },
  {
   "cell_type": "code",
   "execution_count": 27,
   "id": "3ca9f965-706e-4adc-a8d9-bbcecb8f87c0",
   "metadata": {},
   "outputs": [
    {
     "name": "stdin",
     "output_type": "stream",
     "text": [
      "¿Como te llamas? Jacobo\n"
     ]
    },
    {
     "name": "stdout",
     "output_type": "stream",
     "text": [
      "Encantado de conocerte Jacobo\n"
     ]
    },
    {
     "name": "stdin",
     "output_type": "stream",
     "text": [
      "Que te parece este video? si\n"
     ]
    },
    {
     "name": "stdout",
     "output_type": "stream",
     "text": [
      "Coincido\n"
     ]
    }
   ],
   "source": [
    "nombre = input(\"¿Como te llamas?\") \n",
    "print(\"Encantado de conocerte\", nombre)\n",
    "preferencias = input(\"Que te parece este video?\")\n",
    "print(\"Coincido\")"
   ]
  },
  {
   "cell_type": "code",
   "execution_count": 21,
   "id": "714368ad-5f9f-42c0-a5a9-093aa2b8ffde",
   "metadata": {},
   "outputs": [
    {
     "name": "stdout",
     "output_type": "stream",
     "text": [
      "None\n"
     ]
    }
   ],
   "source": [
    "print(None)"
   ]
  },
  {
   "cell_type": "code",
   "execution_count": 22,
   "id": "52a32f3b-ebd4-451a-a8ac-1deab673c512",
   "metadata": {},
   "outputs": [
    {
     "name": "stdout",
     "output_type": "stream",
     "text": [
      "<class 'NoneType'>\n"
     ]
    }
   ],
   "source": [
    "print(type(None))"
   ]
  },
  {
   "cell_type": "code",
   "execution_count": 23,
   "id": "f39b9ebd-5a17-4a67-8dde-30de9c5d4563",
   "metadata": {},
   "outputs": [
    {
     "data": {
      "text/plain": [
       "False"
      ]
     },
     "execution_count": 23,
     "metadata": {},
     "output_type": "execute_result"
    }
   ],
   "source": [
    "\"\" == None"
   ]
  },
  {
   "cell_type": "code",
   "execution_count": 25,
   "id": "911cb015-79a5-400b-ace3-d35329cd5767",
   "metadata": {},
   "outputs": [
    {
     "data": {
      "text/plain": [
       "False"
      ]
     },
     "execution_count": 25,
     "metadata": {},
     "output_type": "execute_result"
    }
   ],
   "source": [
    "False == None"
   ]
  },
  {
   "cell_type": "code",
   "execution_count": 26,
   "id": "5af3ece4-5eef-4c4e-83fc-c2410e4a3e27",
   "metadata": {},
   "outputs": [
    {
     "name": "stdout",
     "output_type": "stream",
     "text": [
      "The Zen of Python, by Tim Peters\n",
      "\n",
      "Beautiful is better than ugly.\n",
      "Explicit is better than implicit.\n",
      "Simple is better than complex.\n",
      "Complex is better than complicated.\n",
      "Flat is better than nested.\n",
      "Sparse is better than dense.\n",
      "Readability counts.\n",
      "Special cases aren't special enough to break the rules.\n",
      "Although practicality beats purity.\n",
      "Errors should never pass silently.\n",
      "Unless explicitly silenced.\n",
      "In the face of ambiguity, refuse the temptation to guess.\n",
      "There should be one-- and preferably only one --obvious way to do it.\n",
      "Although that way may not be obvious at first unless you're Dutch.\n",
      "Now is better than never.\n",
      "Although never is often better than *right* now.\n",
      "If the implementation is hard to explain, it's a bad idea.\n",
      "If the implementation is easy to explain, it may be a good idea.\n",
      "Namespaces are one honking great idea -- let's do more of those!\n"
     ]
    }
   ],
   "source": [
    "import this"
   ]
  },
  {
   "cell_type": "code",
   "execution_count": 29,
   "id": "cb325d19-5678-47b4-9f8a-83650f151c47",
   "metadata": {},
   "outputs": [
    {
     "name": "stdin",
     "output_type": "stream",
     "text": [
      "Introduce tus grados:  40\n"
     ]
    },
    {
     "name": "stdout",
     "output_type": "stream",
     "text": [
      "Tus grados en radianes son:  0.6977777777777778\n"
     ]
    }
   ],
   "source": [
    "pi = 3.14\n",
    "grados = float(input(\"Introduce tus grados: \"))\n",
    "operacion = grados * (pi/180)\n",
    "\n",
    "print(\"Tus grados en radianes son: \",operacion)"
   ]
  },
  {
   "cell_type": "code",
   "execution_count": 31,
   "id": "18ca5a78-8021-422c-81ac-d358c5da7e1a",
   "metadata": {},
   "outputs": [
    {
     "name": "stdin",
     "output_type": "stream",
     "text": [
      "Introduce la base de tu paralelogramo: 56\n",
      "Introduce la altura:  765\n"
     ]
    },
    {
     "name": "stdout",
     "output_type": "stream",
     "text": [
      "El area de tu paralelogramo es:  42840.0\n"
     ]
    }
   ],
   "source": [
    "base = float(input(\"Introduce la base de tu paralelogramo:\"))\n",
    "altura = float(input(\"Introduce la altura: \"))\n",
    "area = base * altura\n",
    "print(\"El area de tu paralelogramo es: \", area)"
   ]
  },
  {
   "cell_type": "code",
   "execution_count": null,
   "id": "4b8c9beb-2d37-49ef-8ec1-250fac33e81f",
   "metadata": {},
   "outputs": [],
   "source": []
  }
 ],
 "metadata": {
  "kernelspec": {
   "display_name": "Python 3 (ipykernel)",
   "language": "python",
   "name": "python3"
  },
  "language_info": {
   "codemirror_mode": {
    "name": "ipython",
    "version": 3
   },
   "file_extension": ".py",
   "mimetype": "text/x-python",
   "name": "python",
   "nbconvert_exporter": "python",
   "pygments_lexer": "ipython3",
   "version": "3.8.10"
  }
 },
 "nbformat": 4,
 "nbformat_minor": 5
}
