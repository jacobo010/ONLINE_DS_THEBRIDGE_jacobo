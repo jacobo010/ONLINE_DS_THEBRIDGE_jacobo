{
 "cells": [
  {
   "cell_type": "code",
   "execution_count": 1,
   "id": "f31ea661-9c1c-447c-9a66-cca5ef6a461a",
   "metadata": {},
   "outputs": [
    {
     "name": "stdout",
     "output_type": "stream",
     "text": [
      "<class 'float'>\n",
      "24\n",
      "<class 'int'>\n"
     ]
    }
   ],
   "source": [
    "num_real = 24.69\n",
    "print(type(num_real))\n",
    "\n",
    "num_entero = int(num_real)\n",
    "print(num_entero)\n",
    "\n",
    "print(type(num_entero))"
   ]
  },
  {
   "cell_type": "code",
   "execution_count": 3,
   "id": "fa5b7590-c9fe-45bf-9f1c-4857a506a0a7",
   "metadata": {},
   "outputs": [],
   "source": [
    "num_real = 24.686\n",
    "num_redondeado = round(num_real, 2)"
   ]
  },
  {
   "cell_type": "code",
   "execution_count": 10,
   "id": "074b198e-4f41-4303-943b-f8a68c818477",
   "metadata": {},
   "outputs": [
    {
     "name": "stdout",
     "output_type": "stream",
     "text": [
      "24.69\n"
     ]
    }
   ],
   "source": [
    "print(num_redondeado)"
   ]
  },
  {
   "cell_type": "code",
   "execution_count": 5,
   "id": "2413adb4-d6a7-468c-8fee-81f2c1ac4d78",
   "metadata": {},
   "outputs": [
    {
     "name": "stdout",
     "output_type": "stream",
     "text": [
      "25.0\n"
     ]
    }
   ],
   "source": [
    "num_redondeado = 24.69 \n",
    "num_convertido = round(num_redondeado,0)\n",
    "print(num_convertido)"
   ]
  },
  {
   "cell_type": "code",
   "execution_count": 6,
   "id": "030165e1-4b64-4185-b9bc-c69be21bc037",
   "metadata": {},
   "outputs": [
    {
     "name": "stdout",
     "output_type": "stream",
     "text": [
      "25\n"
     ]
    }
   ],
   "source": [
    "print(int(num_convertido))"
   ]
  },
  {
   "cell_type": "code",
   "execution_count": 8,
   "id": "4f9e8f30-ecfd-4fe7-a2b9-3d45022ba2e4",
   "metadata": {},
   "outputs": [
    {
     "name": "stdout",
     "output_type": "stream",
     "text": [
      "24.69 su tipo <class 'str'>\n",
      "12 su tipo <class 'str'>\n"
     ]
    }
   ],
   "source": [
    "num_real = 24.69\n",
    "num_entero = 12\n",
    "\n",
    "real_str = str(num_real)\n",
    "entero_str = str (num_entero)\n",
    "print(real_str,\"su tipo\", type(real_str))\n",
    "print(entero_str,\"su tipo\", type(entero_str))"
   ]
  },
  {
   "cell_type": "code",
   "execution_count": 9,
   "id": "59b7b658-c311-4f7b-8da6-cf5f48c5a764",
   "metadata": {},
   "outputs": [
    {
     "name": "stdout",
     "output_type": "stream",
     "text": [
      "36.69\n",
      "24.6912\n"
     ]
    }
   ],
   "source": [
    "print(num_real + num_entero)\n",
    "print(real_str + entero_str)"
   ]
  },
  {
   "cell_type": "code",
   "execution_count": 15,
   "id": "6222f578-94b1-45a1-b50e-e9f6c069c73a",
   "metadata": {},
   "outputs": [
    {
     "name": "stdout",
     "output_type": "stream",
     "text": [
      "98 <class 'str'>\n",
      "98 <class 'int'>\n",
      "98.33 <class 'float'>\n"
     ]
    }
   ],
   "source": [
    "mi_cadena = \"98\"\n",
    "mi_entero = int(mi_cadena)\n",
    "print(mi_cadena, type(mi_cadena))\n",
    "print(mi_entero, type(mi_entero))\n",
    "mi_cadena_real = \"98.33\"\n",
    "mi_real = float(mi_cadena_real)\n",
    "print(mi_real, type(mi_real))"
   ]
  },
  {
   "cell_type": "code",
   "execution_count": 18,
   "id": "ad871a93-c9af-46d3-886e-ad83191e5eab",
   "metadata": {},
   "outputs": [
    {
     "name": "stdout",
     "output_type": "stream",
     "text": [
      "True <class 'bool'>\n"
     ]
    }
   ],
   "source": [
    "booleano = bool(123)\n",
    "print(booleano, type(booleano))"
   ]
  },
  {
   "cell_type": "code",
   "execution_count": 20,
   "id": "de807699-9ef2-4fe0-a987-bc881157d686",
   "metadata": {},
   "outputs": [
    {
     "name": "stdout",
     "output_type": "stream",
     "text": [
      "False <class 'bool'>\n"
     ]
    }
   ],
   "source": [
    "booleano = bool(0)\n",
    "print(booleano, type(booleano))"
   ]
  },
  {
   "cell_type": "code",
   "execution_count": 23,
   "id": "47471483-be72-4577-afd0-7ac9032aa7dd",
   "metadata": {},
   "outputs": [
    {
     "name": "stdout",
     "output_type": "stream",
     "text": [
      "False <class 'bool'>\n",
      "True <class 'bool'>\n"
     ]
    }
   ],
   "source": [
    "booleano = bool(\"\")\n",
    "booleano_2 = bool(\"Este este otro tipo de booleano\")\n",
    "print(booleano, type(booleano))\n",
    "print(booleano_2, type(booleano_2))"
   ]
  },
  {
   "cell_type": "code",
   "execution_count": 24,
   "id": "2286a09b-47b8-4aed-ba58-29e7c0c0d823",
   "metadata": {},
   "outputs": [
    {
     "name": "stdout",
     "output_type": "stream",
     "text": [
      "False True\n"
     ]
    }
   ],
   "source": [
    "bool_str = str(booleano)\n",
    "bool_2_str = str(booleano_2)\n",
    "print(bool_str, bool_2_str)"
   ]
  },
  {
   "cell_type": "code",
   "execution_count": null,
   "id": "5148ed70-1e7f-477b-b351-3a8498a1f2f8",
   "metadata": {},
   "outputs": [],
   "source": []
  }
 ],
 "metadata": {
  "kernelspec": {
   "display_name": "Python 3 (ipykernel)",
   "language": "python",
   "name": "python3"
  },
  "language_info": {
   "codemirror_mode": {
    "name": "ipython",
    "version": 3
   },
   "file_extension": ".py",
   "mimetype": "text/x-python",
   "name": "python",
   "nbconvert_exporter": "python",
   "pygments_lexer": "ipython3",
   "version": "3.8.10"
  }
 },
 "nbformat": 4,
 "nbformat_minor": 5
}
