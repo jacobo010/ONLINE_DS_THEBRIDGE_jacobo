{
 "cells": [
  {
   "cell_type": "code",
   "execution_count": 4,
   "id": "d4e52821-b3d3-423a-a627-2a0e4e1208ec",
   "metadata": {},
   "outputs": [
    {
     "name": "stdout",
     "output_type": "stream",
     "text": [
      "String con 'simples'\n",
      "String con \"dobles\"\n",
      "String con \"simples o dobles\"\n"
     ]
    }
   ],
   "source": [
    "print(\"String con 'simples'\")\n",
    "print('String con \"dobles\"')\n",
    "print(\"String con \\\"simples o dobles\\\"\")"
   ]
  },
  {
   "cell_type": "code",
   "execution_count": 6,
   "id": "a0a632b2-5176-4796-8d4b-53452275f88e",
   "metadata": {},
   "outputs": [
    {
     "name": "stdout",
     "output_type": "stream",
     "text": [
      "Primera linea\n",
      "Segunda linea\n",
      "\tTercera linea, tabulada\n"
     ]
    }
   ],
   "source": [
    "print(\"Primera linea\\nSegunda linea\\n\\tTercera linea, tabulada\")"
   ]
  },
  {
   "cell_type": "code",
   "execution_count": 9,
   "id": "45b77592-7a1c-4e06-a86b-d0dff063a014",
   "metadata": {},
   "outputs": [
    {
     "name": "stdout",
     "output_type": "stream",
     "text": [
      "Primera linea\n",
      "segunda linea\n",
      "\tTercera linea, tabulada\n"
     ]
    }
   ],
   "source": [
    "mi_string = (\"Primera linea\\nsegunda linea\\n\\tTercera linea, tabulada\")\n",
    "print(mi_string)"
   ]
  },
  {
   "cell_type": "code",
   "execution_count": 10,
   "id": "9c50a82e-d4f8-4d81-8ec7-0c892b757bfc",
   "metadata": {},
   "outputs": [
    {
     "name": "stdout",
     "output_type": "stream",
     "text": [
      "Antonia Scott\n"
     ]
    }
   ],
   "source": [
    "nombre = \"Antonia\"\n",
    "apellido = \"Scott\"\n",
    "nombre_apellido = nombre + \" \" + apellido\n",
    "print(nombre_apellido)"
   ]
  },
  {
   "cell_type": "code",
   "execution_count": 12,
   "id": "58a804a0-6c6a-4580-ba45-49a52565612c",
   "metadata": {},
   "outputs": [
    {
     "ename": "TypeError",
     "evalue": "can only concatenate str (not \"int\") to str",
     "output_type": "error",
     "traceback": [
      "\u001b[0;31m---------------------------------------------------------------------------\u001b[0m",
      "\u001b[0;31mTypeError\u001b[0m                                 Traceback (most recent call last)",
      "Cell \u001b[0;32mIn[12], line 3\u001b[0m\n\u001b[1;32m      1\u001b[0m esto_es_una_prueba \u001b[38;5;241m=\u001b[39m \u001b[38;5;124m\"\u001b[39m\u001b[38;5;124mEstamos jugando\u001b[39m\u001b[38;5;124m\"\u001b[39m\n\u001b[1;32m      2\u001b[0m un_entero \u001b[38;5;241m=\u001b[39m \u001b[38;5;241m100\u001b[39m\n\u001b[0;32m----> 3\u001b[0m \u001b[38;5;28mprint\u001b[39m(\u001b[43mesto_es_una_prueba\u001b[49m\u001b[43m \u001b[49m\u001b[38;5;241;43m+\u001b[39;49m\u001b[43m \u001b[49m\u001b[43mun_entero\u001b[49m)\n",
      "\u001b[0;31mTypeError\u001b[0m: can only concatenate str (not \"int\") to str"
     ]
    }
   ],
   "source": [
    "esto_es_una_prueba = \"Estamos jugando\"\n",
    "un_entero = 100\n",
    "print(esto_es_una_prueba + un_entero)"
   ]
  },
  {
   "cell_type": "code",
   "execution_count": 13,
   "id": "10f26544-8c96-4ae5-8b06-4bcd12c5a4ba",
   "metadata": {},
   "outputs": [
    {
     "data": {
      "text/plain": [
       "True"
      ]
     },
     "execution_count": 13,
     "metadata": {},
     "output_type": "execute_result"
    }
   ],
   "source": [
    "True"
   ]
  },
  {
   "cell_type": "code",
   "execution_count": 16,
   "id": "3d12e8f5-692a-4b5f-a515-ff16655b3a2c",
   "metadata": {},
   "outputs": [
    {
     "name": "stdout",
     "output_type": "stream",
     "text": [
      "<class 'bool'>\n",
      "False\n"
     ]
    }
   ],
   "source": [
    "ya_se_de_python = False\n",
    "print(type(ya_se_de_python))\n",
    "print(ya_se_de_python)"
   ]
  },
  {
   "cell_type": "code",
   "execution_count": 17,
   "id": "2e655bdc-6042-4e1e-8ebf-8b73b00b45bd",
   "metadata": {},
   "outputs": [
    {
     "data": {
      "text/plain": [
       "False"
      ]
     },
     "execution_count": 17,
     "metadata": {},
     "output_type": "execute_result"
    }
   ],
   "source": [
    "dinerito = 5\n",
    "dinerito >= 15"
   ]
  },
  {
   "cell_type": "code",
   "execution_count": 20,
   "id": "9f469384-5880-4082-96f7-d17249058dad",
   "metadata": {},
   "outputs": [
    {
     "name": "stdout",
     "output_type": "stream",
     "text": [
      "True\n",
      "<class 'bool'>\n"
     ]
    }
   ],
   "source": [
    "dinerito = 15\n",
    "cond_1 = dinerito >= 15\n",
    "print(cond_1)\n",
    "print(type(cond_1))"
   ]
  },
  {
   "cell_type": "code",
   "execution_count": 21,
   "id": "6bfd4ae8-802b-4703-8fa2-f61a0674d6e6",
   "metadata": {},
   "outputs": [
    {
     "name": "stdout",
     "output_type": "stream",
     "text": [
      "<class 'float'>\n"
     ]
    }
   ],
   "source": [
    "print(type(1.0))"
   ]
  },
  {
   "cell_type": "code",
   "execution_count": 22,
   "id": "0083cb96-e25f-4e59-9b44-24cb31f44ebc",
   "metadata": {},
   "outputs": [
    {
     "name": "stdout",
     "output_type": "stream",
     "text": [
      "<class 'int'>\n"
     ]
    }
   ],
   "source": [
    "print(type(-74))"
   ]
  },
  {
   "cell_type": "code",
   "execution_count": 23,
   "id": "a5ca3b19-fd3b-4f26-b337-b104ec7a15c9",
   "metadata": {},
   "outputs": [
    {
     "name": "stdout",
     "output_type": "stream",
     "text": [
      "<class 'str'>\n"
     ]
    }
   ],
   "source": [
    "print(type(\"3.45\"))"
   ]
  },
  {
   "cell_type": "code",
   "execution_count": 24,
   "id": "4092de73-4d9a-4a69-b2ee-1a4544204592",
   "metadata": {},
   "outputs": [
    {
     "name": "stdout",
     "output_type": "stream",
     "text": [
      "<class 'bool'>\n"
     ]
    }
   ],
   "source": [
    "print(type(True))"
   ]
  }
 ],
 "metadata": {
  "kernelspec": {
   "display_name": "Python 3 (ipykernel)",
   "language": "python",
   "name": "python3"
  },
  "language_info": {
   "codemirror_mode": {
    "name": "ipython",
    "version": 3
   },
   "file_extension": ".py",
   "mimetype": "text/x-python",
   "name": "python",
   "nbconvert_exporter": "python",
   "pygments_lexer": "ipython3",
   "version": "3.8.10"
  }
 },
 "nbformat": 4,
 "nbformat_minor": 5
}
