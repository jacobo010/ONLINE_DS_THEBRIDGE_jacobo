{
 "cells": [
  {
   "cell_type": "code",
   "execution_count": 42,
   "id": "b240bd9d-31ba-4161-999c-c1596d66f49d",
   "metadata": {},
   "outputs": [
    {
     "name": "stdout",
     "output_type": "stream",
     "text": [
      "[1, 3, 5, 6]\n",
      "<class 'list'>\n",
      "6\n"
     ]
    }
   ],
   "source": [
    "#Lista de numeros\n",
    "numeros = [1, 3, 5, 6]\n",
    "print(numeros)\n",
    "print(type(numeros))\n",
    "print(max(numeros))"
   ]
  },
  {
   "cell_type": "code",
   "execution_count": 5,
   "id": "978edbec-7ecb-4d4c-9bfc-f4f017f92627",
   "metadata": {},
   "outputs": [
    {
     "name": "stdout",
     "output_type": "stream",
     "text": [
      "['Esto', 'es', 'una', 'lista']\n",
      "[True, False, True, True, False]\n"
     ]
    }
   ],
   "source": [
    "#Lista de strings\n",
    "strings = [\"Esto\",\"es\",\"una\",\"lista\"]\n",
    "print(strings)\n",
    "\n",
    "#Lista de booleanos\n",
    "booleanos = [True, False, not False, True or False, False and False]\n",
    "print(booleanos)"
   ]
  },
  {
   "cell_type": "code",
   "execution_count": 11,
   "id": "5cb98eeb-9b92-4e71-971a-3300c0a17dda",
   "metadata": {},
   "outputs": [
    {
     "name": "stdout",
     "output_type": "stream",
     "text": [
      "['Esto es', 12, 34.5, True, False, 'lists']\n",
      "<class 'list'>\n",
      "['Hola', '12', 23, [True, False]]\n"
     ]
    }
   ],
   "source": [
    "#Lista de tipos mezclados\n",
    "mix = [\"Esto es\",12, 34.5, True, False, \"lists\"]\n",
    "print(mix)\n",
    "print(type(mix))\n",
    "\n",
    "#Listas dentro de listas\n",
    "listas = [\"Hola\",\"12\",23, [True, False]]\n",
    "print(listas)"
   ]
  },
  {
   "cell_type": "code",
   "execution_count": 12,
   "id": "b103f332-c048-440f-a246-b824883b51eb",
   "metadata": {},
   "outputs": [
    {
     "data": {
      "text/plain": [
       "4"
      ]
     },
     "execution_count": 12,
     "metadata": {},
     "output_type": "execute_result"
    }
   ],
   "source": [
    "len(listas)"
   ]
  },
  {
   "cell_type": "code",
   "execution_count": 14,
   "id": "5fdfa50d-6cb4-4c3a-9b15-cfd3db225a69",
   "metadata": {},
   "outputs": [
    {
     "name": "stdout",
     "output_type": "stream",
     "text": [
      "['Esto es', 12, 34.5, True, False, 'lists', 'Hola', '12', 23, [True, False]]\n",
      "<class 'list'>\n"
     ]
    }
   ],
   "source": [
    "concatenacion = mix + listas \n",
    "print(concatenacion)\n",
    "print(type(concatenacion))"
   ]
  },
  {
   "cell_type": "code",
   "execution_count": 16,
   "id": "d0f628a6-aac7-4e93-a5c4-4c7c6e30f9d8",
   "metadata": {},
   "outputs": [
    {
     "name": "stdout",
     "output_type": "stream",
     "text": [
      "['Hola', '12', 23, [True, False], 'Esto es', 12, 34.5, True, False, 'lists']\n"
     ]
    }
   ],
   "source": [
    "concatenacion_2 = listas + mix\n",
    "print(concatenacion_2)\n"
   ]
  },
  {
   "cell_type": "code",
   "execution_count": 17,
   "id": "c9aed1c4-9e8c-4d48-bd95-f97d5e0146b7",
   "metadata": {},
   "outputs": [
    {
     "data": {
      "text/plain": [
       "list"
      ]
     },
     "execution_count": 17,
     "metadata": {},
     "output_type": "execute_result"
    }
   ],
   "source": [
    "type(mix)"
   ]
  },
  {
   "cell_type": "code",
   "execution_count": 18,
   "id": "81f8abf7-108b-406f-9a13-870259cd976a",
   "metadata": {},
   "outputs": [
    {
     "data": {
      "text/plain": [
       "6"
      ]
     },
     "execution_count": 18,
     "metadata": {},
     "output_type": "execute_result"
    }
   ],
   "source": [
    "len(mix)"
   ]
  },
  {
   "cell_type": "code",
   "execution_count": 28,
   "id": "94aea4bf-908c-4ea6-abaf-588367667bd4",
   "metadata": {},
   "outputs": [
    {
     "name": "stdout",
     "output_type": "stream",
     "text": [
      "Esto\n",
      "nuevo\n",
      "patata\n",
      "3\n"
     ]
    }
   ],
   "source": [
    "lista_ejemplo = [\"Esto\",2,3,\"patata\",\"nuevo\"]\n",
    "print(lista_ejemplo[0])\n",
    "print(lista_ejemplo[-1])\n",
    "print(lista_ejemplo[-2])\n",
    "print(lista_ejemplo[2])"
   ]
  },
  {
   "cell_type": "code",
   "execution_count": 41,
   "id": "cad0aa01-6d68-4934-87ec-164ac54b2a35",
   "metadata": {},
   "outputs": [
    {
     "name": "stdout",
     "output_type": "stream",
     "text": [
      "['Fisica', 'Quimica', 'Literatura', 'Filosofia']\n",
      "['Fisica', 'Gym', 'Quimica', 'Literatura', 'Filosofia']\n",
      "['Fisica', 'Quimica', 'Literatura', 'Filosofia']\n"
     ]
    },
    {
     "data": {
      "text/plain": [
       "['Fisica', 'Quimica', 'Literatura']"
      ]
     },
     "execution_count": 41,
     "metadata": {},
     "output_type": "execute_result"
    }
   ],
   "source": [
    "asignaturas = [\"Fisica\",\"Quimica\",\"Literatura\"]\n",
    "\n",
    "#Añadir un elemento a una lista\n",
    "asignaturas.append(\"Filosofia\")\n",
    "print(asignaturas)\n",
    "\n",
    "#Añadir elementos en una posicion determinada\n",
    "asignaturas.insert(1,\"Gym\")\n",
    "print(asignaturas)\n",
    "\n",
    "#Quitar elementos\n",
    "#asignaturas.clear()\n",
    "#print(asignaturas)\n",
    "\n",
    "#Quitar un elemento a partir de su índice o posición\n",
    "asignaturas.pop(1)\n",
    "print(asignaturas)\n",
    "\n",
    "#Quitar un elemento por su valor\n",
    "asignaturas.remove(\"Filosofia\")\n",
    "asignaturas"
   ]
  },
  {
   "cell_type": "code",
   "execution_count": 3,
   "id": "028a3f64-5384-45d3-97e6-a672c9df8ee8",
   "metadata": {},
   "outputs": [
    {
     "name": "stdout",
     "output_type": "stream",
     "text": [
      "1\n",
      "2\n"
     ]
    }
   ],
   "source": [
    "months = [\"Enero\", \"Febrero\", \"Marzo\", \"Marzo\"]\n",
    "print(months.index(\"Febrero\"))\n",
    "print(months.index(\"Marzo\"))"
   ]
  },
  {
   "cell_type": "code",
   "execution_count": 21,
   "id": "a59aad73-b6d5-484d-b365-dc51c0e7963d",
   "metadata": {},
   "outputs": [
    {
     "name": "stdout",
     "output_type": "stream",
     "text": [
      "[34, 15, 26]\n",
      "[34, 15, 26, 18, 22]\n",
      "[34, 15, 26, 18, 22]\n",
      "[34, 15, 26, 18, 22]\n"
     ]
    }
   ],
   "source": [
    "degrees = [22, 34, 15, 26, 18, 22]\n",
    "sub_degrees = degrees [1:4] #No se incluye el último índice, \n",
    "#si no el anterior\n",
    "print(sub_degrees)\n",
    "sub_degrees = degrees [1:6]\n",
    "print(sub_degrees)\n",
    "sub_degrees_alt = degrees[1:len(degrees)]\n",
    "print(sub_degrees_alt)\n",
    "sub_degrees_alt_2 = degrees[1:]\n",
    "print(sub_degrees_alt_2)"
   ]
  },
  {
   "cell_type": "code",
   "execution_count": 22,
   "id": "b176638b-b204-407c-a651-d3324b8d3b89",
   "metadata": {},
   "outputs": [
    {
     "name": "stdout",
     "output_type": "stream",
     "text": [
      "['Enero', 'Abril', 'Marzo', 'Marzo']\n"
     ]
    }
   ],
   "source": [
    "months [1] = \"Abril\"\n",
    "print(months)"
   ]
  },
  {
   "cell_type": "code",
   "execution_count": 29,
   "id": "b8e30981-6974-4694-a2b6-88425eb5874b",
   "metadata": {},
   "outputs": [
    {
     "name": "stdout",
     "output_type": "stream",
     "text": [
      "['honda', 'yamaha', 'suzuki', 'kawasaki']\n",
      "['honda', 'yamaha', 'suzuki', 'bultaco', 'kawasaki']\n"
     ]
    }
   ],
   "source": [
    "motorcycles = [\"honda\", \"yamaha\", \"suzuki\"]\n",
    "motorcycles.append(\"kawasaki\",)\n",
    "print(motorcycles)\n",
    "motorcycles.insert(3, \"bultaco\")\n",
    "print(motorcycles)\n",
    "            \n",
    "                   "
   ]
  },
  {
   "cell_type": "code",
   "execution_count": 31,
   "id": "d1d12df5-5483-4de4-8500-b0a65898019d",
   "metadata": {},
   "outputs": [
    {
     "name": "stdout",
     "output_type": "stream",
     "text": [
      "['primera marca']\n",
      "['siguiente marca', 'primera marca']\n"
     ]
    }
   ],
   "source": [
    "lista_motos = []\n",
    "lista_motos.append(\"primera marca\")\n",
    "print(lista_motos)\n",
    "lista_motos.insert(0,\"siguiente marca\")\n",
    "print(lista_motos)"
   ]
  },
  {
   "cell_type": "code",
   "execution_count": 39,
   "id": "9b782ca1-f3c0-4460-bc61-3377e46a6a95",
   "metadata": {},
   "outputs": [
    {
     "name": "stdout",
     "output_type": "stream",
     "text": [
      "['Seat', 'BMW', 'VW']\n",
      "BMW\n"
     ]
    }
   ],
   "source": [
    "coches = [\"VW\", \"Seat\", \"BMW\", \"VW\"]\n",
    "coches.remove (\"VW\")\n",
    "print(coches)\n",
    "eliminado = coches.pop(1)\n",
    "print(eliminado)"
   ]
  },
  {
   "cell_type": "code",
   "execution_count": 49,
   "id": "0cde095c-4aec-475b-a84f-25693f0bdbb9",
   "metadata": {},
   "outputs": [
    {
     "name": "stdout",
     "output_type": "stream",
     "text": [
      "[15, 18, 22, 22, 26, 34]\n",
      "[34, 26, 22, 22, 18, 15]\n",
      "6\n",
      "[15, 18, 22, 22, 26, 34]\n",
      "2\n"
     ]
    },
    {
     "ename": "IndexError",
     "evalue": "list index out of range",
     "output_type": "error",
     "traceback": [
      "\u001b[0;31m---------------------------------------------------------------------------\u001b[0m",
      "\u001b[0;31mIndexError\u001b[0m                                Traceback (most recent call last)",
      "Cell \u001b[0;32mIn[49], line 16\u001b[0m\n\u001b[1;32m     14\u001b[0m \u001b[38;5;66;03m#Ocurrencias de un elemento\u001b[39;00m\n\u001b[1;32m     15\u001b[0m \u001b[38;5;28mprint\u001b[39m(degrees\u001b[38;5;241m.\u001b[39mcount(\u001b[38;5;241m22\u001b[39m))\n\u001b[0;32m---> 16\u001b[0m \u001b[38;5;28mprint\u001b[39m(\u001b[43mdegrees\u001b[49m\u001b[43m[\u001b[49m\u001b[38;5;241;43m123\u001b[39;49m\u001b[43m]\u001b[49m)\n",
      "\u001b[0;31mIndexError\u001b[0m: list index out of range"
     ]
    }
   ],
   "source": [
    "degrees = [22, 34, 15, 26, 18, 22]\n",
    "degrees.sort()\n",
    "print(degrees)\n",
    "degrees.sort(reverse = True)\n",
    "print(degrees)\n",
    "\n",
    "#Contar el numero de elementos\n",
    "print(len(degrees))\n",
    "\n",
    "#Invertir la lista\n",
    "degrees.reverse()\n",
    "print(degrees)\n",
    "\n",
    "#Ocurrencias de un elemento\n",
    "print(degrees.count(22))\n",
    "print(degrees[123])\n"
   ]
  },
  {
   "cell_type": "code",
   "execution_count": 53,
   "id": "5516effc-5ad8-4cd9-a310-3d649d26d9a5",
   "metadata": {},
   "outputs": [
    {
     "name": "stdout",
     "output_type": "stream",
     "text": [
      "34\n"
     ]
    }
   ],
   "source": [
    "ultimo_elemento = degrees[len(degrees)-1]\n",
    "print(ultimo_elemento)"
   ]
  }
 ],
 "metadata": {
  "kernelspec": {
   "display_name": "Python 3 (ipykernel)",
   "language": "python",
   "name": "python3"
  },
  "language_info": {
   "codemirror_mode": {
    "name": "ipython",
    "version": 3
   },
   "file_extension": ".py",
   "mimetype": "text/x-python",
   "name": "python",
   "nbconvert_exporter": "python",
   "pygments_lexer": "ipython3",
   "version": "3.8.10"
  }
 },
 "nbformat": 4,
 "nbformat_minor": 5
}
