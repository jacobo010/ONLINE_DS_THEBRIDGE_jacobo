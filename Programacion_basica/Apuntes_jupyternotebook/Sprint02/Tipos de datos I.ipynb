{
 "cells": [
  {
   "cell_type": "code",
   "execution_count": 1,
   "id": "c50a0b9e-8434-45bd-938c-3562a4b49327",
   "metadata": {},
   "outputs": [
    {
     "name": "stdout",
     "output_type": "stream",
     "text": [
      "<class 'float'>\n"
     ]
    }
   ],
   "source": [
    "numero_real = 22.0\n",
    "print (type(numero_real))"
   ]
  },
  {
   "cell_type": "code",
   "execution_count": 2,
   "id": "3b94a4e3-2044-4437-9954-1fd8797ae270",
   "metadata": {},
   "outputs": [
    {
     "data": {
      "text/plain": [
       "float"
      ]
     },
     "execution_count": 2,
     "metadata": {},
     "output_type": "execute_result"
    }
   ],
   "source": [
    "numero_real_decimales = 22.45123\n",
    "type(numero_real_decimales)"
   ]
  },
  {
   "cell_type": "code",
   "execution_count": 4,
   "id": "3757325b-40e6-40ff-8bef-2a8a468bf239",
   "metadata": {},
   "outputs": [
    {
     "name": "stdout",
     "output_type": "stream",
     "text": [
      "sumas y restas\n",
      "3\n",
      "3.0\n",
      "-1.0\n"
     ]
    }
   ],
   "source": [
    "print(\"sumas y restas\")\n",
    "print (1+ 2)\n",
    "print (1.0 + 2)\n",
    "print (1.0 -2)"
   ]
  },
  {
   "cell_type": "code",
   "execution_count": 5,
   "id": "bd4e9738-38da-477d-8989-d9433d77965f",
   "metadata": {},
   "outputs": [
    {
     "name": "stdout",
     "output_type": "stream",
     "text": [
      "Mult y divisiones\n",
      "4.0\n",
      "1.0\n"
     ]
    }
   ],
   "source": [
    "print(\"Mult y divisiones\")\n",
    "print(2.0 * 2)\n",
    "print(2/2)"
   ]
  },
  {
   "cell_type": "code",
   "execution_count": 6,
   "id": "e0cb7aea-dbd2-4c99-99bf-582109d7e31a",
   "metadata": {},
   "outputs": [
    {
     "name": "stdout",
     "output_type": "stream",
     "text": [
      "Resto Division\n",
      "3.3333333333333335\n",
      "3\n",
      "1\n",
      "3\n"
     ]
    }
   ],
   "source": [
    "print(\"Resto Division\")\n",
    "print(10/3)\n",
    "print(int(10/3))\n",
    "print(10 % 3)\n",
    "print (10 // 3)"
   ]
  },
  {
   "cell_type": "code",
   "execution_count": 11,
   "id": "01eef2b1-8c74-4d65-b402-b2c9f67a2abf",
   "metadata": {},
   "outputs": [
    {
     "name": "stdout",
     "output_type": "stream",
     "text": [
      "¿Es 23 par?\n",
      "El resto es 1\n",
      "Es impar\n"
     ]
    }
   ],
   "source": [
    "n = 23\n",
    "print(\"¿Es\", n , \"par?\")\n",
    "resto = n % 2\n",
    "print(\"El resto es\", resto)\n",
    "if resto == 0:\n",
    "    print(\"Es par\")\n",
    "else:\n",
    "    print(\"Es impar\")\n",
    "    "
   ]
  },
  {
   "cell_type": "code",
   "execution_count": null,
   "id": "25f5aca0-bc57-49be-aeab-67cf6ede81af",
   "metadata": {},
   "outputs": [],
   "source": []
  }
 ],
 "metadata": {
  "kernelspec": {
   "display_name": "Python 3 (ipykernel)",
   "language": "python",
   "name": "python3"
  },
  "language_info": {
   "codemirror_mode": {
    "name": "ipython",
    "version": 3
   },
   "file_extension": ".py",
   "mimetype": "text/x-python",
   "name": "python",
   "nbconvert_exporter": "python",
   "pygments_lexer": "ipython3",
   "version": "3.8.10"
  }
 },
 "nbformat": 4,
 "nbformat_minor": 5
}
