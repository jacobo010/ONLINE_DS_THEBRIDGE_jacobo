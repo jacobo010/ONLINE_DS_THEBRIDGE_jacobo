{
 "cells": [
  {
   "cell_type": "code",
   "execution_count": 2,
   "id": "6d740df5-2287-42af-861b-13b4c3fcc8b5",
   "metadata": {},
   "outputs": [
    {
     "name": "stdout",
     "output_type": "stream",
     "text": [
      "10.440000000000001\n",
      "<class 'float'>\n",
      "27.200000000000003 <class 'float'>\n",
      "6344.4915542360095 <class 'float'>\n",
      "0.9191176470588235 \n",
      " 5.0 \n",
      " 0.0\n"
     ]
    }
   ],
   "source": [
    "entero = 5\n",
    "real = 5.44\n",
    "suma_vars = entero + real\n",
    "print(suma_vars)\n",
    "print(type(suma_vars))\n",
    "multiplica_vars = entero * real\n",
    "print(multiplica_vars,type(multiplica_vars))\n",
    "potencia = entero ** real\n",
    "print(potencia,type(potencia))\n",
    "division_vars = entero / real\n",
    "cociente = entero // real\n",
    "resto = entero % real\n",
    "print(division_vars,\"\\n\",resto,\"\\n\",cociente)"
   ]
  },
  {
   "cell_type": "code",
   "execution_count": 4,
   "id": "75636ca8-343c-49fc-8527-56147bd296c8",
   "metadata": {},
   "outputs": [
    {
     "name": "stdout",
     "output_type": "stream",
     "text": [
      "5.0\n",
      "1.0\n",
      "123.45\n"
     ]
    }
   ],
   "source": [
    "import math\n",
    "print(math.sqrt(25))\n",
    "print(math.cos(0))\n",
    "print(math.fabs(-123.45))"
   ]
  },
  {
   "cell_type": "code",
   "execution_count": 5,
   "id": "efa5da53-df85-47d1-8a47-5870def49940",
   "metadata": {},
   "outputs": [
    {
     "ename": "ValueError",
     "evalue": "math domain error",
     "output_type": "error",
     "traceback": [
      "\u001b[0;31m---------------------------------------------------------------------------\u001b[0m",
      "\u001b[0;31mValueError\u001b[0m                                Traceback (most recent call last)",
      "Cell \u001b[0;32mIn[5], line 1\u001b[0m\n\u001b[0;32m----> 1\u001b[0m \u001b[43mmath\u001b[49m\u001b[38;5;241;43m.\u001b[39;49m\u001b[43msqrt\u001b[49m\u001b[43m(\u001b[49m\u001b[38;5;241;43m-\u001b[39;49m\u001b[38;5;241;43m12\u001b[39;49m\u001b[43m)\u001b[49m\n",
      "\u001b[0;31mValueError\u001b[0m: math domain error"
     ]
    }
   ],
   "source": [
    "math.sqrt(-12)"
   ]
  },
  {
   "cell_type": "code",
   "execution_count": 8,
   "id": "386bce5e-a2a9-41b2-9355-59099ad5d7e9",
   "metadata": {},
   "outputs": [
    {
     "name": "stdout",
     "output_type": "stream",
     "text": [
      "1\n",
      "False\n"
     ]
    }
   ],
   "source": [
    "asign = 1\n",
    "print(asign)\n",
    "print(asign == 5)"
   ]
  },
  {
   "cell_type": "code",
   "execution_count": 13,
   "id": "49476f80-118a-499f-a3a6-3f57c7b7b839",
   "metadata": {},
   "outputs": [
    {
     "name": "stdout",
     "output_type": "stream",
     "text": [
      "False\n",
      "True\n",
      "True\n",
      "True\n",
      "False\n"
     ]
    }
   ],
   "source": [
    "print(\"AAA\" == \"BBB\")\n",
    "print(\"AAA\" == \"AAA\")\n",
    "print (93 > 12)\n",
    "print (1 == 1)\n",
    "print(93 <= 12)"
   ]
  },
  {
   "cell_type": "code",
   "execution_count": 16,
   "id": "954699b0-517f-4b8e-a747-1dfedc3421e3",
   "metadata": {},
   "outputs": [
    {
     "name": "stdout",
     "output_type": "stream",
     "text": [
      "False\n",
      "False\n"
     ]
    }
   ],
   "source": [
    "print(\"1\" == 1)\n",
    "print(\"Hola\" == True)"
   ]
  },
  {
   "cell_type": "code",
   "execution_count": null,
   "id": "3465e9c8-0b03-4bf4-9e2e-f233947899f9",
   "metadata": {},
   "outputs": [],
   "source": []
  }
 ],
 "metadata": {
  "kernelspec": {
   "display_name": "Python 3 (ipykernel)",
   "language": "python",
   "name": "python3"
  },
  "language_info": {
   "codemirror_mode": {
    "name": "ipython",
    "version": 3
   },
   "file_extension": ".py",
   "mimetype": "text/x-python",
   "name": "python",
   "nbconvert_exporter": "python",
   "pygments_lexer": "ipython3",
   "version": "3.8.10"
  }
 },
 "nbformat": 4,
 "nbformat_minor": 5
}
