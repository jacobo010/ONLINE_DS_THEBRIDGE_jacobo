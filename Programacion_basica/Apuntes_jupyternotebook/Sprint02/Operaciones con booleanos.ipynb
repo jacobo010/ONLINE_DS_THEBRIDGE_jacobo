{
 "cells": [
  {
   "cell_type": "code",
   "execution_count": 2,
   "id": "c071a638-406b-4245-b972-3f15d09742e1",
   "metadata": {},
   "outputs": [],
   "source": [
    "ram1 = 32\n",
    "process1 = \"i5\"\n",
    "disco1 = 500\n",
    "precio1 = 850\n",
    "\n",
    "ram2 = 8\n",
    "process2 = \"i5\"\n",
    "disco2 = 500\n",
    "precio2 = 600\n",
    "\n",
    "ram3 = 32\n",
    "process3 = \"i3\"\n",
    "disco3 = 500\n",
    "precio3 = 780"
   ]
  },
  {
   "cell_type": "code",
   "execution_count": 7,
   "id": "e70ea596-1765-4f17-9c90-2d85e6ba3a5b",
   "metadata": {},
   "outputs": [
    {
     "name": "stdout",
     "output_type": "stream",
     "text": [
      "False True False False\n"
     ]
    }
   ],
   "source": [
    "cond_ram1 = (ram1 == 16 or ram1 == 32 or ram1 == 64)\n",
    "cond_process1 = (process1 == \"i3\" and disco1 == 500)\n",
    "cond_precio1 = (precio1 < 800)\n",
    "cond_total1 = cond_ram1 and cond_process1 and cond_precio1\n",
    "print(cond_total1, cond_ram1, cond_process1, cond_precio1)"
   ]
  },
  {
   "cell_type": "code",
   "execution_count": 9,
   "id": "f207231f-2fd7-4007-a805-369347b1959f",
   "metadata": {},
   "outputs": [
    {
     "name": "stdout",
     "output_type": "stream",
     "text": [
      "False False False True\n"
     ]
    }
   ],
   "source": [
    "cond_ram2 = (ram2 == 16 or ram2 == 32 or ram2 == 64)\n",
    "cond_process2 = (process2 == \"i3\" and disco2 == 500)\n",
    "cond_precio2 = (precio2 < 800)\n",
    "cond_total2 = cond_ram2 and cond_process2 and cond_precio2\n",
    "print(cond_total2, cond_ram2, cond_process2, cond_precio2)"
   ]
  },
  {
   "cell_type": "code",
   "execution_count": 10,
   "id": "e30953f8-58ca-4f10-afa5-464a930ccf81",
   "metadata": {},
   "outputs": [
    {
     "name": "stdout",
     "output_type": "stream",
     "text": [
      "True True True True\n"
     ]
    }
   ],
   "source": [
    "cond_ram3 = (ram3 == 16 or ram3 == 32 or ram3 == 64)\n",
    "cond_process3 = (process3 == \"i3\" and disco3 == 500)\n",
    "cond_precio3 = (precio3 < 800)\n",
    "cond_total3 = cond_ram3 and cond_process3 and cond_precio3\n",
    "print(cond_total3, cond_ram3, cond_process3, cond_precio3)"
   ]
  },
  {
   "cell_type": "code",
   "execution_count": null,
   "id": "e82a0193-53e1-46c0-8665-746ad1bfc9e6",
   "metadata": {},
   "outputs": [],
   "source": []
  }
 ],
 "metadata": {
  "kernelspec": {
   "display_name": "Python 3 (ipykernel)",
   "language": "python",
   "name": "python3"
  },
  "language_info": {
   "codemirror_mode": {
    "name": "ipython",
    "version": 3
   },
   "file_extension": ".py",
   "mimetype": "text/x-python",
   "name": "python",
   "nbconvert_exporter": "python",
   "pygments_lexer": "ipython3",
   "version": "3.8.10"
  }
 },
 "nbformat": 4,
 "nbformat_minor": 5
}
