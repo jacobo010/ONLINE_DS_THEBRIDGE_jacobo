{
 "cells": [
  {
   "cell_type": "code",
   "execution_count": 4,
   "id": "a1b32672-4ba1-4127-97a8-72c1a5d00a7f",
   "metadata": {},
   "outputs": [
    {
     "name": "stdout",
     "output_type": "stream",
     "text": [
      "33\n",
      "25\n"
     ]
    }
   ],
   "source": [
    "print(len(\"Esto es una cadena de longitud...\"))\n",
    "print(max(1,12,13,24,25,6,))"
   ]
  },
  {
   "cell_type": "code",
   "execution_count": 7,
   "id": "0d4bda91-9117-4221-84d3-0f661142a8c5",
   "metadata": {},
   "outputs": [
    {
     "name": "stdout",
     "output_type": "stream",
     "text": [
      "La longitud de esta cadena es**test**29\n"
     ]
    }
   ],
   "source": [
    "cadena = \"La longitud de esta cadena es\"\n",
    "print(cadena, len(cadena), sep = \"**test**\")"
   ]
  },
  {
   "cell_type": "code",
   "execution_count": 20,
   "id": "dfa24e21-bfe3-4e10-b2d5-214e65b6086b",
   "metadata": {},
   "outputs": [
    {
     "name": "stdout",
     "output_type": "stream",
     "text": [
      "STRING EN MINUSCULAS\n",
      "esto es un ejemplo diferente\n",
      "esto es diferente\n",
      "ctring en minucculac\n",
      "string en minúsculas\n",
      "tring en minucula\n",
      "['Esto', 'se', 'va', 'a', 'convertir', 'en', 'una', 'lista', 'de', 'strings']\n",
      "10\n"
     ]
    }
   ],
   "source": [
    "string_ejemplo = \"string en minusculas\"\n",
    "\n",
    "#Metodo para poner un string todo en mayusculas\n",
    "print(string_ejemplo.upper())\n",
    "\n",
    "#Metodo para poner un string todo en minusculas\n",
    "print(\"ESTO ES UN EJEMPLO DIFERENTE\".lower())\n",
    "string_ejemplo_2 = \"ESTO ES DIFERENTE\"\n",
    "print(string_ejemplo_2.lower())\n",
    "\n",
    "#Metodo para reemplazar algún caracter o varios\n",
    "print (string_ejemplo.replace(\"s\",\"c\"))\n",
    "print(string_ejemplo.replace(\"minusculas\", \"minúsculas\"))\n",
    "print(string_ejemplo.replace(\"s\", \"\"))\n",
    "\n",
    "#Metodo para convertir un string en una lista\n",
    "print(\"Esto se va a convertir en una lista de strings\".split())\n",
    "\n",
    "#Método para conocer la posición dentro de un string\n",
    "print(string_ejemplo.index(\"m\"))"
   ]
  },
  {
   "cell_type": "code",
   "execution_count": 22,
   "id": "aee63455-02d2-43a1-88a1-67e2ab0cdc20",
   "metadata": {},
   "outputs": [
    {
     "ename": "TypeError",
     "evalue": "replace expected at least 2 arguments, got 0",
     "output_type": "error",
     "traceback": [
      "\u001b[0;31m---------------------------------------------------------------------------\u001b[0m",
      "\u001b[0;31mTypeError\u001b[0m                                 Traceback (most recent call last)",
      "Cell \u001b[0;32mIn[22], line 1\u001b[0m\n\u001b[0;32m----> 1\u001b[0m \u001b[43mstring_ejemplo\u001b[49m\u001b[38;5;241;43m.\u001b[39;49m\u001b[43mreplace\u001b[49m\u001b[43m(\u001b[49m\u001b[43m)\u001b[49m\n",
      "\u001b[0;31mTypeError\u001b[0m: replace expected at least 2 arguments, got 0"
     ]
    }
   ],
   "source": [
    "string_ejemplo.replace()\n",
    "#Hay que darle dos argumentos como minimo para que replace funcione"
   ]
  },
  {
   "cell_type": "code",
   "execution_count": null,
   "id": "2aea928e-929f-48c1-9b58-40a335ffe2cf",
   "metadata": {},
   "outputs": [],
   "source": []
  }
 ],
 "metadata": {
  "kernelspec": {
   "display_name": "Python 3 (ipykernel)",
   "language": "python",
   "name": "python3"
  },
  "language_info": {
   "codemirror_mode": {
    "name": "ipython",
    "version": 3
   },
   "file_extension": ".py",
   "mimetype": "text/x-python",
   "name": "python",
   "nbconvert_exporter": "python",
   "pygments_lexer": "ipython3",
   "version": "3.8.10"
  }
 },
 "nbformat": 4,
 "nbformat_minor": 5
}
