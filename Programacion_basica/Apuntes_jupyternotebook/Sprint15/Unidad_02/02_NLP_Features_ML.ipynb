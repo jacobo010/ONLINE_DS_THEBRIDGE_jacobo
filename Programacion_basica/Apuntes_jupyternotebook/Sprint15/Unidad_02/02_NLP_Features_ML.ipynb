{
  "cells": [
    {
      "cell_type": "markdown",
      "metadata": {
        "id": "nXUBvSjqQl9G"
      },
      "source": [
        "![image-2.png](attachment:image-2.png)"
      ]
    },
    {
      "cell_type": "markdown",
      "metadata": {
        "id": "8g8Y9OcZQl9I"
      },
      "source": [
        "## APLICACIONES ML (II): Procesamiento de Lenguaje Natural (NLP)"
      ]
    },
    {
      "cell_type": "markdown",
      "metadata": {
        "id": "nBNjhsqwQl9J"
      },
      "source": [
        "El departamento de marketing de un sistema de streaming (Showtimes) quiere clasificar automáticamente las reviews de los usuarios de su servicio fremium en el que dejan que estos puedan ver parte de su catálogo a cambio de que hagan valoraciones de las películas y series que ven. En concreto están interesados en saber hasta qué punto una review es positiva o negativa a partir de un dataset etiquetado por expertos que han revisado miles de reviews (25K) y las han etiquetado como positivas o negativas. Ahora quieren tener un sistema de ayuda al etiquetado y de preclasificación.  \n",
        "\n",
        "En definitiva, sobre un dataset que ya tienen trabajado quieren que les creemos un modelo que dada una review la clasifique en positiva o negativa. Pero sobre todo están interesados en que su sistema detecte las reviews negativas al mayor porcentaje posible para estar a tiempo de reaccionar con el contenido. Una vez clasificadas como negativas pasarían a un segundo nivel de revisión pero no quieren dejar pasarlas y tampoco sobrecargar este sistema por lo que a pesar de querer una detección alta, necesitan que el sistema no se equivoque más de un 30% cuando diga que una review es negativa."
      ]
    },
    {
      "cell_type": "markdown",
      "metadata": {
        "id": "D0h9p2CIQl9J"
      },
      "source": [
        "### Paso I: Entendiendo el problema"
      ]
    },
    {
      "cell_type": "markdown",
      "metadata": {
        "id": "E_IfMZ6LQl9K"
      },
      "source": [
        "En este caso, entender el problema es:\n",
        "1. Saber que se trataría de un aprendizaje supervisado (datos etiquetados en positivas y negativas)\n",
        "2. Saber que es un clasficador binario.\n",
        "3. Saber que tendremos que tratar texto en lenguaje natural (las reviews) y no formal, ni escrito literariamente.\n",
        "4. Entender que la métrica que se pide es el recall de las reviews negativa con una precision de más de un 70% de dicha clase."
      ]
    },
    {
      "cell_type": "markdown",
      "metadata": {
        "id": "AnIf1RJFQl9K"
      },
      "source": [
        "### Paso II: Obtención de los datos y primer vistazo (y split train y test)"
      ]
    },
    {
      "cell_type": "markdown",
      "metadata": {
        "id": "vlk4xGC-Ql9K"
      },
      "source": [
        "Antes de obtener los datos, vamos a hacer nuestra carga de librerías y modulos necesarios:"
      ]
    },
    {
      "cell_type": "code",
      "execution_count": null,
      "metadata": {
        "id": "lMIaO4QvQl9K"
      },
      "outputs": [],
      "source": [
        "import bootcampviztools as bt\n",
        "import numpy as np\n",
        "import pandas as pd\n",
        "import re\n",
        "#import osm\n",
        "#import reb\n",
        "#import warnings\n",
        "#warnings.filterwarnings(\"ignore\")\n",
        "\n",
        "\n",
        "from sklearn.metrics import classification_report\n",
        "from sklearn.model_selection import train_test_split, cross_val_score, GridSearchCV\n",
        "\n"
      ]
    },
    {
      "cell_type": "markdown",
      "metadata": {
        "id": "qG9Lg6q7Ql9L"
      },
      "source": [
        "Vamos a cargar el dataset del modulo de datasets que tiene Python, simulando que es Showtimes la que nos envía la info:"
      ]
    },
    {
      "cell_type": "code",
      "execution_count": 3,
      "metadata": {
        "colab": {
          "base_uri": "https://localhost:8080/"
        },
        "id": "p-wcm3AdQl9L",
        "outputId": "4f64d4e6-bb63-40f7-edd7-e230fb38b2d1"
      },
      "outputs": [
        {
          "name": "stderr",
          "output_type": "stream",
          "text": [
            "c:\\Users\\usuar\\AppData\\Local\\Programs\\Python\\Python312\\Lib\\site-packages\\tqdm\\auto.py:21: TqdmWarning: IProgress not found. Please update jupyter and ipywidgets. See https://ipywidgets.readthedocs.io/en/stable/user_install.html\n",
            "  from .autonotebook import tqdm as notebook_tqdm\n",
            "c:\\Users\\usuar\\AppData\\Local\\Programs\\Python\\Python312\\Lib\\site-packages\\huggingface_hub\\file_download.py:142: UserWarning: `huggingface_hub` cache-system uses symlinks by default to efficiently store duplicated files but your machine does not support them in C:\\Users\\usuar\\.cache\\huggingface\\hub\\datasets--imdb. Caching files will still work but in a degraded version that might require more space on your disk. This warning can be disabled by setting the `HF_HUB_DISABLE_SYMLINKS_WARNING` environment variable. For more details, see https://huggingface.co/docs/huggingface_hub/how-to-cache#limitations.\n",
            "To support symlinks on Windows, you either need to activate Developer Mode or to run Python as an administrator. In order to activate developer mode, see this article: https://docs.microsoft.com/en-us/windows/apps/get-started/enable-your-device-for-development\n",
            "  warnings.warn(message)\n",
            "Generating train split: 100%|██████████| 25000/25000 [00:00<00:00, 221697.04 examples/s]\n",
            "Generating test split: 100%|██████████| 25000/25000 [00:00<00:00, 353152.21 examples/s]\n",
            "Generating unsupervised split: 100%|██████████| 50000/50000 [00:00<00:00, 361883.04 examples/s]\n"
          ]
        }
      ],
      "source": [
        "from datasets import load_dataset\n",
        "\n",
        "reviews_ds = load_dataset(\"imdb\", split=\"train\")"
      ]
    },
    {
      "cell_type": "code",
      "execution_count": 4,
      "metadata": {
        "colab": {
          "base_uri": "https://localhost:8080/"
        },
        "id": "nwK8iIg9Ql9M",
        "outputId": "99f6709e-19ac-4e62-a6c1-c71876edc2a5"
      },
      "outputs": [
        {
          "data": {
            "text/plain": [
              "['I rented I AM CURIOUS-YELLOW from my video store because of all the controversy that surrounded it when it was first released in 1967. I also heard that at first it was seized by U.S. customs if it ever tried to enter this country, therefore being a fan of films considered \"controversial\" I really had to see this for myself.<br /><br />The plot is centered around a young Swedish drama student named Lena who wants to learn everything she can about life. In particular she wants to focus her attentions to making some sort of documentary on what the average Swede thought about certain political issues such as the Vietnam War and race issues in the United States. In between asking politicians and ordinary denizens of Stockholm about their opinions on politics, she has sex with her drama teacher, classmates, and married men.<br /><br />What kills me about I AM CURIOUS-YELLOW is that 40 years ago, this was considered pornographic. Really, the sex and nudity scenes are few and far between, even then it\\'s not shot like some cheaply made porno. While my countrymen mind find it shocking, in reality sex and nudity are a major staple in Swedish cinema. Even Ingmar Bergman, arguably their answer to good old boy John Ford, had sex scenes in his films.<br /><br />I do commend the filmmakers for the fact that any sex shown in the film is shown for artistic purposes rather than just to shock people and make money to be shown in pornographic theaters in America. I AM CURIOUS-YELLOW is a good film for anyone wanting to study the meat and potatoes (no pun intended) of Swedish cinema. But really, this film doesn\\'t have much of a plot.',\n",
              " '\"I Am Curious: Yellow\" is a risible and pretentious steaming pile. It doesn\\'t matter what one\\'s political views are because this film can hardly be taken seriously on any level. As for the claim that frontal male nudity is an automatic NC-17, that isn\\'t true. I\\'ve seen R-rated films with male nudity. Granted, they only offer some fleeting views, but where are the R-rated films with gaping vulvas and flapping labia? Nowhere, because they don\\'t exist. The same goes for those crappy cable shows: schlongs swinging in the breeze but not a clitoris in sight. And those pretentious indie movies like The Brown Bunny, in which we\\'re treated to the site of Vincent Gallo\\'s throbbing johnson, but not a trace of pink visible on Chloe Sevigny. Before crying (or implying) \"double-standard\" in matters of nudity, the mentally obtuse should take into account one unavoidably obvious anatomical difference between men and women: there are no genitals on display when actresses appears nude, and the same cannot be said for a man. In fact, you generally won\\'t see female genitals in an American film in anything short of porn or explicit erotica. This alleged double-standard is less a double standard than an admittedly depressing ability to come to terms culturally with the insides of women\\'s bodies.']"
            ]
          },
          "execution_count": 4,
          "metadata": {},
          "output_type": "execute_result"
        }
      ],
      "source": [
        "reviews_ds[\"text\"][0:2]"
      ]
    },
    {
      "cell_type": "code",
      "execution_count": 5,
      "metadata": {
        "colab": {
          "base_uri": "https://localhost:8080/"
        },
        "id": "9oZxpGvLQl9M",
        "outputId": "6b331551-7e94-45cb-81cc-b036e6d3a812"
      },
      "outputs": [
        {
          "data": {
            "text/plain": [
              "[0, 0]"
            ]
          },
          "execution_count": 5,
          "metadata": {},
          "output_type": "execute_result"
        }
      ],
      "source": [
        "reviews_ds[\"label\"][0:2]"
      ]
    },
    {
      "cell_type": "markdown",
      "metadata": {
        "id": "In1nkWwKQl9M"
      },
      "source": [
        "Vamos a transformarlo en un dataframe:"
      ]
    },
    {
      "cell_type": "code",
      "execution_count": 6,
      "metadata": {
        "id": "qCYrVTf5Ql9M"
      },
      "outputs": [],
      "source": [
        "df = pd.DataFrame( {\"reseña\":reviews_ds[\"text\"], \"valoración\": reviews_ds[\"label\"]})"
      ]
    },
    {
      "cell_type": "markdown",
      "metadata": {
        "id": "a1ja4JcuQl9N"
      },
      "source": [
        "Vamos con el vistazo:"
      ]
    },
    {
      "cell_type": "code",
      "execution_count": 7,
      "metadata": {
        "colab": {
          "base_uri": "https://localhost:8080/",
          "height": 206
        },
        "id": "Tankw6DnQl9N",
        "outputId": "7514332a-8ace-441f-bd25-a3cd3507a79b",
        "scrolled": true
      },
      "outputs": [
        {
          "data": {
            "text/html": [
              "<div>\n",
              "<style scoped>\n",
              "    .dataframe tbody tr th:only-of-type {\n",
              "        vertical-align: middle;\n",
              "    }\n",
              "\n",
              "    .dataframe tbody tr th {\n",
              "        vertical-align: top;\n",
              "    }\n",
              "\n",
              "    .dataframe thead th {\n",
              "        text-align: right;\n",
              "    }\n",
              "</style>\n",
              "<table border=\"1\" class=\"dataframe\">\n",
              "  <thead>\n",
              "    <tr style=\"text-align: right;\">\n",
              "      <th></th>\n",
              "      <th>reseña</th>\n",
              "      <th>valoración</th>\n",
              "    </tr>\n",
              "  </thead>\n",
              "  <tbody>\n",
              "    <tr>\n",
              "      <th>0</th>\n",
              "      <td>I rented I AM CURIOUS-YELLOW from my video sto...</td>\n",
              "      <td>0</td>\n",
              "    </tr>\n",
              "    <tr>\n",
              "      <th>1</th>\n",
              "      <td>\"I Am Curious: Yellow\" is a risible and preten...</td>\n",
              "      <td>0</td>\n",
              "    </tr>\n",
              "    <tr>\n",
              "      <th>2</th>\n",
              "      <td>If only to avoid making this type of film in t...</td>\n",
              "      <td>0</td>\n",
              "    </tr>\n",
              "    <tr>\n",
              "      <th>3</th>\n",
              "      <td>This film was probably inspired by Godard's Ma...</td>\n",
              "      <td>0</td>\n",
              "    </tr>\n",
              "    <tr>\n",
              "      <th>4</th>\n",
              "      <td>Oh, brother...after hearing about this ridicul...</td>\n",
              "      <td>0</td>\n",
              "    </tr>\n",
              "  </tbody>\n",
              "</table>\n",
              "</div>"
            ],
            "text/plain": [
              "                                              reseña  valoración\n",
              "0  I rented I AM CURIOUS-YELLOW from my video sto...           0\n",
              "1  \"I Am Curious: Yellow\" is a risible and preten...           0\n",
              "2  If only to avoid making this type of film in t...           0\n",
              "3  This film was probably inspired by Godard's Ma...           0\n",
              "4  Oh, brother...after hearing about this ridicul...           0"
            ]
          },
          "execution_count": 7,
          "metadata": {},
          "output_type": "execute_result"
        }
      ],
      "source": [
        "df.head()"
      ]
    },
    {
      "cell_type": "code",
      "execution_count": 8,
      "metadata": {
        "colab": {
          "base_uri": "https://localhost:8080/"
        },
        "id": "8MbwbGb5Ql9N",
        "outputId": "44e13c3b-98bf-46f9-916f-f16b597f083f"
      },
      "outputs": [
        {
          "name": "stdout",
          "output_type": "stream",
          "text": [
            "<class 'pandas.core.frame.DataFrame'>\n",
            "RangeIndex: 25000 entries, 0 to 24999\n",
            "Data columns (total 2 columns):\n",
            " #   Column      Non-Null Count  Dtype \n",
            "---  ------      --------------  ----- \n",
            " 0   reseña      25000 non-null  object\n",
            " 1   valoración  25000 non-null  int64 \n",
            "dtypes: int64(1), object(1)\n",
            "memory usage: 390.8+ KB\n"
          ]
        }
      ],
      "source": [
        "df.info()"
      ]
    },
    {
      "cell_type": "markdown",
      "metadata": {
        "id": "EbbGsgNnQl9N"
      },
      "source": [
        "Bueno, pues este es uno de los \"problemas\" o trabajos en los que sólo tenemos texto en lenguaje natural como fuente de información (salvo CatBoost, en el momento de escribir esto), no hay modelo (no Deep) que lo soporte tal cual. Esto es nuestra actual feature:"
      ]
    },
    {
      "cell_type": "code",
      "execution_count": 9,
      "metadata": {
        "colab": {
          "base_uri": "https://localhost:8080/"
        },
        "id": "xjhV8MnyQl9N",
        "outputId": "f0896d85-d7c5-4ada-b8ac-5ce17cdacdb1"
      },
      "outputs": [
        {
          "name": "stdout",
          "output_type": "stream",
          "text": [
            "['I rented I AM CURIOUS-YELLOW from my video store because of all the controversy that surrounded it when it was first released in 1967. I also heard that at first it was seized by U.S. customs if it ever tried to enter this country, therefore being a fan of films considered \"controversial\" I really had to see this for myself.<br /><br />The plot is centered around a young Swedish drama student named Lena who wants to learn everything she can about life. In particular she wants to focus her attentions to making some sort of documentary on what the average Swede thought about certain political issues such as the Vietnam War and race issues in the United States. In between asking politicians and ordinary denizens of Stockholm about their opinions on politics, she has sex with her drama teacher, classmates, and married men.<br /><br />What kills me about I AM CURIOUS-YELLOW is that 40 years ago, this was considered pornographic. Really, the sex and nudity scenes are few and far between, even then it\\'s not shot like some cheaply made porno. While my countrymen mind find it shocking, in reality sex and nudity are a major staple in Swedish cinema. Even Ingmar Bergman, arguably their answer to good old boy John Ford, had sex scenes in his films.<br /><br />I do commend the filmmakers for the fact that any sex shown in the film is shown for artistic purposes rather than just to shock people and make money to be shown in pornographic theaters in America. I AM CURIOUS-YELLOW is a good film for anyone wanting to study the meat and potatoes (no pun intended) of Swedish cinema. But really, this film doesn\\'t have much of a plot.']\n"
          ]
        }
      ],
      "source": [
        "print(df.head(1)[\"reseña\"].values)"
      ]
    },
    {
      "cell_type": "markdown",
      "metadata": {
        "id": "WCDKVEVsQl9N"
      },
      "source": [
        "### Parte III: Train Test split"
      ]
    },
    {
      "cell_type": "code",
      "execution_count": 10,
      "metadata": {
        "id": "3wPEl5xRQl9O"
      },
      "outputs": [],
      "source": [
        "train_set, test_set = train_test_split(df, test_size = 5000, stratify = df[\"valoración\"], random_state = 42)\n",
        "train_set.reset_index(inplace = True)\n",
        "test_set.reset_index(inplace = True)"
      ]
    },
    {
      "cell_type": "code",
      "execution_count": 11,
      "metadata": {
        "colab": {
          "base_uri": "https://localhost:8080/",
          "height": 178
        },
        "id": "7FXv-tfcQl9O",
        "outputId": "d3f080cd-996f-47a6-bddd-7bbdfc3099c1"
      },
      "outputs": [
        {
          "data": {
            "text/plain": [
              "valoración\n",
              "1    0.5\n",
              "0    0.5\n",
              "Name: proportion, dtype: float64"
            ]
          },
          "execution_count": 11,
          "metadata": {},
          "output_type": "execute_result"
        }
      ],
      "source": [
        "train_set[\"valoración\"].value_counts(True)"
      ]
    },
    {
      "cell_type": "code",
      "execution_count": 12,
      "metadata": {
        "colab": {
          "base_uri": "https://localhost:8080/",
          "height": 178
        },
        "id": "LhI4cZ-5Ql9O",
        "outputId": "2d7bde43-f43f-4685-a92d-06142170feb8"
      },
      "outputs": [
        {
          "data": {
            "text/plain": [
              "valoración\n",
              "1    0.5\n",
              "0    0.5\n",
              "Name: proportion, dtype: float64"
            ]
          },
          "execution_count": 12,
          "metadata": {},
          "output_type": "execute_result"
        }
      ],
      "source": [
        "test_set[\"valoración\"].value_counts(True)"
      ]
    },
    {
      "cell_type": "code",
      "execution_count": 13,
      "metadata": {
        "id": "37Z0fT1FQl9O"
      },
      "outputs": [],
      "source": [
        "target = \"valoración\""
      ]
    },
    {
      "cell_type": "markdown",
      "metadata": {
        "id": "AtZM_5QhQl9O"
      },
      "source": [
        "### Parte IV: MiniEDA específico:"
      ]
    },
    {
      "cell_type": "markdown",
      "metadata": {
        "id": "_bPEiS49Ql9O"
      },
      "source": [
        "Primero veamos el target y luego iremos a la parte \"específica\" de preparación de features de un ML sobre NLP."
      ]
    },
    {
      "cell_type": "code",
      "execution_count": 14,
      "metadata": {
        "colab": {
          "base_uri": "https://localhost:8080/",
          "height": 482
        },
        "id": "BWy56bj-Ql9O",
        "outputId": "be728b7d-5d49-49b6-843f-e77a2a291e04"
      },
      "outputs": [
        {
          "data": {
            "image/png": "[encoded data removed]",
            "text/plain": [
              "<Figure size 1500x500 with 2 Axes>"
            ]
          },
          "metadata": {},
          "output_type": "display_data"
        }
      ],
      "source": [
        "bt.pinta_distribucion_categoricas(train_set, [target], mostrar_valores= True, relativa= True)"
      ]
    },
    {
      "cell_type": "markdown",
      "metadata": {
        "id": "8-hBIZlQQl9P"
      },
      "source": [
        "Ya lo sabíamos del value_counts, y hazle una foto porque como este no vamos a ver un dataset muchas veces más. Completamente equilibrado, \"accuracy\" nos vale como métrica."
      ]
    },
    {
      "cell_type": "markdown",
      "metadata": {
        "id": "xLSHMi_eQl9P"
      },
      "source": [
        "***"
      ]
    },
    {
      "cell_type": "markdown",
      "metadata": {
        "id": "5DPv-J1nQl9P"
      },
      "source": [
        "### Parte IV.1: Extracción de Features: Vectorización de Textos"
      ]
    },
    {
      "cell_type": "markdown",
      "metadata": {
        "id": "xSEf5bHXQl9P"
      },
      "source": [
        "Siempre que tengamos un tipo de dato no estructurado (no tabular en general, como imágenes o textos) tendremos que entrar en esta parte, cómo obtener sus features, cómo traducirlo en algún tipo de vector que los modelos puedan manejar (en las imágenes ya hemos hecho una vectorización, convertir cada imagen en una instancia cuyas features son el valor de color o gris de cada uno de sus píxeles puestos uno detrás de otro).  \n",
        "\n",
        "Ahora vamos a aprender un par de formas de vectorizar un texto, es decir, convertirlo en un vector de features que ya sí podremos dar de \"comer\" a un modelo y tratarlas como hemos tratado cualquier feature hasta ahora."
      ]
    },
    {
      "cell_type": "markdown",
      "metadata": {
        "id": "EjUoEeSoQl9P"
      },
      "source": [
        "Vamos a seguir los siguientes pasos:\n",
        "1. Limpieza y tokenizacion\n",
        "2. Vectorización texto (I): Bag of Words (BOW) binario y no binario\n",
        "3. Vectorización texto (II): Tf-idf (term frequency inverse document frequency)\n",
        "4. Vectorización texto (IV): Usando n-gramas\n"
      ]
    },
    {
      "cell_type": "markdown",
      "metadata": {
        "id": "wJvyb_LOQl9P"
      },
      "source": [
        "#### Limpiamos (y tokenizamos)"
      ]
    },
    {
      "cell_type": "markdown",
      "metadata": {
        "id": "mOOSiHp1Ql9P"
      },
      "source": [
        "OBJETIVO: Dejar las palabras/tokens y quitar todo lo que no sea eso\n",
        "Limpiar en procesamiento de texto básicamente consiste en quitar del texto todos los elementos que no aportan (signos de puntuación) para reducir el texto al conjunto de palabras/tokens que sí consideramos interesantes.  \n",
        "A) En general vamos a quitar dos cosas:\n",
        "1. Signos de puntuación y caracteres que no son texto _[Ojo: Tened en cuenta las dependencias con el idioma]_\n",
        "2. URLs, hashtags, emojis, etc\n",
        "3. Stopwords (palabras que en un idioma se repiten mucho, o tienen un significado gramatical y no léxico)\n",
        "\n",
        "Puede haber situaciones especiales en las que quiera conservar algunos de los elementos anteriores (por ejemplo los hashtags o los emojis si estoy procesando mensajes de redes sociales)\n",
        "\n",
        "B) Pasaremos todo a minúsculas (también depende de si quiero extraer Nombres Propios, entonces este sería mi último paso antes de generar el dataset final)"
      ]
    },
    {
      "cell_type": "markdown",
      "metadata": {
        "id": "ooFomB07Ql9Q"
      },
      "source": [
        "**Limpieza básica**"
      ]
    },
    {
      "cell_type": "code",
      "execution_count": 15,
      "metadata": {
        "id": "urqmTgI_Ql9Q"
      },
      "outputs": [],
      "source": [
        "REPLACE_NO_SPACE = re.compile(r\"(\\.)|(\\;)|(\\:)|(\\!)|(\\?)|(\\,)|(\\\")|(\\()|(\\))|(\\[)|(\\])|(\\d+)\") # Sí, volvemos a las expresiones regulares :-) en texto no queda otra si no eres un LLM\n",
        "REPLACE_WITH_SPACE = re.compile(r\"(<br \\s*/><br\\s*/>)|(\\-)|(\\/)|(_)\")\n",
        "NO_SPACE = \"\"\n",
        "SPACE = \" \"\n",
        "\n",
        "\n",
        "def clean(row):\n",
        "    # Limpio signos y convierto a minúsculas\n",
        "    dato = REPLACE_NO_SPACE.sub(NO_SPACE, row.lower()) # Equivale a re.sub(\"(\\.)|(\\;)|(\\:)|(\\!)|(\\?)|(\\,)|(\\\")|(\\()|(\\))|(\\[)|(\\])|(\\d+)\", NO_SPACE, row.lower())\n",
        "    # Convierto los retornos de carro <br /><br /> en espacios y los guiones (\"-\")\n",
        "    dato = REPLACE_WITH_SPACE.sub(SPACE, dato) # Equivale a re.sub(\"(<br \\s*/><br\\s*/>)|(\\-)|(\\/)|(_)\", SPACE, dato)\n",
        "    # Quito cualquier link\n",
        "    dato = \" \".join([word for word in dato.split() if \"http\" not in word])\n",
        "    # Quito los stopwords\n",
        "    return dato"
      ]
    },
    {
      "cell_type": "markdown",
      "metadata": {
        "id": "6w0ua0I3Ql9Q"
      },
      "source": [
        "$$*$$"
      ]
    },
    {
      "cell_type": "code",
      "execution_count": 16,
      "metadata": {
        "id": "H7vrVBnmQl9Q"
      },
      "outputs": [],
      "source": [
        "train_set[\"reseña_limpia\"] = train_set[\"reseña\"].apply(clean)\n",
        "test_set[\"reseña_limpia\"] = test_set[\"reseña\"].apply(clean)"
      ]
    },
    {
      "cell_type": "code",
      "execution_count": 17,
      "metadata": {
        "colab": {
          "base_uri": "https://localhost:8080/"
        },
        "id": "hQcfryJmQl9V",
        "outputId": "dd8b5d3c-ee44-437c-a0ae-77df5d7915a5"
      },
      "outputs": [
        {
          "name": "stdout",
          "output_type": "stream",
          "text": [
            "I have always been a huge James Bond fanatic! I have seen almost all of the films except for Die Another Day, and The World Is Not Enough. The graphic's for Everything Or Nothing are breathtaking! The voice talents......... WOW! I LOVE PIERCE BROSNAN! He is finally Bond in a video game! HE IS BOND! I enjoyed the past Bond games: Goldeneye, The World Is Not Enough, Agent Under Fire, and Nightfire. This one is definitely the best! Finally, Mr. Brosnan, (may I call him Mr. Brosnan as a sign of respect? Yes I can!) He was phenomenally exciting to hear in a video game....... AT LONG LAST! DUH! I've seen him perform with Robin Williams, and let me tell you, they make a great team. Pierce Brosnan is funny, wickedly handsome ( I mean to say wickedly in a good way,) and just one of those actor's who you would want to walk up to and wrap your arms around and hug, saying: \"Pierce Brosnan, thank you for being James Bond,\" \"If it wasn't for you, I wouldn't know who James Bond is.\" He's a great actor! I am a huge fan of Willem Dafoe even though I've seen him in a couple of movies. His role as Nikolai Diavalo was brilliant. (Did I spell the character's name right?) LOL!!!! He does a great job with an accent. Sometimes I can't even hear an accent. I have seen Willem, I mean Mr. Dafoe, perform in two movies: Finding Nemo, and Spider-Man with my favorite actress: KIRSTEN DUNST! SHE ROCKS! Anyway, He never ceases to amaze. And Richard Kiel, wow, he's definitely got the part of Jaw's nailed. I've seen him in the movie's and he's awesome! As a matter of fact, my Grandparent's have met Mr. Kiel, and I was jealous when they told me. But, Kirsten Dunst is at the top of my list of Celebritie's that I want to meet. John Cleese was breathtaking. I have never seen a better person play as the wisecracking, and gadget creating Q! Mr. Cleese was hilarious! I've seen him work with Pierce Brosnan in Goldeneye and Tommorow Never Dies. He's awesome! John Cleese's most recent project is Shrek 2 starring Mike Myer's, Cameron Diaz, Julie Andrew's and Eddie Murphy. ( Shrek 2 is now in theatre's!) GOOD LUCK 007! Oh, yeah, and as Q alway's says: \"Grow up 007!\"\n"
          ]
        }
      ],
      "source": [
        "print(train_set.loc[0,\"reseña\"])"
      ]
    },
    {
      "cell_type": "code",
      "execution_count": 18,
      "metadata": {
        "colab": {
          "base_uri": "https://localhost:8080/"
        },
        "id": "jYXy4LZsQl9V",
        "outputId": "5235a830-f260-4fd9-86ab-c56e2c9d40a2"
      },
      "outputs": [
        {
          "name": "stdout",
          "output_type": "stream",
          "text": [
            "i have always been a huge james bond fanatic i have seen almost all of the films except for die another day and the world is not enough the graphic's for everything or nothing are breathtaking the voice talents wow i love pierce brosnan he is finally bond in a video game he is bond i enjoyed the past bond games goldeneye the world is not enough agent under fire and nightfire this one is definitely the best finally mr brosnan may i call him mr brosnan as a sign of respect yes i can he was phenomenally exciting to hear in a video game at long last duh i've seen him perform with robin williams and let me tell you they make a great team pierce brosnan is funny wickedly handsome i mean to say wickedly in a good way and just one of those actor's who you would want to walk up to and wrap your arms around and hug saying pierce brosnan thank you for being james bond if it wasn't for you i wouldn't know who james bond is he's a great actor i am a huge fan of willem dafoe even though i've seen him in a couple of movies his role as nikolai diavalo was brilliant did i spell the character's name right lol he does a great job with an accent sometimes i can't even hear an accent i have seen willem i mean mr dafoe perform in two movies finding nemo and spider man with my favorite actress kirsten dunst she rocks anyway he never ceases to amaze and richard kiel wow he's definitely got the part of jaw's nailed i've seen him in the movie's and he's awesome as a matter of fact my grandparent's have met mr kiel and i was jealous when they told me but kirsten dunst is at the top of my list of celebritie's that i want to meet john cleese was breathtaking i have never seen a better person play as the wisecracking and gadget creating q mr cleese was hilarious i've seen him work with pierce brosnan in goldeneye and tommorow never dies he's awesome john cleese's most recent project is shrek starring mike myer's cameron diaz julie andrew's and eddie murphy shrek is now in theatre's good luck oh yeah and as q alway's says grow up\n"
          ]
        }
      ],
      "source": [
        "print(train_set.loc[0,\"reseña_limpia\"])"
      ]
    },
    {
      "cell_type": "code",
      "execution_count": 19,
      "metadata": {
        "colab": {
          "base_uri": "https://localhost:8080/"
        },
        "id": "ukeI7YjRSzkt",
        "outputId": "720ab7a9-c389-42d3-aeda-35a7076956f2"
      },
      "outputs": [
        {
          "name": "stderr",
          "output_type": "stream",
          "text": [
            "[nltk_data] Downloading collection 'popular'\n",
            "[nltk_data]    | \n",
            "[nltk_data]    | Downloading package cmudict to\n",
            "[nltk_data]    |     C:\\Users\\usuar\\AppData\\Roaming\\nltk_data...\n",
            "[nltk_data]    |   Unzipping corpora\\cmudict.zip.\n",
            "[nltk_data]    | Downloading package gazetteers to\n",
            "[nltk_data]    |     C:\\Users\\usuar\\AppData\\Roaming\\nltk_data...\n",
            "[nltk_data]    |   Unzipping corpora\\gazetteers.zip.\n",
            "[nltk_data]    | Downloading package genesis to\n",
            "[nltk_data]    |     C:\\Users\\usuar\\AppData\\Roaming\\nltk_data...\n",
            "[nltk_data]    |   Unzipping corpora\\genesis.zip.\n",
            "[nltk_data]    | Downloading package gutenberg to\n",
            "[nltk_data]    |     C:\\Users\\usuar\\AppData\\Roaming\\nltk_data...\n",
            "[nltk_data]    |   Unzipping corpora\\gutenberg.zip.\n",
            "[nltk_data]    | Downloading package inaugural to\n",
            "[nltk_data]    |     C:\\Users\\usuar\\AppData\\Roaming\\nltk_data...\n",
            "[nltk_data]    |   Unzipping corpora\\inaugural.zip.\n",
            "[nltk_data]    | Downloading package movie_reviews to\n",
            "[nltk_data]    |     C:\\Users\\usuar\\AppData\\Roaming\\nltk_data...\n",
            "[nltk_data]    |   Unzipping corpora\\movie_reviews.zip.\n",
            "[nltk_data]    | Downloading package names to\n",
            "[nltk_data]    |     C:\\Users\\usuar\\AppData\\Roaming\\nltk_data...\n",
            "[nltk_data]    |   Unzipping corpora\\names.zip.\n",
            "[nltk_data]    | Downloading package shakespeare to\n",
            "[nltk_data]    |     C:\\Users\\usuar\\AppData\\Roaming\\nltk_data...\n",
            "[nltk_data]    |   Unzipping corpora\\shakespeare.zip.\n",
            "[nltk_data]    | Downloading package stopwords to\n",
            "[nltk_data]    |     C:\\Users\\usuar\\AppData\\Roaming\\nltk_data...\n",
            "[nltk_data]    |   Unzipping corpora\\stopwords.zip.\n",
            "[nltk_data]    | Downloading package treebank to\n",
            "[nltk_data]    |     C:\\Users\\usuar\\AppData\\Roaming\\nltk_data...\n",
            "[nltk_data]    |   Unzipping corpora\\treebank.zip.\n",
            "[nltk_data]    | Downloading package twitter_samples to\n",
            "[nltk_data]    |     C:\\Users\\usuar\\AppData\\Roaming\\nltk_data...\n",
            "[nltk_data]    |   Unzipping corpora\\twitter_samples.zip.\n",
            "[nltk_data]    | Downloading package omw to\n",
            "[nltk_data]    |     C:\\Users\\usuar\\AppData\\Roaming\\nltk_data...\n",
            "[nltk_data]    | Downloading package omw-1.4 to\n",
            "[nltk_data]    |     C:\\Users\\usuar\\AppData\\Roaming\\nltk_data...\n",
            "[nltk_data]    | Downloading package wordnet to\n",
            "[nltk_data]    |     C:\\Users\\usuar\\AppData\\Roaming\\nltk_data...\n",
            "[nltk_data]    | Downloading package wordnet2021 to\n",
            "[nltk_data]    |     C:\\Users\\usuar\\AppData\\Roaming\\nltk_data...\n",
            "[nltk_data]    | Downloading package wordnet31 to\n",
            "[nltk_data]    |     C:\\Users\\usuar\\AppData\\Roaming\\nltk_data...\n",
            "[nltk_data]    | Downloading package wordnet_ic to\n",
            "[nltk_data]    |     C:\\Users\\usuar\\AppData\\Roaming\\nltk_data...\n",
            "[nltk_data]    |   Unzipping corpora\\wordnet_ic.zip.\n",
            "[nltk_data]    | Downloading package words to\n",
            "[nltk_data]    |     C:\\Users\\usuar\\AppData\\Roaming\\nltk_data...\n",
            "[nltk_data]    |   Unzipping corpora\\words.zip.\n",
            "[nltk_data]    | Downloading package maxent_ne_chunker to\n",
            "[nltk_data]    |     C:\\Users\\usuar\\AppData\\Roaming\\nltk_data...\n",
            "[nltk_data]    |   Unzipping chunkers\\maxent_ne_chunker.zip.\n",
            "[nltk_data]    | Downloading package punkt to\n",
            "[nltk_data]    |     C:\\Users\\usuar\\AppData\\Roaming\\nltk_data...\n",
            "[nltk_data]    |   Unzipping tokenizers\\punkt.zip.\n",
            "[nltk_data]    | Downloading package snowball_data to\n",
            "[nltk_data]    |     C:\\Users\\usuar\\AppData\\Roaming\\nltk_data...\n",
            "[nltk_data]    | Downloading package averaged_perceptron_tagger to\n",
            "[nltk_data]    |     C:\\Users\\usuar\\AppData\\Roaming\\nltk_data...\n",
            "[nltk_data]    |   Unzipping taggers\\averaged_perceptron_tagger.zip.\n",
            "[nltk_data]    | \n",
            "[nltk_data]  Done downloading collection popular\n"
          ]
        },
        {
          "data": {
            "text/plain": [
              "True"
            ]
          },
          "execution_count": 19,
          "metadata": {},
          "output_type": "execute_result"
        }
      ],
      "source": [
        "import nltk\n",
        "nltk.download('popular')"
      ]
    },
    {
      "cell_type": "markdown",
      "metadata": {
        "id": "YDRGKsWBQl9V"
      },
      "source": [
        "**Stopwords**"
      ]
    },
    {
      "cell_type": "markdown",
      "metadata": {
        "id": "TgCQsOlrQl9V"
      },
      "source": [
        "Stop words are the very common words like ‘if’, ‘but’, ‘we’, ‘he’, ‘she’, and ‘they’. We can usually remove these words without changing the semantics of a text and doing so often (but not always) improves the performance of a model."
      ]
    },
    {
      "cell_type": "markdown",
      "metadata": {
        "id": "Lgp_7ltsQl9V"
      },
      "source": [
        "Las palabras \"vacías\" o `stopwords` (en terminología NLP) son palabras muy comunes como 'si', 'pero', 'porque', 'y' (en inglés, otras como  ‘if’, ‘but’, ‘we’, ‘he’, ‘she’, y ‘they’), que no aportan significado léxico o semántico y que, generalmente podemos eliminar estas palabras sin cambiar la semántica de un texto y hacerlo a menudo (pero no siempre) mejora el rendimiento de un modelo."
      ]
    },
    {
      "cell_type": "code",
      "execution_count": 20,
      "metadata": {
        "colab": {
          "base_uri": "https://localhost:8080/"
        },
        "id": "0dWPvvCcQl9W",
        "outputId": "6bb9f296-c460-4f0b-aecc-2655cd07f0d7"
      },
      "outputs": [
        {
          "data": {
            "text/plain": [
              "['a', 'about', 'above', 'after', 'again', 'against', 'ain', 'all', 'am', 'an']"
            ]
          },
          "execution_count": 20,
          "metadata": {},
          "output_type": "execute_result"
        }
      ],
      "source": [
        "from nltk.corpus import stopwords\n",
        "stopwords.words('english')[:10]"
      ]
    },
    {
      "cell_type": "markdown",
      "metadata": {
        "id": "65mltwXXQl9W"
      },
      "source": [
        "Sí, para cada idioma necesito unas stopwords, un diccionario particularizado"
      ]
    },
    {
      "cell_type": "code",
      "execution_count": 21,
      "metadata": {
        "colab": {
          "base_uri": "https://localhost:8080/"
        },
        "id": "usT75gr-Ql9W",
        "outputId": "06b89e90-0541-4543-c6a2-c9144120ab74"
      },
      "outputs": [
        {
          "data": {
            "text/plain": [
              "['de', 'la', 'que', 'el', 'en', 'y', 'a', 'los', 'del', 'se']"
            ]
          },
          "execution_count": 21,
          "metadata": {},
          "output_type": "execute_result"
        }
      ],
      "source": [
        "stopwords.words(\"spanish\")[:10]"
      ]
    },
    {
      "cell_type": "code",
      "execution_count": 22,
      "metadata": {
        "id": "kTYvJ3nFQl9W"
      },
      "outputs": [],
      "source": [
        "dictionary = stopwords.words(\"english\")\n",
        "def remove_stopwords(row):\n",
        "    dato = \" \".join([word for word in row.split(\" \") if word not in dictionary])\n",
        "    return dato"
      ]
    },
    {
      "cell_type": "code",
      "execution_count": 23,
      "metadata": {
        "id": "tr-ilutVQl9W"
      },
      "outputs": [],
      "source": [
        "train_set[\"reseña_limpia_sin_stopwords\"] = train_set[\"reseña_limpia\"].apply(remove_stopwords)\n",
        "test_set[\"reseña_limpia_sin_stopwords\"] = test_set[\"reseña_limpia\"].apply(remove_stopwords)"
      ]
    },
    {
      "cell_type": "code",
      "execution_count": 24,
      "metadata": {
        "colab": {
          "base_uri": "https://localhost:8080/"
        },
        "id": "TBnlJtZ6Ql9W",
        "outputId": "caae2ba5-6aa2-4692-8cf2-2a44b5b593f2"
      },
      "outputs": [
        {
          "name": "stdout",
          "output_type": "stream",
          "text": [
            "i have always been a huge james bond fanatic i have seen almost all of the films except for die another day and the world is not enough the graphic's for everything or nothing are breathtaking the voice talents wow i love pierce brosnan he is finally bond in a video game he is bond i enjoyed the past bond games goldeneye the world is not enough agent under fire and nightfire this one is definitely the best finally mr brosnan may i call him mr brosnan as a sign of respect yes i can he was phenomenally exciting to hear in a video game at long last duh i've seen him perform with robin williams and let me tell you they make a great team pierce brosnan is funny wickedly handsome i mean to say wickedly in a good way and just one of those actor's who you would want to walk up to and wrap your arms around and hug saying pierce brosnan thank you for being james bond if it wasn't for you i wouldn't know who james bond is he's a great actor i am a huge fan of willem dafoe even though i've seen him in a couple of movies his role as nikolai diavalo was brilliant did i spell the character's name right lol he does a great job with an accent sometimes i can't even hear an accent i have seen willem i mean mr dafoe perform in two movies finding nemo and spider man with my favorite actress kirsten dunst she rocks anyway he never ceases to amaze and richard kiel wow he's definitely got the part of jaw's nailed i've seen him in the movie's and he's awesome as a matter of fact my grandparent's have met mr kiel and i was jealous when they told me but kirsten dunst is at the top of my list of celebritie's that i want to meet john cleese was breathtaking i have never seen a better person play as the wisecracking and gadget creating q mr cleese was hilarious i've seen him work with pierce brosnan in goldeneye and tommorow never dies he's awesome john cleese's most recent project is shrek starring mike myer's cameron diaz julie andrew's and eddie murphy shrek is now in theatre's good luck oh yeah and as q alway's says grow up\n"
          ]
        }
      ],
      "source": [
        "print(train_set.loc[0,\"reseña_limpia\"])"
      ]
    },
    {
      "cell_type": "code",
      "execution_count": 25,
      "metadata": {
        "colab": {
          "base_uri": "https://localhost:8080/"
        },
        "id": "T1KS6BspQl9X",
        "outputId": "556a6e2d-b1cf-4aa6-f869-a2495b51fff0"
      },
      "outputs": [
        {
          "name": "stdout",
          "output_type": "stream",
          "text": [
            "always huge james bond fanatic seen almost films except die another day world enough graphic's everything nothing breathtaking voice talents wow love pierce brosnan finally bond video game bond enjoyed past bond games goldeneye world enough agent fire nightfire one definitely best finally mr brosnan may call mr brosnan sign respect yes phenomenally exciting hear video game long last duh seen perform robin williams let tell make great team pierce brosnan funny wickedly handsome mean say wickedly good way one actor's would want walk wrap arms around hug saying pierce brosnan thank james bond know james bond great actor huge fan willem dafoe even though seen couple movies role nikolai diavalo brilliant spell character's name right lol great job accent sometimes can't even hear accent seen willem mean mr dafoe perform two movies finding nemo spider man favorite actress kirsten dunst rocks anyway never ceases amaze richard kiel wow definitely got part jaw's nailed seen movie's awesome matter fact grandparent's met mr kiel jealous told kirsten dunst top list celebritie's want meet john cleese breathtaking never seen better person play wisecracking gadget creating q mr cleese hilarious seen work pierce brosnan goldeneye tommorow never dies awesome john cleese's recent project shrek starring mike myer's cameron diaz julie andrew's eddie murphy shrek theatre's good luck oh yeah q alway's says grow\n"
          ]
        }
      ],
      "source": [
        "print(train_set.loc[0,\"reseña_limpia_sin_stopwords\"])"
      ]
    },
    {
      "cell_type": "markdown",
      "metadata": {
        "id": "ReLq4xkEQl9X"
      },
      "source": [
        "**Sobre tokens y tokenizacion**"
      ]
    },
    {
      "cell_type": "markdown",
      "metadata": {
        "id": "zDoYGgIqQl9X"
      },
      "source": [
        "Fíjate en como ha quedado convertido el texto original de cada reseña. Lo hemos reducido a **palabras significativas o \"tokens\"**. En el contexto de NLP, un token es la unidad básica de procesamiento de textos, y, normalmente, se refiere a palabras con significado. Pero con la evolución de la IA y del NLP, el token ha pasado de tener la obligación de ese significado semántico, ahora hay subtokens (como las terminaciones o los prefijos) y una definición más adecuada de token sería:"
      ]
    },
    {
      "cell_type": "markdown",
      "metadata": {
        "id": "2vcPLnY2Ql9X"
      },
      "source": [
        "**Token** = Unidad básica de texto procesada. Puede ser una palabra, un carácter, o incluso un subconjunto de una palabra. Los tokens son los componentes individuales en los que se divide el texto para su análisis o para entrenar modelos."
      ]
    },
    {
      "cell_type": "markdown",
      "metadata": {
        "id": "dJbi_8BtQl9X"
      },
      "source": [
        "En general, vamos a seguir considerando tokens a las palabras, pero es iportante que tengas en cuenta que ya no siemprbe coinciden con palabras enteras."
      ]
    },
    {
      "cell_type": "markdown",
      "metadata": {
        "id": "EgDQgSKSQl9X"
      },
      "source": [
        "La **tokenizacion** es el proceso por el cual un texto se convierte en tokens. Lo hemos hecho a mano, para que veas el proceso, pero existen tokenizadores ya especializados (por ejemplo nltk tiene sus tokenizer, prueba a jugar con ellos).\n",
        "\n",
        "Una vez tokenizados, convertidos a tokens, la vectorización es la que nos permite ahora convertir esos tokens en números y con ello en features asignables a cada instancia. Vamos a ello."
      ]
    },
    {
      "cell_type": "code",
      "execution_count": 26,
      "metadata": {
        "id": "C8QkqjwwQl9Y"
      },
      "outputs": [],
      "source": [
        "train_set.rename(columns = {\"reseña_limpia_sin_stopwords\": \"tokenizada\"}, inplace = True)\n",
        "test_set.rename(columns = {\"reseña_limpia_sin_stopwords\": \"tokenizada\"}, inplace = True)"
      ]
    },
    {
      "cell_type": "markdown",
      "metadata": {
        "id": "kkQHzMXWQl9Y"
      },
      "source": [
        "***"
      ]
    },
    {
      "cell_type": "markdown",
      "metadata": {
        "id": "Et5YZrwDQl9Y"
      },
      "source": [
        "#### Vectorización de Texto (I): Bag_of_words (BoW)\n",
        "\n",
        "\n",
        "Vamos a contruir un vector con tantas dimensiones como palabras/tokens haya (en todo el dataset) y para cada texto y cada dimensión vamos a rellenar con el número de veces que aparece el token en cada texto o bien binariamente (1 si aparece 1 o más veces, 0 si no aparece) o bien frecuencialmente (pondremos el número de veces que aparece el token en el texto).\n",
        "* Al conjunto de tokens de todo un dataset se le llama vocabulary\n",
        "* Al conjunto de todos los textos también se le llama corpus\n",
        "\n"
      ]
    },
    {
      "cell_type": "markdown",
      "metadata": {
        "id": "5ZmHJcJ-Ql9Y"
      },
      "source": [
        "#### Vectorizacion binaria"
      ]
    },
    {
      "cell_type": "markdown",
      "metadata": {
        "id": "Tjh22WZUQl9Y"
      },
      "source": [
        "Vamos a apoyarnos en sklearn y en concreto en `CountVectorizer`. Esta clase, al hacer un `fit` construye un diccionario de tokens con todos los tokens diferentes que encuentra en el dataset que se le pasa como parámetro al método `fit`. Se puede limitar dicho diccionario de diversas formas (eliminando palabras muy frecuentes y poco frecuentes, quedándote sólo con las que superan una frecuencia de aparición considerando todas las instancias, etc) y además se puede pasar un diccionario como argumento. Te invito a que investigues todas sus posibilidades, y no sólo las que tienen que ver con el diccionario, [aquí](https://scikit-learn.org/stable/modules/generated/sklearn.feature_extraction.text.CountVectorizer.html)"
      ]
    },
    {
      "cell_type": "code",
      "execution_count": 27,
      "metadata": {
        "colab": {
          "base_uri": "https://localhost:8080/",
          "height": 80
        },
        "id": "nUxTPi41Ql9Y",
        "outputId": "a14e0c84-1111-4397-9628-4f9ade583071"
      },
      "outputs": [
        {
          "data": {
            "text/html": [
              "<style>#sk-container-id-1 {\n",
              "  /* Definition of color scheme common for light and dark mode */\n",
              "  --sklearn-color-text: #000;\n",
              "  --sklearn-color-text-muted: #666;\n",
              "  --sklearn-color-line: gray;\n",
              "  /* Definition of color scheme for unfitted estimators */\n",
              "  --sklearn-color-unfitted-level-0: #fff5e6;\n",
              "  --sklearn-color-unfitted-level-1: #f6e4d2;\n",
              "  --sklearn-color-unfitted-level-2: #ffe0b3;\n",
              "  --sklearn-color-unfitted-level-3: chocolate;\n",
              "  /* Definition of color scheme for fitted estimators */\n",
              "  --sklearn-color-fitted-level-0: #f0f8ff;\n",
              "  --sklearn-color-fitted-level-1: #d4ebff;\n",
              "  --sklearn-color-fitted-level-2: #b3dbfd;\n",
              "  --sklearn-color-fitted-level-3: cornflowerblue;\n",
              "\n",
              "  /* Specific color for light theme */\n",
              "  --sklearn-color-text-on-default-background: var(--sg-text-color, var(--theme-code-foreground, var(--jp-content-font-color1, black)));\n",
              "  --sklearn-color-background: var(--sg-background-color, var(--theme-background, var(--jp-layout-color0, white)));\n",
              "  --sklearn-color-border-box: var(--sg-text-color, var(--theme-code-foreground, var(--jp-content-font-color1, black)));\n",
              "  --sklearn-color-icon: #696969;\n",
              "\n",
              "  @media (prefers-color-scheme: dark) {\n",
              "    /* Redefinition of color scheme for dark theme */\n",
              "    --sklearn-color-text-on-default-background: var(--sg-text-color, var(--theme-code-foreground, var(--jp-content-font-color1, white)));\n",
              "    --sklearn-color-background: var(--sg-background-color, var(--theme-background, var(--jp-layout-color0, #111)));\n",
              "    --sklearn-color-border-box: var(--sg-text-color, var(--theme-code-foreground, var(--jp-content-font-color1, white)));\n",
              "    --sklearn-color-icon: #878787;\n",
              "  }\n",
              "}\n",
              "\n",
              "#sk-container-id-1 {\n",
              "  color: var(--sklearn-color-text);\n",
              "}\n",
              "\n",
              "#sk-container-id-1 pre {\n",
              "  padding: 0;\n",
              "}\n",
              "\n",
              "#sk-container-id-1 input.sk-hidden--visually {\n",
              "  border: 0;\n",
              "  clip: rect(1px 1px 1px 1px);\n",
              "  clip: rect(1px, 1px, 1px, 1px);\n",
              "  height: 1px;\n",
              "  margin: -1px;\n",
              "  overflow: hidden;\n",
              "  padding: 0;\n",
              "  position: absolute;\n",
              "  width: 1px;\n",
              "}\n",
              "\n",
              "#sk-container-id-1 div.sk-dashed-wrapped {\n",
              "  border: 1px dashed var(--sklearn-color-line);\n",
              "  margin: 0 0.4em 0.5em 0.4em;\n",
              "  box-sizing: border-box;\n",
              "  padding-bottom: 0.4em;\n",
              "  background-color: var(--sklearn-color-background);\n",
              "}\n",
              "\n",
              "#sk-container-id-1 div.sk-container {\n",
              "  /* jupyter's `normalize.less` sets `[hidden] { display: none; }`\n",
              "     but bootstrap.min.css set `[hidden] { display: none !important; }`\n",
              "     so we also need the `!important` here to be able to override the\n",
              "     default hidden behavior on the sphinx rendered scikit-learn.org.\n",
              "     See: https://github.com/scikit-learn/scikit-learn/issues/21755 */\n",
              "  display: inline-block !important;\n",
              "  position: relative;\n",
              "}\n",
              "\n",
              "#sk-container-id-1 div.sk-text-repr-fallback {\n",
              "  display: none;\n",
              "}\n",
              "\n",
              "div.sk-parallel-item,\n",
              "div.sk-serial,\n",
              "div.sk-item {\n",
              "  /* draw centered vertical line to link estimators */\n",
              "  background-image: linear-gradient(var(--sklearn-color-text-on-default-background), var(--sklearn-color-text-on-default-background));\n",
              "  background-size: 2px 100%;\n",
              "  background-repeat: no-repeat;\n",
              "  background-position: center center;\n",
              "}\n",
              "\n",
              "/* Parallel-specific style estimator block */\n",
              "\n",
              "#sk-container-id-1 div.sk-parallel-item::after {\n",
              "  content: \"\";\n",
              "  width: 100%;\n",
              "  border-bottom: 2px solid var(--sklearn-color-text-on-default-background);\n",
              "  flex-grow: 1;\n",
              "}\n",
              "\n",
              "#sk-container-id-1 div.sk-parallel {\n",
              "  display: flex;\n",
              "  align-items: stretch;\n",
              "  justify-content: center;\n",
              "  background-color: var(--sklearn-color-background);\n",
              "  position: relative;\n",
              "}\n",
              "\n",
              "#sk-container-id-1 div.sk-parallel-item {\n",
              "  display: flex;\n",
              "  flex-direction: column;\n",
              "}\n",
              "\n",
              "#sk-container-id-1 div.sk-parallel-item:first-child::after {\n",
              "  align-self: flex-end;\n",
              "  width: 50%;\n",
              "}\n",
              "\n",
              "#sk-container-id-1 div.sk-parallel-item:last-child::after {\n",
              "  align-self: flex-start;\n",
              "  width: 50%;\n",
              "}\n",
              "\n",
              "#sk-container-id-1 div.sk-parallel-item:only-child::after {\n",
              "  width: 0;\n",
              "}\n",
              "\n",
              "/* Serial-specific style estimator block */\n",
              "\n",
              "#sk-container-id-1 div.sk-serial {\n",
              "  display: flex;\n",
              "  flex-direction: column;\n",
              "  align-items: center;\n",
              "  background-color: var(--sklearn-color-background);\n",
              "  padding-right: 1em;\n",
              "  padding-left: 1em;\n",
              "}\n",
              "\n",
              "\n",
              "/* Toggleable style: style used for estimator/Pipeline/ColumnTransformer box that is\n",
              "clickable and can be expanded/collapsed.\n",
              "- Pipeline and ColumnTransformer use this feature and define the default style\n",
              "- Estimators will overwrite some part of the style using the `sk-estimator` class\n",
              "*/\n",
              "\n",
              "/* Pipeline and ColumnTransformer style (default) */\n",
              "\n",
              "#sk-container-id-1 div.sk-toggleable {\n",
              "  /* Default theme specific background. It is overwritten whether we have a\n",
              "  specific estimator or a Pipeline/ColumnTransformer */\n",
              "  background-color: var(--sklearn-color-background);\n",
              "}\n",
              "\n",
              "/* Toggleable label */\n",
              "#sk-container-id-1 label.sk-toggleable__label {\n",
              "  cursor: pointer;\n",
              "  display: flex;\n",
              "  width: 100%;\n",
              "  margin-bottom: 0;\n",
              "  padding: 0.5em;\n",
              "  box-sizing: border-box;\n",
              "  text-align: center;\n",
              "  align-items: start;\n",
              "  justify-content: space-between;\n",
              "  gap: 0.5em;\n",
              "}\n",
              "\n",
              "#sk-container-id-1 label.sk-toggleable__label .caption {\n",
              "  font-size: 0.6rem;\n",
              "  font-weight: lighter;\n",
              "  color: var(--sklearn-color-text-muted);\n",
              "}\n",
              "\n",
              "#sk-container-id-1 label.sk-toggleable__label-arrow:before {\n",
              "  /* Arrow on the left of the label */\n",
              "  content: \"▸\";\n",
              "  float: left;\n",
              "  margin-right: 0.25em;\n",
              "  color: var(--sklearn-color-icon);\n",
              "}\n",
              "\n",
              "#sk-container-id-1 label.sk-toggleable__label-arrow:hover:before {\n",
              "  color: var(--sklearn-color-text);\n",
              "}\n",
              "\n",
              "/* Toggleable content - dropdown */\n",
              "\n",
              "#sk-container-id-1 div.sk-toggleable__content {\n",
              "  max-height: 0;\n",
              "  max-width: 0;\n",
              "  overflow: hidden;\n",
              "  text-align: left;\n",
              "  /* unfitted */\n",
              "  background-color: var(--sklearn-color-unfitted-level-0);\n",
              "}\n",
              "\n",
              "#sk-container-id-1 div.sk-toggleable__content.fitted {\n",
              "  /* fitted */\n",
              "  background-color: var(--sklearn-color-fitted-level-0);\n",
              "}\n",
              "\n",
              "#sk-container-id-1 div.sk-toggleable__content pre {\n",
              "  margin: 0.2em;\n",
              "  border-radius: 0.25em;\n",
              "  color: var(--sklearn-color-text);\n",
              "  /* unfitted */\n",
              "  background-color: var(--sklearn-color-unfitted-level-0);\n",
              "}\n",
              "\n",
              "#sk-container-id-1 div.sk-toggleable__content.fitted pre {\n",
              "  /* unfitted */\n",
              "  background-color: var(--sklearn-color-fitted-level-0);\n",
              "}\n",
              "\n",
              "#sk-container-id-1 input.sk-toggleable__control:checked~div.sk-toggleable__content {\n",
              "  /* Expand drop-down */\n",
              "  max-height: 200px;\n",
              "  max-width: 100%;\n",
              "  overflow: auto;\n",
              "}\n",
              "\n",
              "#sk-container-id-1 input.sk-toggleable__control:checked~label.sk-toggleable__label-arrow:before {\n",
              "  content: \"▾\";\n",
              "}\n",
              "\n",
              "/* Pipeline/ColumnTransformer-specific style */\n",
              "\n",
              "#sk-container-id-1 div.sk-label input.sk-toggleable__control:checked~label.sk-toggleable__label {\n",
              "  color: var(--sklearn-color-text);\n",
              "  background-color: var(--sklearn-color-unfitted-level-2);\n",
              "}\n",
              "\n",
              "#sk-container-id-1 div.sk-label.fitted input.sk-toggleable__control:checked~label.sk-toggleable__label {\n",
              "  background-color: var(--sklearn-color-fitted-level-2);\n",
              "}\n",
              "\n",
              "/* Estimator-specific style */\n",
              "\n",
              "/* Colorize estimator box */\n",
              "#sk-container-id-1 div.sk-estimator input.sk-toggleable__control:checked~label.sk-toggleable__label {\n",
              "  /* unfitted */\n",
              "  background-color: var(--sklearn-color-unfitted-level-2);\n",
              "}\n",
              "\n",
              "#sk-container-id-1 div.sk-estimator.fitted input.sk-toggleable__control:checked~label.sk-toggleable__label {\n",
              "  /* fitted */\n",
              "  background-color: var(--sklearn-color-fitted-level-2);\n",
              "}\n",
              "\n",
              "#sk-container-id-1 div.sk-label label.sk-toggleable__label,\n",
              "#sk-container-id-1 div.sk-label label {\n",
              "  /* The background is the default theme color */\n",
              "  color: var(--sklearn-color-text-on-default-background);\n",
              "}\n",
              "\n",
              "/* On hover, darken the color of the background */\n",
              "#sk-container-id-1 div.sk-label:hover label.sk-toggleable__label {\n",
              "  color: var(--sklearn-color-text);\n",
              "  background-color: var(--sklearn-color-unfitted-level-2);\n",
              "}\n",
              "\n",
              "/* Label box, darken color on hover, fitted */\n",
              "#sk-container-id-1 div.sk-label.fitted:hover label.sk-toggleable__label.fitted {\n",
              "  color: var(--sklearn-color-text);\n",
              "  background-color: var(--sklearn-color-fitted-level-2);\n",
              "}\n",
              "\n",
              "/* Estimator label */\n",
              "\n",
              "#sk-container-id-1 div.sk-label label {\n",
              "  font-family: monospace;\n",
              "  font-weight: bold;\n",
              "  display: inline-block;\n",
              "  line-height: 1.2em;\n",
              "}\n",
              "\n",
              "#sk-container-id-1 div.sk-label-container {\n",
              "  text-align: center;\n",
              "}\n",
              "\n",
              "/* Estimator-specific */\n",
              "#sk-container-id-1 div.sk-estimator {\n",
              "  font-family: monospace;\n",
              "  border: 1px dotted var(--sklearn-color-border-box);\n",
              "  border-radius: 0.25em;\n",
              "  box-sizing: border-box;\n",
              "  margin-bottom: 0.5em;\n",
              "  /* unfitted */\n",
              "  background-color: var(--sklearn-color-unfitted-level-0);\n",
              "}\n",
              "\n",
              "#sk-container-id-1 div.sk-estimator.fitted {\n",
              "  /* fitted */\n",
              "  background-color: var(--sklearn-color-fitted-level-0);\n",
              "}\n",
              "\n",
              "/* on hover */\n",
              "#sk-container-id-1 div.sk-estimator:hover {\n",
              "  /* unfitted */\n",
              "  background-color: var(--sklearn-color-unfitted-level-2);\n",
              "}\n",
              "\n",
              "#sk-container-id-1 div.sk-estimator.fitted:hover {\n",
              "  /* fitted */\n",
              "  background-color: var(--sklearn-color-fitted-level-2);\n",
              "}\n",
              "\n",
              "/* Specification for estimator info (e.g. \"i\" and \"?\") */\n",
              "\n",
              "/* Common style for \"i\" and \"?\" */\n",
              "\n",
              ".sk-estimator-doc-link,\n",
              "a:link.sk-estimator-doc-link,\n",
              "a:visited.sk-estimator-doc-link {\n",
              "  float: right;\n",
              "  font-size: smaller;\n",
              "  line-height: 1em;\n",
              "  font-family: monospace;\n",
              "  background-color: var(--sklearn-color-background);\n",
              "  border-radius: 1em;\n",
              "  height: 1em;\n",
              "  width: 1em;\n",
              "  text-decoration: none !important;\n",
              "  margin-left: 0.5em;\n",
              "  text-align: center;\n",
              "  /* unfitted */\n",
              "  border: var(--sklearn-color-unfitted-level-1) 1pt solid;\n",
              "  color: var(--sklearn-color-unfitted-level-1);\n",
              "}\n",
              "\n",
              ".sk-estimator-doc-link.fitted,\n",
              "a:link.sk-estimator-doc-link.fitted,\n",
              "a:visited.sk-estimator-doc-link.fitted {\n",
              "  /* fitted */\n",
              "  border: var(--sklearn-color-fitted-level-1) 1pt solid;\n",
              "  color: var(--sklearn-color-fitted-level-1);\n",
              "}\n",
              "\n",
              "/* On hover */\n",
              "div.sk-estimator:hover .sk-estimator-doc-link:hover,\n",
              ".sk-estimator-doc-link:hover,\n",
              "div.sk-label-container:hover .sk-estimator-doc-link:hover,\n",
              ".sk-estimator-doc-link:hover {\n",
              "  /* unfitted */\n",
              "  background-color: var(--sklearn-color-unfitted-level-3);\n",
              "  color: var(--sklearn-color-background);\n",
              "  text-decoration: none;\n",
              "}\n",
              "\n",
              "div.sk-estimator.fitted:hover .sk-estimator-doc-link.fitted:hover,\n",
              ".sk-estimator-doc-link.fitted:hover,\n",
              "div.sk-label-container:hover .sk-estimator-doc-link.fitted:hover,\n",
              ".sk-estimator-doc-link.fitted:hover {\n",
              "  /* fitted */\n",
              "  background-color: var(--sklearn-color-fitted-level-3);\n",
              "  color: var(--sklearn-color-background);\n",
              "  text-decoration: none;\n",
              "}\n",
              "\n",
              "/* Span, style for the box shown on hovering the info icon */\n",
              ".sk-estimator-doc-link span {\n",
              "  display: none;\n",
              "  z-index: 9999;\n",
              "  position: relative;\n",
              "  font-weight: normal;\n",
              "  right: .2ex;\n",
              "  padding: .5ex;\n",
              "  margin: .5ex;\n",
              "  width: min-content;\n",
              "  min-width: 20ex;\n",
              "  max-width: 50ex;\n",
              "  color: var(--sklearn-color-text);\n",
              "  box-shadow: 2pt 2pt 4pt #999;\n",
              "  /* unfitted */\n",
              "  background: var(--sklearn-color-unfitted-level-0);\n",
              "  border: .5pt solid var(--sklearn-color-unfitted-level-3);\n",
              "}\n",
              "\n",
              ".sk-estimator-doc-link.fitted span {\n",
              "  /* fitted */\n",
              "  background: var(--sklearn-color-fitted-level-0);\n",
              "  border: var(--sklearn-color-fitted-level-3);\n",
              "}\n",
              "\n",
              ".sk-estimator-doc-link:hover span {\n",
              "  display: block;\n",
              "}\n",
              "\n",
              "/* \"?\"-specific style due to the `<a>` HTML tag */\n",
              "\n",
              "#sk-container-id-1 a.estimator_doc_link {\n",
              "  float: right;\n",
              "  font-size: 1rem;\n",
              "  line-height: 1em;\n",
              "  font-family: monospace;\n",
              "  background-color: var(--sklearn-color-background);\n",
              "  border-radius: 1rem;\n",
              "  height: 1rem;\n",
              "  width: 1rem;\n",
              "  text-decoration: none;\n",
              "  /* unfitted */\n",
              "  color: var(--sklearn-color-unfitted-level-1);\n",
              "  border: var(--sklearn-color-unfitted-level-1) 1pt solid;\n",
              "}\n",
              "\n",
              "#sk-container-id-1 a.estimator_doc_link.fitted {\n",
              "  /* fitted */\n",
              "  border: var(--sklearn-color-fitted-level-1) 1pt solid;\n",
              "  color: var(--sklearn-color-fitted-level-1);\n",
              "}\n",
              "\n",
              "/* On hover */\n",
              "#sk-container-id-1 a.estimator_doc_link:hover {\n",
              "  /* unfitted */\n",
              "  background-color: var(--sklearn-color-unfitted-level-3);\n",
              "  color: var(--sklearn-color-background);\n",
              "  text-decoration: none;\n",
              "}\n",
              "\n",
              "#sk-container-id-1 a.estimator_doc_link.fitted:hover {\n",
              "  /* fitted */\n",
              "  background-color: var(--sklearn-color-fitted-level-3);\n",
              "}\n",
              "</style><div id=\"sk-container-id-1\" class=\"sk-top-container\"><div class=\"sk-text-repr-fallback\"><pre>CountVectorizer(binary=True, max_features=32000)</pre><b>In a Jupyter environment, please rerun this cell to show the HTML representation or trust the notebook. <br />On GitHub, the HTML representation is unable to render, please try loading this page with nbviewer.org.</b></div><div class=\"sk-container\" hidden><div class=\"sk-item\"><div class=\"sk-estimator fitted sk-toggleable\"><input class=\"sk-toggleable__control sk-hidden--visually\" id=\"sk-estimator-id-1\" type=\"checkbox\" checked><label for=\"sk-estimator-id-1\" class=\"sk-toggleable__label fitted sk-toggleable__label-arrow\"><div><div>CountVectorizer</div></div><div><a class=\"sk-estimator-doc-link fitted\" rel=\"noreferrer\" target=\"_blank\" href=\"https://scikit-learn.org/1.6/modules/generated/sklearn.feature_extraction.text.CountVectorizer.html\">?<span>Documentation for CountVectorizer</span></a><span class=\"sk-estimator-doc-link fitted\">i<span>Fitted</span></span></div></label><div class=\"sk-toggleable__content fitted\"><pre>CountVectorizer(binary=True, max_features=32000)</pre></div> </div></div></div></div>"
            ],
            "text/plain": [
              "CountVectorizer(binary=True, max_features=32000)"
            ]
          },
          "execution_count": 27,
          "metadata": {},
          "output_type": "execute_result"
        }
      ],
      "source": [
        "from sklearn.feature_extraction.text import CountVectorizer\n",
        "\n",
        "# Si aparece una palabra en una review, le pone un 1. Da igual que aparezca 100 veces, no cuenta. Xq binary=True\n",
        "# Solo pone 1s cuando detecta una palabra en una review\n",
        "prepro_vectorizer = CountVectorizer(binary=True, max_features = 32000) # Vamos a considerar un diccionario con los 32k tokens más usados\n",
        "prepro_vectorizer.fit(train_set[\"tokenizada\"]) # Al hacer el fit, se construye un diccionario de tokens"
      ]
    },
    {
      "cell_type": "code",
      "execution_count": 28,
      "metadata": {
        "colab": {
          "base_uri": "https://localhost:8080/"
        },
        "id": "YT7d6KeUQl9Y",
        "outputId": "54d33031-01a6-4199-ab55-686d5d9cb573",
        "scrolled": true
      },
      "outputs": [
        {
          "data": {
            "text/plain": [
              "{'always': 809,\n",
              " 'huge': 13601,\n",
              " 'james': 15032,\n",
              " 'bond': 3046,\n",
              " 'fanatic': 10106,\n",
              " 'seen': 25009,\n",
              " 'almost': 759,\n",
              " 'films': 10486,\n",
              " 'except': 9701,\n",
              " 'die': 7592,\n",
              " 'another': 1090,\n",
              " 'day': 6871,\n",
              " 'world': 31611,\n",
              " 'enough': 9277,\n",
              " 'graphic': 12129,\n",
              " 'everything': 9631,\n",
              " 'nothing': 19390,\n",
              " 'breathtaking': 3347,\n",
              " 'voice': 30762,\n",
              " 'talents': 28094,\n",
              " 'wow': 31649,\n",
              " 'love': 16785,\n",
              " 'pierce': 21059,\n",
              " 'brosnan': 3496,\n",
              " 'finally': 10504,\n",
              " 'video': 30581,\n",
              " 'game': 11418,\n",
              " 'enjoyed': 9254,\n",
              " 'past': 20502,\n",
              " 'games': 11424,\n",
              " 'goldeneye': 11929,\n",
              " 'agent': 509,\n",
              " 'fire': 10546,\n",
              " 'one': 19745,\n",
              " 'definitely': 7087,\n",
              " 'best': 2548,\n",
              " 'mr': 18666,\n",
              " 'may': 17579,\n",
              " 'call': 3860,\n",
              " 'sign': 25680,\n",
              " 'respect': 23536,\n",
              " 'yes': 31821,\n",
              " 'phenomenally': 20951,\n",
              " 'exciting': 9725,\n",
              " 'hear': 12908,\n",
              " 'long': 16687,\n",
              " 'last': 16053,\n",
              " 'duh': 8560,\n",
              " 'perform': 20783,\n",
              " 'robin': 23970,\n",
              " 'williams': 31385,\n",
              " 'let': 16312,\n",
              " 'tell': 28320,\n",
              " 'make': 17124,\n",
              " 'great': 12173,\n",
              " 'team': 28238,\n",
              " 'funny': 11313,\n",
              " 'wickedly': 31329,\n",
              " 'handsome': 12649,\n",
              " 'mean': 17675,\n",
              " 'say': 24605,\n",
              " 'good': 11952,\n",
              " 'way': 31069,\n",
              " 'actor': 248,\n",
              " 'would': 31639,\n",
              " 'want': 30935,\n",
              " 'walk': 30881,\n",
              " 'wrap': 31657,\n",
              " 'arms': 1383,\n",
              " 'around': 1391,\n",
              " 'hug': 13600,\n",
              " 'saying': 24606,\n",
              " 'thank': 28480,\n",
              " 'know': 15755,\n",
              " 'fan': 10105,\n",
              " 'willem': 31381,\n",
              " 'dafoe': 6697,\n",
              " 'even': 9608,\n",
              " 'though': 28621,\n",
              " 'couple': 6157,\n",
              " 'movies': 18634,\n",
              " 'role': 24027,\n",
              " 'nikolai': 19233,\n",
              " 'brilliant': 3423,\n",
              " 'spell': 26584,\n",
              " 'character': 4436,\n",
              " 'name': 18882,\n",
              " 'right': 23841,\n",
              " 'lol': 16669,\n",
              " 'job': 15209,\n",
              " 'accent': 116,\n",
              " 'sometimes': 26364,\n",
              " 'can': 3918,\n",
              " 'two': 29561,\n",
              " 'finding': 10517,\n",
              " 'nemo': 19089,\n",
              " 'spider': 26608,\n",
              " 'man': 17190,\n",
              " 'favorite': 10234,\n",
              " 'actress': 252,\n",
              " 'kirsten': 15682,\n",
              " 'dunst': 8611,\n",
              " 'rocks': 23998,\n",
              " 'anyway': 1161,\n",
              " 'never': 19134,\n",
              " 'ceases': 4283,\n",
              " 'amaze': 826,\n",
              " 'richard': 23787,\n",
              " 'kiel': 15624,\n",
              " 'got': 12019,\n",
              " 'part': 20437,\n",
              " 'jaw': 15082,\n",
              " 'nailed': 18864,\n",
              " 'movie': 18617,\n",
              " 'awesome': 1843,\n",
              " 'matter': 17546,\n",
              " 'fact': 10016,\n",
              " 'grandparent': 12114,\n",
              " 'met': 17892,\n",
              " 'jealous': 15096,\n",
              " 'told': 28876,\n",
              " 'top': 28938,\n",
              " 'list': 16534,\n",
              " 'meet': 17733,\n",
              " 'john': 15232,\n",
              " 'cleese': 4955,\n",
              " 'better': 2572,\n",
              " 'person': 20859,\n",
              " 'play': 21237,\n",
              " 'wisecracking': 31467,\n",
              " 'gadget': 11367,\n",
              " 'creating': 6306,\n",
              " 'hilarious': 13198,\n",
              " 'work': 31596,\n",
              " 'dies': 7598,\n",
              " 'recent': 22887,\n",
              " 'project': 22030,\n",
              " 'shrek': 25580,\n",
              " 'starring': 26952,\n",
              " 'mike': 17989,\n",
              " 'myer': 18814,\n",
              " 'cameron': 3894,\n",
              " 'diaz': 7560,\n",
              " 'julie': 15364,\n",
              " 'andrew': 980,\n",
              " 'eddie': 8783,\n",
              " 'murphy': 18754,\n",
              " 'theatre': 28503,\n",
              " 'luck': 16852,\n",
              " 'oh': 19679,\n",
              " 'yeah': 31792,\n",
              " 'alway': 808,\n",
              " 'says': 24610,\n",
              " 'grow': 12328,\n",
              " 'christian': 4730,\n",
              " 'terrible': 28414,\n",
              " 'acting': 233,\n",
              " 'unreal': 30088,\n",
              " 'situations': 25819,\n",
              " 'completely': 5462,\n",
              " 'facade': 10000,\n",
              " 'front': 11229,\n",
              " 'christianity': 4731,\n",
              " 'might': 17980,\n",
              " 'well': 31174,\n",
              " 'watch': 31022,\n",
              " 'remember': 23277,\n",
              " 'titans': 28824,\n",
              " 'least': 16188,\n",
              " 'mix': 18240,\n",
              " 'christ': 4726,\n",
              " 'football': 10891,\n",
              " 'film': 10464,\n",
              " 'like': 16441,\n",
              " 'formulaic': 10989,\n",
              " 'steroid': 27083,\n",
              " 'losers': 16748,\n",
              " 'really': 22820,\n",
              " 'pressing': 21810,\n",
              " 'comments': 5362,\n",
              " 'bothered': 3165,\n",
              " 'school': 24733,\n",
              " 'georgia': 11635,\n",
              " 'white': 31286,\n",
              " 'academy': 113,\n",
              " 'notice': 19392,\n",
              " 'single': 25774,\n",
              " 'black': 2739,\n",
              " 'student': 27376,\n",
              " 'player': 21242,\n",
              " 'deal': 6902,\n",
              " 'south': 26456,\n",
              " 'built': 3606,\n",
              " 'reason': 22838,\n",
              " 'segregation': 25024,\n",
              " 'troubling': 29382,\n",
              " 'changing': 4415,\n",
              " 'hearts': 12934,\n",
              " 'note': 19384,\n",
              " 'loved': 16791,\n",
              " 'token': 28873,\n",
              " 'coach': 5098,\n",
              " 'made': 17029,\n",
              " 'entirely': 9337,\n",
              " 'giants': 11701,\n",
              " 'players': 21243,\n",
              " 'uncritical': 29744,\n",
              " 'acclaim': 138,\n",
              " 'everyone': 9629,\n",
              " 'get': 11665,\n",
              " 'people': 20743,\n",
              " 'bad': 1934,\n",
              " 'filming': 10478,\n",
              " 'writing': 31700,\n",
              " 'short': 25512,\n",
              " 'poor': 21469,\n",
              " 'compared': 5412,\n",
              " 'compare': 5411,\n",
              " 'charisma': 4463,\n",
              " 'energy': 9207,\n",
              " 'half': 12566,\n",
              " 'baked': 1979,\n",
              " 'shown': 25570,\n",
              " 'less': 16303,\n",
              " 'sense': 25094,\n",
              " 'unrealistic': 30089,\n",
              " 'ending': 9183,\n",
              " 'simply': 25748,\n",
              " 'reading': 22795,\n",
              " 'little': 16561,\n",
              " 'scripture': 24873,\n",
              " 'praying': 21668,\n",
              " 'begin': 2371,\n",
              " 'complete': 5460,\n",
              " 'life': 16399,\n",
              " 'change': 4410,\n",
              " 'wonder': 31553,\n",
              " 'listen': 16536,\n",
              " 'christians': 4732,\n",
              " 'sell': 25049,\n",
              " 'cure': 6577,\n",
              " 'need': 19034,\n",
              " 'sold': 26311,\n",
              " 'attached': 1641,\n",
              " 'whimsical': 31254,\n",
              " 'lifestyles': 16413,\n",
              " 'considers': 5754,\n",
              " 'anti': 1112,\n",
              " 'intellectual': 14587,\n",
              " 'presentation': 21785,\n",
              " 'recognize': 22921,\n",
              " 'inspirational': 14514,\n",
              " 'give': 11774,\n",
              " 'real': 22802,\n",
              " 'picture': 21045,\n",
              " 'struggle': 27360,\n",
              " 'heartfelt': 12928,\n",
              " 'tension': 28383,\n",
              " 'importantly': 14038,\n",
              " 'means': 17687,\n",
              " 'stretch': 27298,\n",
              " 'values': 30364,\n",
              " 'falls': 10084,\n",
              " 'pull': 22273,\n",
              " 'message': 17882,\n",
              " 'shallow': 25294,\n",
              " 'positive': 21545,\n",
              " 'thinking': 28582,\n",
              " 'live': 16566,\n",
              " 'alongside': 763,\n",
              " 'third': 28587,\n",
              " 'living': 16582,\n",
              " 'conditions': 5607,\n",
              " 'hollow': 13350,\n",
              " 'churches': 4774,\n",
              " 'today': 28856,\n",
              " 'religion': 23235,\n",
              " 'neatly': 19017,\n",
              " 'sandwiched': 24485,\n",
              " 'stranger': 27244,\n",
              " 'small': 26084,\n",
              " 'noir': 19295,\n",
              " 'proved': 22167,\n",
              " 'welles': 31177,\n",
              " 'formidable': 10985,\n",
              " 'genre': 11604,\n",
              " 'budget': 3570,\n",
              " 'time': 28761,\n",
              " 'ironically': 14867,\n",
              " 'biggest': 2637,\n",
              " 'box': 3219,\n",
              " 'office': 19657,\n",
              " 'success': 27534,\n",
              " 'forties': 11004,\n",
              " 'macbeth': 16978,\n",
              " 'shakespeare': 25286,\n",
              " 'adaptation': 272,\n",
              " 'shot': 25528,\n",
              " 'old': 19696,\n",
              " 'western': 31203,\n",
              " 'days': 6877,\n",
              " 'comes': 5316,\n",
              " 'lady': 15921,\n",
              " 'dark': 6803,\n",
              " 'woven': 31648,\n",
              " 'fabric': 9992,\n",
              " 'mythos': 18843,\n",
              " 'covers': 6192,\n",
              " 'magnificent': 17076,\n",
              " 'ambersons': 838,\n",
              " 'director': 7706,\n",
              " 'manage': 17192,\n",
              " 'save': 24583,\n",
              " 'clutches': 5090,\n",
              " 'studio': 27381,\n",
              " 'bosses': 3154,\n",
              " 'six': 25822,\n",
              " 'years': 31801,\n",
              " 'maltese': 17176,\n",
              " 'falcon': 10073,\n",
              " 'post': 21562,\n",
              " 'war': 30941,\n",
              " 'craze': 6289,\n",
              " 'full': 11281,\n",
              " 'swing': 27910,\n",
              " 'ahead': 547,\n",
              " 'true': 29399,\n",
              " 'visionary': 30712,\n",
              " 'tremendous': 29270,\n",
              " 'artistic': 1448,\n",
              " 'integrity': 14585,\n",
              " 'envisioned': 9374,\n",
              " 'labyrinthine': 15894,\n",
              " 'shadows': 25267,\n",
              " 'already': 774,\n",
              " 'darker': 6806,\n",
              " 'sinister': 25783,\n",
              " 'paranoid': 20389,\n",
              " 'serpentine': 25171,\n",
              " 'anything': 1159,\n",
              " 'contemporaries': 5831,\n",
              " 'misunderstood': 18230,\n",
              " 'point': 21361,\n",
              " 'hour': 13557,\n",
              " 'footage': 10889,\n",
              " 'forever': 10952,\n",
              " 'left': 16220,\n",
              " 'cutting': 6651,\n",
              " 'room': 24082,\n",
              " 'floor': 10764,\n",
              " 'europe': 9577,\n",
              " 'championed': 4391,\n",
              " 'classic': 4902,\n",
              " 'certain': 4347,\n",
              " 'set': 25192,\n",
              " 'pieces': 21055,\n",
              " 'stand': 26907,\n",
              " 'aquarium': 1274,\n",
              " 'scene': 24677,\n",
              " 'flickering': 10716,\n",
              " 'light': 16424,\n",
              " 'ominous': 19727,\n",
              " 'course': 6166,\n",
              " 'funhouse': 11306,\n",
              " 'hall': 12569,\n",
              " 'mirrors': 18139,\n",
              " 'finale': 10501,\n",
              " 'piece': 21053,\n",
              " 'bravura': 3306,\n",
              " 'citizen': 4841,\n",
              " 'kane': 15445,\n",
              " 'trial': 29288,\n",
              " 'faults': 10221,\n",
              " 'find': 10515,\n",
              " 'ill': 13871,\n",
              " 'advised': 416,\n",
              " 'irish': 14857,\n",
              " 'perhaps': 20794,\n",
              " 'erratic': 9456,\n",
              " 'editing': 8803,\n",
              " 'first': 10566,\n",
              " 'act': 231,\n",
              " 'story': 27210,\n",
              " 'however': 13580,\n",
              " 'progressively': 22027,\n",
              " 'mesmerizing': 17880,\n",
              " 'manner': 17261,\n",
              " 'cuts': 6648,\n",
              " 'serve': 25178,\n",
              " 'intensify': 14606,\n",
              " 'believe': 2423,\n",
              " 'heavily': 12954,\n",
              " 'chopped': 4703,\n",
              " 'versions': 30524,\n",
              " 'attain': 1652,\n",
              " 'surreal': 27772,\n",
              " 'quality': 22412,\n",
              " 'exile': 9789,\n",
              " 'ten': 28356,\n",
              " 'return': 23647,\n",
              " 'deliver': 7160,\n",
              " 'yet': 31824,\n",
              " 'stonewall': 27179,\n",
              " 'monumental': 18434,\n",
              " 'touch': 29011,\n",
              " 'evil': 9641,\n",
              " 'crowning': 6462,\n",
              " 'jewel': 15164,\n",
              " 'waning': 30930,\n",
              " 'star': 26927,\n",
              " 'vehicle': 30443,\n",
              " 'hollywood': 13354,\n",
              " 'premiere': 21747,\n",
              " 'rita': 23904,\n",
              " 'hayworth': 12855,\n",
              " 'ought': 19968,\n",
              " 'marriage': 17396,\n",
              " 'ended': 9178,\n",
              " 'released': 23214,\n",
              " 'sixty': 25827,\n",
              " 'later': 16066,\n",
              " 'still': 27115,\n",
              " 'pictures': 21047,\n",
              " 'likely': 16446,\n",
              " 'discover': 7796,\n",
              " 'surely': 27737,\n",
              " 'must': 18785,\n",
              " 'count': 6134,\n",
              " 'something': 26360,\n",
              " 'ago': 529,\n",
              " 'follow': 10859,\n",
              " 'soap': 26245,\n",
              " 'tv': 29519,\n",
              " 'curious': 6584,\n",
              " 'rewarded': 23734,\n",
              " 'marvelous': 17435,\n",
              " 'spoof': 26701,\n",
              " 'soaps': 26248,\n",
              " 'jealousies': 15097,\n",
              " 'usual': 30294,\n",
              " 'actors': 249,\n",
              " 'insecurities': 14476,\n",
              " 'sorts': 26427,\n",
              " 'lovely': 16798,\n",
              " 'excesses': 9711,\n",
              " 'amazing': 830,\n",
              " 'cast': 4176,\n",
              " 'incredible': 14194,\n",
              " 'script': 24869,\n",
              " 'someone': 26352,\n",
              " 'notch': 19382,\n",
              " 'silly': 25716,\n",
              " 'sort': 26421,\n",
              " 'writers': 31696,\n",
              " 'write': 31694,\n",
              " 'perfect': 20778,\n",
              " 'lines': 16498,\n",
              " 'anyone': 1158,\n",
              " 'talk': 28099,\n",
              " 'admit': 341,\n",
              " 'hearing': 12910,\n",
              " 'highly': 13180,\n",
              " 'recommend': 22931,\n",
              " 'seeing': 24995,\n",
              " 'throw': 28670,\n",
              " 'end': 9166,\n",
              " 'sitting': 25814,\n",
              " 'couch': 6114,\n",
              " 'watching': 31030,\n",
              " 'laughing': 16084,\n",
              " 'thoroughly': 28619,\n",
              " 'enjoying': 9255,\n",
              " 'whole': 31301,\n",
              " 'wonderful': 31556,\n",
              " 'thing': 28576,\n",
              " 'many': 17293,\n",
              " 'congrats': 5675,\n",
              " 'here': 13078,\n",
              " 'gritty': 12280,\n",
              " 'guys': 12472,\n",
              " 'revenge': 23675,\n",
              " 'relentless': 23218,\n",
              " 'rough': 24147,\n",
              " 'denzel': 7267,\n",
              " 'washington': 31002,\n",
              " 'three': 28646,\n",
              " 'personalities': 20865,\n",
              " 'low': 16809,\n",
              " 'key': 15581,\n",
              " 'drunk': 8506,\n",
              " 'former': 10983,\n",
              " 'mercenary': 17836,\n",
              " 'loving': 16806,\n",
              " 'father': 10204,\n",
              " 'type': 29575,\n",
              " 'girl': 11756,\n",
              " 'brutal': 3531,\n",
              " 'maniac': 17232,\n",
              " 'loose': 16720,\n",
              " 'seeking': 25000,\n",
              " 'answers': 1096,\n",
              " 'hired': 13250,\n",
              " 'bodyguard': 2981,\n",
              " 'american': 864,\n",
              " 'mexico': 17929,\n",
              " 'kidnappings': 15619,\n",
              " 'children': 4639,\n",
              " 'occur': 19599,\n",
              " 'regularly': 23134,\n",
              " 'according': 160,\n",
              " 'becomes': 2322,\n",
              " 'kid': 15606,\n",
              " 'played': 21241,\n",
              " 'winningly': 31444,\n",
              " 'child': 4633,\n",
              " 'dakota': 6713,\n",
              " 'fanning': 10124,\n",
              " 'kidnapped': 15615,\n",
              " 'goes': 11912,\n",
              " 'men': 17801,\n",
              " 'responsible': 23557,\n",
              " 'spares': 26501,\n",
              " 'beware': 2584,\n",
              " 'squeamish': 26807,\n",
              " 'stylish': 27431,\n",
              " 'making': 17134,\n",
              " 'liked': 16444,\n",
              " 'number': 19466,\n",
              " 'found': 11031,\n",
              " 'frenetic': 11156,\n",
              " 'tastes': 28190,\n",
              " 'camera': 3889,\n",
              " 'could': 6121,\n",
              " 'headache': 12872,\n",
              " 'thought': 28622,\n",
              " 'fit': 10586,\n",
              " 'tense': 28381,\n",
              " 'storyline': 27214,\n",
              " 'fascinating': 10175,\n",
              " 'view': 30599,\n",
              " 'shaky': 25291,\n",
              " 'besides': 2541,\n",
              " 'stars': 26954,\n",
              " 'interesting': 14636,\n",
              " 'christopher': 4740,\n",
              " 'walken': 30884,\n",
              " 'uncharacteristically': 29706,\n",
              " 'fine': 10520,\n",
              " 'panders': 20308,\n",
              " 'base': 2178,\n",
              " 'emotions': 9092,\n",
              " 'us': 30273,\n",
              " 'works': 31609,\n",
              " 'baseball': 2179,\n",
              " 'since': 25760,\n",
              " 'redford': 23002,\n",
              " 'whacked': 31212,\n",
              " 'natural': 18970,\n",
              " 'dennis': 7246,\n",
              " 'quaid': 22403,\n",
              " 'rachel': 22503,\n",
              " 'griffiths': 12241,\n",
              " 'screen': 24845,\n",
              " 'seemed': 25004,\n",
              " 'lives': 16576,\n",
              " 'laced': 15898,\n",
              " 'dreams': 8408,\n",
              " 'dripping': 8453,\n",
              " 'reality': 22813,\n",
              " 'dream': 8398,\n",
              " 'devil': 7496,\n",
              " 'ray': 22766,\n",
              " 'mid': 17960,\n",
              " 'rookie': 24080,\n",
              " 'jimmy': 15189,\n",
              " 'morris': 18513,\n",
              " 'australian': 1740,\n",
              " 'born': 3136,\n",
              " 'plays': 21252,\n",
              " 'native': 18966,\n",
              " 'west': 31201,\n",
              " 'texan': 28462,\n",
              " 'lot': 16755,\n",
              " 'texans': 28463,\n",
              " 'perfection': 20780,\n",
              " 'wannabe': 30932,\n",
              " 'humble': 13636,\n",
              " 'winner': 31438,\n",
              " 'much': 18676,\n",
              " 'psychological': 22226,\n",
              " 'baggage': 1959,\n",
              " 'average': 1796,\n",
              " 'viewer': 30602,\n",
              " 'audience': 1706,\n",
              " 'chemistry': 4581,\n",
              " 'heart': 12918,\n",
              " 'going': 11919,\n",
              " 'ingredients': 14393,\n",
              " 'americana': 865,\n",
              " 'apple': 1227,\n",
              " 'pie': 21052,\n",
              " 'popcorn': 21475,\n",
              " 'became': 2311,\n",
              " 'la': 15873,\n",
              " 'mode': 18278,\n",
              " 'hey': 13134,\n",
              " 'buy': 3767,\n",
              " 'cd': 4278,\n",
              " 'music': 18771,\n",
              " 'carries': 4115,\n",
              " 'magnificently': 17077,\n",
              " 'syncing': 27991,\n",
              " 'words': 31593,\n",
              " 'pushes': 22365,\n",
              " 'forward': 11018,\n",
              " 'exactly': 9669,\n",
              " 'area': 1324,\n",
              " 'disappoints': 7743,\n",
              " 'often': 19673,\n",
              " 'criticisms': 6396,\n",
              " 'given': 11776,\n",
              " 'somebody': 26349,\n",
              " 'else': 9004,\n",
              " 'teach': 28230,\n",
              " 'st': 26831,\n",
              " 'nuns': 19475,\n",
              " 'nice': 19173,\n",
              " 'decoration': 7009,\n",
              " 'place': 21179,\n",
              " 'open': 19784,\n",
              " 'close': 5038,\n",
              " 'worth': 31635,\n",
              " 'every': 9625,\n",
              " 'minute': 18117,\n",
              " 'analysis': 943,\n",
              " 'greatest': 12175,\n",
              " 'enthusiasm': 9328,\n",
              " 'advance': 387,\n",
              " 'screening': 24848,\n",
              " 'oldest': 19698,\n",
              " 'complex': 5471,\n",
              " 'tales': 28095,\n",
              " 'known': 15763,\n",
              " 'mankind': 17255,\n",
              " 'epic': 9386,\n",
              " 'read': 22791,\n",
              " 'tolkien': 28882,\n",
              " 'disappointment': 7741,\n",
              " 'plot': 21293,\n",
              " 'joke': 15248,\n",
              " 'turned': 29503,\n",
              " 'opera': 19792,\n",
              " 'elements': 8941,\n",
              " 'faithful': 10064,\n",
              " 'sprinkled': 26758,\n",
              " 'throughout': 28669,\n",
              " 'haphazard': 12678,\n",
              " 'times': 28774,\n",
              " 'paid': 20233,\n",
              " 'lip': 16523,\n",
              " 'service': 25181,\n",
              " 'battle': 2238,\n",
              " 'battles': 2241,\n",
              " 'see': 24989,\n",
              " 'achilles': 195,\n",
              " 'strange': 27240,\n",
              " 'combination': 5291,\n",
              " 'nearly': 19014,\n",
              " 'matrix': 17540,\n",
              " 'powers': 21628,\n",
              " 'utter': 30309,\n",
              " 'ruthlessness': 24298,\n",
              " 'male': 17149,\n",
              " 'lovers': 16801,\n",
              " 'original': 19910,\n",
              " 'poem': 21349,\n",
              " 'turn': 29501,\n",
              " 'fabio': 9988,\n",
              " 'beach': 2264,\n",
              " 'guise': 12402,\n",
              " 'pitt': 21166,\n",
              " 'effort': 8848,\n",
              " 'warrior': 30987,\n",
              " 'figure': 10446,\n",
              " 'ever': 9617,\n",
              " 'produced': 21972,\n",
              " 'actually': 257,\n",
              " 'decent': 6970,\n",
              " 'trying': 29430,\n",
              " 'ridiculous': 23821,\n",
              " 'waste': 31010,\n",
              " 'talent': 28091,\n",
              " 'peter': 20914,\n",
              " 'toole': 28926,\n",
              " 'stole': 27162,\n",
              " 'show': 25548,\n",
              " 'orlando': 19919,\n",
              " 'bloom': 2900,\n",
              " 'sean': 24924,\n",
              " 'bean': 2275,\n",
              " 'pathetic': 20533,\n",
              " 'lotr': 16756,\n",
              " 'gladiator': 11786,\n",
              " 'hold': 13333,\n",
              " 'candle': 3937,\n",
              " 'plenty': 21281,\n",
              " 'hunks': 13683,\n",
              " 'ladies': 15919,\n",
              " 'goggle': 11914,\n",
              " 'scenes': 24680,\n",
              " 'siege': 25663,\n",
              " 'pay': 20601,\n",
              " 'dragged': 8346,\n",
              " 'dirt': 7712,\n",
              " 'characters': 4450,\n",
              " 'cent': 4325,\n",
              " 'deals': 6907,\n",
              " 'yore': 31847,\n",
              " 'far': 10136,\n",
              " 'realize': 22816,\n",
              " 'color': 5261,\n",
              " 'effects': 8840,\n",
              " 'extraordinary': 9949,\n",
              " 'vs': 30818,\n",
              " 'crap': 6260,\n",
              " 'earth': 8719,\n",
              " 'flying': 10824,\n",
              " 'saucers': 24568,\n",
              " 'killer': 15633,\n",
              " 'universality': 29996,\n",
              " 'hinges': 13233,\n",
              " 'principles': 21903,\n",
              " 'ancient': 965,\n",
              " 'concept': 5556,\n",
              " 'hidden': 13157,\n",
              " 'incestuous': 14133,\n",
              " 'desire': 7385,\n",
              " 'daughter': 6847,\n",
              " 'idea': 13798,\n",
              " 'happen': 12681,\n",
              " 'tech': 28259,\n",
              " 'reach': 22779,\n",
              " 'desires': 7388,\n",
              " 'become': 2321,\n",
              " 'manifest': 17239,\n",
              " 'needless': 19040,\n",
              " 'wished': 31474,\n",
              " 'dead': 6892,\n",
              " 'gets': 11667,\n",
              " 'fate': 10200,\n",
              " 'forbidden': 10910,\n",
              " 'planet': 21201,\n",
              " 'populace': 21486,\n",
              " 'rather': 22727,\n",
              " 'modern': 18288,\n",
              " 'unfortunately': 29922,\n",
              " 'gear': 11534,\n",
              " 'the': 28500,\n",
              " 'krell': 15820,\n",
              " 'wasted': 31011,\n",
              " 'ignorance': 13853,\n",
              " 'remains': 23261,\n",
              " 'morpheus': 18508,\n",
              " 'knows': 15764,\n",
              " 'access': 129,\n",
              " 'prevent': 21853,\n",
              " 'losing': 16751,\n",
              " 'beautifully': 2305,\n",
              " 'rendered': 23313,\n",
              " 'considering': 5753,\n",
              " 'age': 502,\n",
              " 'stunning': 27401,\n",
              " 'suspense': 27808,\n",
              " 'action': 235,\n",
              " 'human': 13621,\n",
              " 'emotion': 9087,\n",
              " 'visually': 30727,\n",
              " 'pass': 20477,\n",
              " 'sci': 24762,\n",
              " 'fi': 10404,\n",
              " 'content': 5840,\n",
              " 'elevates': 8948,\n",
              " 'beyond': 2592,\n",
              " 'timeless': 28768,\n",
              " 'pure': 22330,\n",
              " 'synth': 28000,\n",
              " 'perfectly': 20782,\n",
              " 'background': 1912,\n",
              " 'not': 19378,\n",
              " 'miss': 18196,\n",
              " 'headed': 12874,\n",
              " 'comedy': 5311,\n",
              " 'family': 10099,\n",
              " 'son': 26369,\n",
              " 'called': 3864,\n",
              " 'pecker': 20648,\n",
              " 'use': 30277,\n",
              " 'peck': 20646,\n",
              " 'food': 10879,\n",
              " 'loves': 16802,\n",
              " 'take': 28078,\n",
              " 'kinds': 15658,\n",
              " 'suburb': 27519,\n",
              " 'baltimore': 2028,\n",
              " 'md': 17667,\n",
              " 'manages': 17198,\n",
              " 'attention': 1669,\n",
              " 'group': 12323,\n",
              " 'photo': 20993,\n",
              " 'art': 1422,\n",
              " 'new': 19139,\n",
              " 'york': 31848,\n",
              " 'city': 4845,\n",
              " 'cute': 6637,\n",
              " 'sister': 25803,\n",
              " 'nuts': 19489,\n",
              " 'sugar': 27580,\n",
              " 'addict': 283,\n",
              " 'taking': 28085,\n",
              " 'bag': 1957,\n",
              " 'showing': 25565,\n",
              " 'lumps': 16897,\n",
              " 'jockey': 15215,\n",
              " 'grinding': 12260,\n",
              " 'movements': 18614,\n",
              " 'gals': 11412,\n",
              " 'pretty': 21847,\n",
              " 'hard': 12705,\n",
              " 'keep': 15528,\n",
              " 'mind': 18058,\n",
              " 'gutter': 12467,\n",
              " 'cares': 4051,\n",
              " 'laughs': 16086,\n",
              " 'simple': 25741,\n",
              " 'expecting': 9827,\n",
              " 'mainland': 17107,\n",
              " 'china': 4660,\n",
              " 'prepared': 21762,\n",
              " 'dynamics': 8679,\n",
              " 'community': 5399,\n",
              " 'inevitability': 14291,\n",
              " 'rarely': 22705,\n",
              " 'explored': 9880,\n",
              " 'expertly': 9849,\n",
              " 'solid': 26321,\n",
              " 'drawn': 8390,\n",
              " 'organization': 19889,\n",
              " 'audiences': 1707,\n",
              " 'accustomed': 183,\n",
              " 'difficulty': 7617,\n",
              " 'following': 10863,\n",
              " 'progression': 22025,\n",
              " 'subtitles': 27510,\n",
              " 'jiang': 15176,\n",
              " 'wu': 31716,\n",
              " 'retarded': 23613,\n",
              " 'brother': 3499,\n",
              " 'constant': 5776,\n",
              " 'shining': 25443,\n",
              " 'leave': 16194,\n",
              " 'cynicism': 6673,\n",
              " 'locker': 16638,\n",
              " 'check': 4534,\n",
              " 'realised': 22805,\n",
              " 'lost': 16754,\n",
              " 'valuable': 30361,\n",
              " 'precious': 21687,\n",
              " 'moments': 18350,\n",
              " 'back': 1903,\n",
              " 'dire': 7696,\n",
              " 'reminded': 23284,\n",
              " 'stereotypical': 27076,\n",
              " 'sitcom': 25807,\n",
              " 'regret': 23123,\n",
              " 'race': 22497,\n",
              " 'issue': 14936,\n",
              " 'apparently': 1203,\n",
              " 'mate': 17510,\n",
              " 'think': 28579,\n",
              " 'paint': 20244,\n",
              " 'dry': 8512,\n",
              " 'entertaining': 9319,\n",
              " 'funnier': 11310,\n",
              " 'pile': 21075,\n",
              " 'drivel': 8459,\n",
              " 'please': 21267,\n",
              " 'stop': 27191,\n",
              " 'probably': 21939,\n",
              " 'entire': 9336,\n",
              " 'dialog': 7542,\n",
              " 'backwards': 1929,\n",
              " 'hungary': 13678,\n",
              " 'young': 31858,\n",
              " 'stewart': 27096,\n",
              " 'eligible': 8963,\n",
              " 'bachelor': 1898,\n",
              " 'kralik': 15817,\n",
              " 'secret': 24958,\n",
              " 'admirer': 336,\n",
              " 'margaret': 17321,\n",
              " 'sullavan': 27610,\n",
              " 'innocent': 14445,\n",
              " 'klara': 15706,\n",
              " 'secretly': 24963,\n",
              " 'pen': 20701,\n",
              " 'friend': 11190,\n",
              " 'together': 28866,\n",
              " 'confides': 5639,\n",
              " 'letters': 16322,\n",
              " 'clearly': 4950,\n",
              " 'besotted': 2544,\n",
              " 'unable': 29647,\n",
              " 'feelings': 10300,\n",
              " 'whilst': 31249,\n",
              " 'competition': 5440,\n",
              " 'confused': 5666,\n",
              " 'wont': 31566,\n",
              " 'sweet': 27882,\n",
              " 'sugary': 27581,\n",
              " 'mentioning': 17825,\n",
              " 'frank': 11089,\n",
              " 'morgan': 18482,\n",
              " 'playing': 21249,\n",
              " 'shop': 25503,\n",
              " 'owner': 20180,\n",
              " 'hugo': 13608,\n",
              " 'matuschek': 17558,\n",
              " 'felix': 10311,\n",
              " 'bressart': 3369,\n",
              " 'pirovitch': 21144,\n",
              " 'confidant': 5632,\n",
              " 'joseph': 15283,\n",
              " 'schildkraut': 24703,\n",
              " 'womanising': 31545,\n",
              " 'arrogant': 1414,\n",
              " 'vadas': 30324,\n",
              " 'cannot': 3958,\n",
              " 'help': 13027,\n",
              " 'hate': 12805,\n",
              " 'beginning': 2374,\n",
              " 'william': 31384,\n",
              " 'tracy': 29077,\n",
              " 'endear': 9170,\n",
              " 'confident': 5636,\n",
              " 'upstart': 30243,\n",
              " 'junior': 15388,\n",
              " 'pepi': 20748,\n",
              " 'recently': 22888,\n",
              " 'mail': 17099,\n",
              " 'tom': 28886,\n",
              " 'hanks': 12667,\n",
              " 'meg': 17737,\n",
              " 'ryan': 24306,\n",
              " 'although': 798,\n",
              " 'suspect': 27801,\n",
              " 'younger': 31859,\n",
              " 'disagree': 7725,\n",
              " 'christmas': 4736,\n",
              " 'suggest': 27582,\n",
              " 'pour': 21608,\n",
              " 'glass': 11808,\n",
              " 'wine': 31426,\n",
              " 'put': 22373,\n",
              " 'log': 16653,\n",
              " 'kleenex': 15710,\n",
              " 'handy': 12652,\n",
              " 'waqt': 30940,\n",
              " 'example': 9684,\n",
              " 'chicken': 4621,\n",
              " 'soup': 26447,\n",
              " 'soul': 26434,\n",
              " 'actual': 255,\n",
              " 'taste': 28183,\n",
              " 'thanks': 28486,\n",
              " 'excess': 9710,\n",
              " 'went': 31192,\n",
              " 'what': 31220,\n",
              " 'surprising': 27770,\n",
              " 'disappointing': 7739,\n",
              " 'stayed': 27004,\n",
              " 'away': 1837,\n",
              " 'clichés': 4977,\n",
              " 'hindi': 13226,\n",
              " 'cinema': 4806,\n",
              " 'venture': 30476,\n",
              " 'second': 24953,\n",
              " 'outing': 20002,\n",
              " 'gives': 11778,\n",
              " 'stereotype': 27073,\n",
              " 'formulas': 10990,\n",
              " 'vipul': 30681,\n",
              " 'shah': 25277,\n",
              " 'conviction': 5943,\n",
              " 'implausible': 14017,\n",
              " 'blind': 2838,\n",
              " 'robbing': 23959,\n",
              " 'bank': 2061,\n",
              " 'aankhen': 5,\n",
              " 'fails': 10046,\n",
              " 'induce': 14261,\n",
              " ...}"
            ]
          },
          "execution_count": 28,
          "metadata": {},
          "output_type": "execute_result"
        }
      ],
      "source": [
        "prepro_vectorizer.vocabulary_"
      ]
    },
    {
      "cell_type": "code",
      "execution_count": 29,
      "metadata": {
        "id": "qVcvE5ExQl9Z"
      },
      "outputs": [],
      "source": [
        "vectors_preprocesed_train = prepro_vectorizer.transform(train_set[\"tokenizada\"])\n",
        "vectors_preprocesed_test = prepro_vectorizer.transform(test_set[\"tokenizada\"]) # Se usa el diccionario de train, si algun token de test no aparece en train no se contará"
      ]
    },
    {
      "cell_type": "markdown",
      "metadata": {
        "id": "Qr0DTDjrQl9Z",
        "scrolled": true
      },
      "source": [
        "Las transformaciones de sklearn son como su one-hot encoder (sí, de hecho es lo que hacemos con una vectorización binaria), es decir devuelven una matriz sparse (no todos los datos)"
      ]
    },
    {
      "cell_type": "code",
      "execution_count": 30,
      "metadata": {
        "colab": {
          "base_uri": "https://localhost:8080/",
          "height": 186
        },
        "id": "7qfCvl74Ql9Z",
        "outputId": "e0972591-169a-4d97-ee99-bec9c63a26fa"
      },
      "outputs": [
        {
          "data": {
            "text/plain": [
              "scipy.sparse._csr.csr_matrix"
            ]
          },
          "execution_count": 30,
          "metadata": {},
          "output_type": "execute_result"
        }
      ],
      "source": [
        "type(vectors_preprocesed_train)"
      ]
    },
    {
      "cell_type": "code",
      "execution_count": 31,
      "metadata": {
        "colab": {
          "base_uri": "https://localhost:8080/"
        },
        "id": "tfbdqWiKQl9Z",
        "outputId": "2f125f87-bbbf-427b-83ca-6f9e54e01a39"
      },
      "outputs": [
        {
          "data": {
            "text/plain": [
              "32000"
            ]
          },
          "execution_count": 31,
          "metadata": {},
          "output_type": "execute_result"
        }
      ],
      "source": [
        "len(prepro_vectorizer.get_feature_names_out()) # Aquí es donde están ordenadas las apariciones, para poder construir un dataframe a partir de la matriz sparse"
      ]
    },
    {
      "cell_type": "code",
      "execution_count": 32,
      "metadata": {
        "id": "9OPWaLbAQl9Z"
      },
      "outputs": [],
      "source": [
        "X_train_binary_vectorized = pd.DataFrame(vectors_preprocesed_train.toarray(), columns = prepro_vectorizer.get_feature_names_out())\n",
        "X_test_binary_vectorized = pd.DataFrame(vectors_preprocesed_test.toarray(), columns = prepro_vectorizer.get_feature_names_out())"
      ]
    },
    {
      "cell_type": "code",
      "execution_count": 33,
      "metadata": {
        "colab": {
          "base_uri": "https://localhost:8080/",
          "height": 423
        },
        "id": "YD-0LbtAQl9a",
        "outputId": "c7dc6937-c150-478d-ffde-16b751b134fa"
      },
      "outputs": [
        {
          "data": {
            "text/html": [
              "<div>\n",
              "<style scoped>\n",
              "    .dataframe tbody tr th:only-of-type {\n",
              "        vertical-align: middle;\n",
              "    }\n",
              "\n",
              "    .dataframe tbody tr th {\n",
              "        vertical-align: top;\n",
              "    }\n",
              "\n",
              "    .dataframe thead th {\n",
              "        text-align: right;\n",
              "    }\n",
              "</style>\n",
              "<table border=\"1\" class=\"dataframe\">\n",
              "  <thead>\n",
              "    <tr style=\"text-align: right;\">\n",
              "      <th></th>\n",
              "      <th>aa</th>\n",
              "      <th>aaa</th>\n",
              "      <th>aaargh</th>\n",
              "      <th>aag</th>\n",
              "      <th>aames</th>\n",
              "      <th>aankhen</th>\n",
              "      <th>aapke</th>\n",
              "      <th>aardman</th>\n",
              "      <th>aargh</th>\n",
              "      <th>aaron</th>\n",
              "      <th>...</th>\n",
              "      <th>zsigmond</th>\n",
              "      <th>zu</th>\n",
              "      <th>zucco</th>\n",
              "      <th>zucker</th>\n",
              "      <th>zuckerman</th>\n",
              "      <th>zulu</th>\n",
              "      <th>zuniga</th>\n",
              "      <th>zwick</th>\n",
              "      <th>ème</th>\n",
              "      <th>émigré</th>\n",
              "    </tr>\n",
              "  </thead>\n",
              "  <tbody>\n",
              "    <tr>\n",
              "      <th>0</th>\n",
              "      <td>0</td>\n",
              "      <td>0</td>\n",
              "      <td>0</td>\n",
              "      <td>0</td>\n",
              "      <td>0</td>\n",
              "      <td>0</td>\n",
              "      <td>0</td>\n",
              "      <td>0</td>\n",
              "      <td>0</td>\n",
              "      <td>0</td>\n",
              "      <td>...</td>\n",
              "      <td>0</td>\n",
              "      <td>0</td>\n",
              "      <td>0</td>\n",
              "      <td>0</td>\n",
              "      <td>0</td>\n",
              "      <td>0</td>\n",
              "      <td>0</td>\n",
              "      <td>0</td>\n",
              "      <td>0</td>\n",
              "      <td>0</td>\n",
              "    </tr>\n",
              "    <tr>\n",
              "      <th>1</th>\n",
              "      <td>0</td>\n",
              "      <td>0</td>\n",
              "      <td>0</td>\n",
              "      <td>0</td>\n",
              "      <td>0</td>\n",
              "      <td>0</td>\n",
              "      <td>0</td>\n",
              "      <td>0</td>\n",
              "      <td>0</td>\n",
              "      <td>0</td>\n",
              "      <td>...</td>\n",
              "      <td>0</td>\n",
              "      <td>0</td>\n",
              "      <td>0</td>\n",
              "      <td>0</td>\n",
              "      <td>0</td>\n",
              "      <td>0</td>\n",
              "      <td>0</td>\n",
              "      <td>0</td>\n",
              "      <td>0</td>\n",
              "      <td>0</td>\n",
              "    </tr>\n",
              "    <tr>\n",
              "      <th>2</th>\n",
              "      <td>0</td>\n",
              "      <td>0</td>\n",
              "      <td>0</td>\n",
              "      <td>0</td>\n",
              "      <td>0</td>\n",
              "      <td>0</td>\n",
              "      <td>0</td>\n",
              "      <td>0</td>\n",
              "      <td>0</td>\n",
              "      <td>0</td>\n",
              "      <td>...</td>\n",
              "      <td>0</td>\n",
              "      <td>0</td>\n",
              "      <td>0</td>\n",
              "      <td>0</td>\n",
              "      <td>0</td>\n",
              "      <td>0</td>\n",
              "      <td>0</td>\n",
              "      <td>0</td>\n",
              "      <td>0</td>\n",
              "      <td>0</td>\n",
              "    </tr>\n",
              "    <tr>\n",
              "      <th>3</th>\n",
              "      <td>0</td>\n",
              "      <td>0</td>\n",
              "      <td>0</td>\n",
              "      <td>0</td>\n",
              "      <td>0</td>\n",
              "      <td>0</td>\n",
              "      <td>0</td>\n",
              "      <td>0</td>\n",
              "      <td>0</td>\n",
              "      <td>0</td>\n",
              "      <td>...</td>\n",
              "      <td>0</td>\n",
              "      <td>0</td>\n",
              "      <td>0</td>\n",
              "      <td>0</td>\n",
              "      <td>0</td>\n",
              "      <td>0</td>\n",
              "      <td>0</td>\n",
              "      <td>0</td>\n",
              "      <td>0</td>\n",
              "      <td>0</td>\n",
              "    </tr>\n",
              "    <tr>\n",
              "      <th>4</th>\n",
              "      <td>0</td>\n",
              "      <td>0</td>\n",
              "      <td>0</td>\n",
              "      <td>0</td>\n",
              "      <td>0</td>\n",
              "      <td>0</td>\n",
              "      <td>0</td>\n",
              "      <td>0</td>\n",
              "      <td>0</td>\n",
              "      <td>0</td>\n",
              "      <td>...</td>\n",
              "      <td>0</td>\n",
              "      <td>0</td>\n",
              "      <td>0</td>\n",
              "      <td>0</td>\n",
              "      <td>0</td>\n",
              "      <td>0</td>\n",
              "      <td>0</td>\n",
              "      <td>0</td>\n",
              "      <td>0</td>\n",
              "      <td>0</td>\n",
              "    </tr>\n",
              "    <tr>\n",
              "      <th>...</th>\n",
              "      <td>...</td>\n",
              "      <td>...</td>\n",
              "      <td>...</td>\n",
              "      <td>...</td>\n",
              "      <td>...</td>\n",
              "      <td>...</td>\n",
              "      <td>...</td>\n",
              "      <td>...</td>\n",
              "      <td>...</td>\n",
              "      <td>...</td>\n",
              "      <td>...</td>\n",
              "      <td>...</td>\n",
              "      <td>...</td>\n",
              "      <td>...</td>\n",
              "      <td>...</td>\n",
              "      <td>...</td>\n",
              "      <td>...</td>\n",
              "      <td>...</td>\n",
              "      <td>...</td>\n",
              "      <td>...</td>\n",
              "      <td>...</td>\n",
              "    </tr>\n",
              "    <tr>\n",
              "      <th>19995</th>\n",
              "      <td>0</td>\n",
              "      <td>0</td>\n",
              "      <td>0</td>\n",
              "      <td>0</td>\n",
              "      <td>0</td>\n",
              "      <td>0</td>\n",
              "      <td>0</td>\n",
              "      <td>0</td>\n",
              "      <td>0</td>\n",
              "      <td>0</td>\n",
              "      <td>...</td>\n",
              "      <td>0</td>\n",
              "      <td>0</td>\n",
              "      <td>0</td>\n",
              "      <td>0</td>\n",
              "      <td>0</td>\n",
              "      <td>0</td>\n",
              "      <td>0</td>\n",
              "      <td>0</td>\n",
              "      <td>0</td>\n",
              "      <td>0</td>\n",
              "    </tr>\n",
              "    <tr>\n",
              "      <th>19996</th>\n",
              "      <td>0</td>\n",
              "      <td>0</td>\n",
              "      <td>0</td>\n",
              "      <td>0</td>\n",
              "      <td>0</td>\n",
              "      <td>0</td>\n",
              "      <td>0</td>\n",
              "      <td>0</td>\n",
              "      <td>0</td>\n",
              "      <td>0</td>\n",
              "      <td>...</td>\n",
              "      <td>0</td>\n",
              "      <td>0</td>\n",
              "      <td>0</td>\n",
              "      <td>0</td>\n",
              "      <td>0</td>\n",
              "      <td>0</td>\n",
              "      <td>0</td>\n",
              "      <td>0</td>\n",
              "      <td>0</td>\n",
              "      <td>0</td>\n",
              "    </tr>\n",
              "    <tr>\n",
              "      <th>19997</th>\n",
              "      <td>0</td>\n",
              "      <td>0</td>\n",
              "      <td>0</td>\n",
              "      <td>0</td>\n",
              "      <td>0</td>\n",
              "      <td>0</td>\n",
              "      <td>0</td>\n",
              "      <td>0</td>\n",
              "      <td>0</td>\n",
              "      <td>0</td>\n",
              "      <td>...</td>\n",
              "      <td>0</td>\n",
              "      <td>0</td>\n",
              "      <td>0</td>\n",
              "      <td>0</td>\n",
              "      <td>0</td>\n",
              "      <td>0</td>\n",
              "      <td>0</td>\n",
              "      <td>0</td>\n",
              "      <td>0</td>\n",
              "      <td>0</td>\n",
              "    </tr>\n",
              "    <tr>\n",
              "      <th>19998</th>\n",
              "      <td>0</td>\n",
              "      <td>0</td>\n",
              "      <td>0</td>\n",
              "      <td>0</td>\n",
              "      <td>0</td>\n",
              "      <td>0</td>\n",
              "      <td>0</td>\n",
              "      <td>0</td>\n",
              "      <td>0</td>\n",
              "      <td>0</td>\n",
              "      <td>...</td>\n",
              "      <td>0</td>\n",
              "      <td>0</td>\n",
              "      <td>0</td>\n",
              "      <td>0</td>\n",
              "      <td>0</td>\n",
              "      <td>0</td>\n",
              "      <td>0</td>\n",
              "      <td>0</td>\n",
              "      <td>0</td>\n",
              "      <td>0</td>\n",
              "    </tr>\n",
              "    <tr>\n",
              "      <th>19999</th>\n",
              "      <td>0</td>\n",
              "      <td>0</td>\n",
              "      <td>0</td>\n",
              "      <td>0</td>\n",
              "      <td>0</td>\n",
              "      <td>0</td>\n",
              "      <td>0</td>\n",
              "      <td>0</td>\n",
              "      <td>0</td>\n",
              "      <td>0</td>\n",
              "      <td>...</td>\n",
              "      <td>0</td>\n",
              "      <td>0</td>\n",
              "      <td>0</td>\n",
              "      <td>0</td>\n",
              "      <td>0</td>\n",
              "      <td>0</td>\n",
              "      <td>0</td>\n",
              "      <td>0</td>\n",
              "      <td>0</td>\n",
              "      <td>0</td>\n",
              "    </tr>\n",
              "  </tbody>\n",
              "</table>\n",
              "<p>20000 rows × 32000 columns</p>\n",
              "</div>"
            ],
            "text/plain": [
              "       aa  aaa  aaargh  aag  aames  aankhen  aapke  aardman  aargh  aaron  \\\n",
              "0       0    0       0    0      0        0      0        0      0      0   \n",
              "1       0    0       0    0      0        0      0        0      0      0   \n",
              "2       0    0       0    0      0        0      0        0      0      0   \n",
              "3       0    0       0    0      0        0      0        0      0      0   \n",
              "4       0    0       0    0      0        0      0        0      0      0   \n",
              "...    ..  ...     ...  ...    ...      ...    ...      ...    ...    ...   \n",
              "19995   0    0       0    0      0        0      0        0      0      0   \n",
              "19996   0    0       0    0      0        0      0        0      0      0   \n",
              "19997   0    0       0    0      0        0      0        0      0      0   \n",
              "19998   0    0       0    0      0        0      0        0      0      0   \n",
              "19999   0    0       0    0      0        0      0        0      0      0   \n",
              "\n",
              "       ...  zsigmond  zu  zucco  zucker  zuckerman  zulu  zuniga  zwick  ème  \\\n",
              "0      ...         0   0      0       0          0     0       0      0    0   \n",
              "1      ...         0   0      0       0          0     0       0      0    0   \n",
              "2      ...         0   0      0       0          0     0       0      0    0   \n",
              "3      ...         0   0      0       0          0     0       0      0    0   \n",
              "4      ...         0   0      0       0          0     0       0      0    0   \n",
              "...    ...       ...  ..    ...     ...        ...   ...     ...    ...  ...   \n",
              "19995  ...         0   0      0       0          0     0       0      0    0   \n",
              "19996  ...         0   0      0       0          0     0       0      0    0   \n",
              "19997  ...         0   0      0       0          0     0       0      0    0   \n",
              "19998  ...         0   0      0       0          0     0       0      0    0   \n",
              "19999  ...         0   0      0       0          0     0       0      0    0   \n",
              "\n",
              "       émigré  \n",
              "0           0  \n",
              "1           0  \n",
              "2           0  \n",
              "3           0  \n",
              "4           0  \n",
              "...       ...  \n",
              "19995       0  \n",
              "19996       0  \n",
              "19997       0  \n",
              "19998       0  \n",
              "19999       0  \n",
              "\n",
              "[20000 rows x 32000 columns]"
            ]
          },
          "execution_count": 33,
          "metadata": {},
          "output_type": "execute_result"
        }
      ],
      "source": [
        "X_train_binary_vectorized"
      ]
    },
    {
      "cell_type": "code",
      "execution_count": 34,
      "metadata": {
        "colab": {
          "base_uri": "https://localhost:8080/",
          "height": 178
        },
        "id": "SQ68qmfuQl9a",
        "outputId": "e77357e8-3245-4d6a-d6d0-b68d95b81ef9"
      },
      "outputs": [
        {
          "data": {
            "text/plain": [
              "brosnan\n",
              "0    19952\n",
              "1       48\n",
              "Name: count, dtype: int64"
            ]
          },
          "execution_count": 34,
          "metadata": {},
          "output_type": "execute_result"
        }
      ],
      "source": [
        "X_train_binary_vectorized[\"brosnan\"].value_counts()"
      ]
    },
    {
      "cell_type": "markdown",
      "metadata": {
        "id": "bHGeW9lnQl9a"
      },
      "source": [
        "Si te parecían poco los 32K tokens puedes ver que hemos considerado alguno \"discutible\" (\"\\_is\\_\",\"\\_the\",\"ème\") que también pueden hacer replantearte una limpieza mayor (quitar esos \"\\_\"). De hecho, eso haríamos ahora, volver al principio y relimpiar, pero por temas de tiempo seguimos adelante."
      ]
    },
    {
      "cell_type": "markdown",
      "metadata": {
        "id": "Tq50ETFsQl9a"
      },
      "source": [
        "#### Vectorizacion no-binaria"
      ]
    },
    {
      "cell_type": "markdown",
      "metadata": {
        "id": "CYsDGXMvQl9a"
      },
      "source": [
        "Ahora se tiene en cuenta el número de veces que aparece cada token en el texto correspondiente."
      ]
    },
    {
      "cell_type": "code",
      "execution_count": 35,
      "metadata": {
        "id": "jf-Drnq4Ql9a"
      },
      "outputs": [],
      "source": [
        "prepro_vectorizer = CountVectorizer(binary = False, max_features = 32000) # tengo en cuenta todas las apariciones\n",
        "X_vectors_train_freq = prepro_vectorizer.fit_transform(train_set[\"tokenizada\"]) # Los vamos a manetener como sparse matrix para acelerar los entrenamientos\n",
        "X_vectors_test_freq = prepro_vectorizer.transform(test_set[\"tokenizada\"])"
      ]
    },
    {
      "cell_type": "code",
      "execution_count": 36,
      "metadata": {
        "id": "L-PcL9zTQl9a"
      },
      "outputs": [],
      "source": [
        "#df_train_vectorized_bow_freq = pd.DataFrame(X_vectors_train_freq.toarray(), columns = prepro_vectorizer.get_feature_names_out())\n",
        "#df_test_vectorized_bow_freq = pd.DataFrame(vectors_preprocesed_test.toarray(), columns = prepro_vectorizer.get_feature_names_out())"
      ]
    },
    {
      "cell_type": "code",
      "execution_count": 37,
      "metadata": {
        "colab": {
          "base_uri": "https://localhost:8080/"
        },
        "id": "v-VOQtmkQl9b",
        "outputId": "fd317d97-3301-4f06-e9b2-59912230f727"
      },
      "outputs": [
        {
          "data": {
            "text/plain": [
              "31815"
            ]
          },
          "execution_count": 37,
          "metadata": {},
          "output_type": "execute_result"
        }
      ],
      "source": [
        "arg_yellow=np.argmax(prepro_vectorizer.get_feature_names_out() == 'yellow')\n",
        "arg_yellow # columna"
      ]
    },
    {
      "cell_type": "code",
      "execution_count": 38,
      "metadata": {
        "colab": {
          "base_uri": "https://localhost:8080/",
          "height": 80
        },
        "id": "W2ha0tkzQl9b",
        "outputId": "2960c0ff-5c66-4147-ac95-23ae0590579d"
      },
      "outputs": [
        {
          "data": {
            "text/html": [
              "<style>#sk-container-id-2 {\n",
              "  /* Definition of color scheme common for light and dark mode */\n",
              "  --sklearn-color-text: #000;\n",
              "  --sklearn-color-text-muted: #666;\n",
              "  --sklearn-color-line: gray;\n",
              "  /* Definition of color scheme for unfitted estimators */\n",
              "  --sklearn-color-unfitted-level-0: #fff5e6;\n",
              "  --sklearn-color-unfitted-level-1: #f6e4d2;\n",
              "  --sklearn-color-unfitted-level-2: #ffe0b3;\n",
              "  --sklearn-color-unfitted-level-3: chocolate;\n",
              "  /* Definition of color scheme for fitted estimators */\n",
              "  --sklearn-color-fitted-level-0: #f0f8ff;\n",
              "  --sklearn-color-fitted-level-1: #d4ebff;\n",
              "  --sklearn-color-fitted-level-2: #b3dbfd;\n",
              "  --sklearn-color-fitted-level-3: cornflowerblue;\n",
              "\n",
              "  /* Specific color for light theme */\n",
              "  --sklearn-color-text-on-default-background: var(--sg-text-color, var(--theme-code-foreground, var(--jp-content-font-color1, black)));\n",
              "  --sklearn-color-background: var(--sg-background-color, var(--theme-background, var(--jp-layout-color0, white)));\n",
              "  --sklearn-color-border-box: var(--sg-text-color, var(--theme-code-foreground, var(--jp-content-font-color1, black)));\n",
              "  --sklearn-color-icon: #696969;\n",
              "\n",
              "  @media (prefers-color-scheme: dark) {\n",
              "    /* Redefinition of color scheme for dark theme */\n",
              "    --sklearn-color-text-on-default-background: var(--sg-text-color, var(--theme-code-foreground, var(--jp-content-font-color1, white)));\n",
              "    --sklearn-color-background: var(--sg-background-color, var(--theme-background, var(--jp-layout-color0, #111)));\n",
              "    --sklearn-color-border-box: var(--sg-text-color, var(--theme-code-foreground, var(--jp-content-font-color1, white)));\n",
              "    --sklearn-color-icon: #878787;\n",
              "  }\n",
              "}\n",
              "\n",
              "#sk-container-id-2 {\n",
              "  color: var(--sklearn-color-text);\n",
              "}\n",
              "\n",
              "#sk-container-id-2 pre {\n",
              "  padding: 0;\n",
              "}\n",
              "\n",
              "#sk-container-id-2 input.sk-hidden--visually {\n",
              "  border: 0;\n",
              "  clip: rect(1px 1px 1px 1px);\n",
              "  clip: rect(1px, 1px, 1px, 1px);\n",
              "  height: 1px;\n",
              "  margin: -1px;\n",
              "  overflow: hidden;\n",
              "  padding: 0;\n",
              "  position: absolute;\n",
              "  width: 1px;\n",
              "}\n",
              "\n",
              "#sk-container-id-2 div.sk-dashed-wrapped {\n",
              "  border: 1px dashed var(--sklearn-color-line);\n",
              "  margin: 0 0.4em 0.5em 0.4em;\n",
              "  box-sizing: border-box;\n",
              "  padding-bottom: 0.4em;\n",
              "  background-color: var(--sklearn-color-background);\n",
              "}\n",
              "\n",
              "#sk-container-id-2 div.sk-container {\n",
              "  /* jupyter's `normalize.less` sets `[hidden] { display: none; }`\n",
              "     but bootstrap.min.css set `[hidden] { display: none !important; }`\n",
              "     so we also need the `!important` here to be able to override the\n",
              "     default hidden behavior on the sphinx rendered scikit-learn.org.\n",
              "     See: https://github.com/scikit-learn/scikit-learn/issues/21755 */\n",
              "  display: inline-block !important;\n",
              "  position: relative;\n",
              "}\n",
              "\n",
              "#sk-container-id-2 div.sk-text-repr-fallback {\n",
              "  display: none;\n",
              "}\n",
              "\n",
              "div.sk-parallel-item,\n",
              "div.sk-serial,\n",
              "div.sk-item {\n",
              "  /* draw centered vertical line to link estimators */\n",
              "  background-image: linear-gradient(var(--sklearn-color-text-on-default-background), var(--sklearn-color-text-on-default-background));\n",
              "  background-size: 2px 100%;\n",
              "  background-repeat: no-repeat;\n",
              "  background-position: center center;\n",
              "}\n",
              "\n",
              "/* Parallel-specific style estimator block */\n",
              "\n",
              "#sk-container-id-2 div.sk-parallel-item::after {\n",
              "  content: \"\";\n",
              "  width: 100%;\n",
              "  border-bottom: 2px solid var(--sklearn-color-text-on-default-background);\n",
              "  flex-grow: 1;\n",
              "}\n",
              "\n",
              "#sk-container-id-2 div.sk-parallel {\n",
              "  display: flex;\n",
              "  align-items: stretch;\n",
              "  justify-content: center;\n",
              "  background-color: var(--sklearn-color-background);\n",
              "  position: relative;\n",
              "}\n",
              "\n",
              "#sk-container-id-2 div.sk-parallel-item {\n",
              "  display: flex;\n",
              "  flex-direction: column;\n",
              "}\n",
              "\n",
              "#sk-container-id-2 div.sk-parallel-item:first-child::after {\n",
              "  align-self: flex-end;\n",
              "  width: 50%;\n",
              "}\n",
              "\n",
              "#sk-container-id-2 div.sk-parallel-item:last-child::after {\n",
              "  align-self: flex-start;\n",
              "  width: 50%;\n",
              "}\n",
              "\n",
              "#sk-container-id-2 div.sk-parallel-item:only-child::after {\n",
              "  width: 0;\n",
              "}\n",
              "\n",
              "/* Serial-specific style estimator block */\n",
              "\n",
              "#sk-container-id-2 div.sk-serial {\n",
              "  display: flex;\n",
              "  flex-direction: column;\n",
              "  align-items: center;\n",
              "  background-color: var(--sklearn-color-background);\n",
              "  padding-right: 1em;\n",
              "  padding-left: 1em;\n",
              "}\n",
              "\n",
              "\n",
              "/* Toggleable style: style used for estimator/Pipeline/ColumnTransformer box that is\n",
              "clickable and can be expanded/collapsed.\n",
              "- Pipeline and ColumnTransformer use this feature and define the default style\n",
              "- Estimators will overwrite some part of the style using the `sk-estimator` class\n",
              "*/\n",
              "\n",
              "/* Pipeline and ColumnTransformer style (default) */\n",
              "\n",
              "#sk-container-id-2 div.sk-toggleable {\n",
              "  /* Default theme specific background. It is overwritten whether we have a\n",
              "  specific estimator or a Pipeline/ColumnTransformer */\n",
              "  background-color: var(--sklearn-color-background);\n",
              "}\n",
              "\n",
              "/* Toggleable label */\n",
              "#sk-container-id-2 label.sk-toggleable__label {\n",
              "  cursor: pointer;\n",
              "  display: flex;\n",
              "  width: 100%;\n",
              "  margin-bottom: 0;\n",
              "  padding: 0.5em;\n",
              "  box-sizing: border-box;\n",
              "  text-align: center;\n",
              "  align-items: start;\n",
              "  justify-content: space-between;\n",
              "  gap: 0.5em;\n",
              "}\n",
              "\n",
              "#sk-container-id-2 label.sk-toggleable__label .caption {\n",
              "  font-size: 0.6rem;\n",
              "  font-weight: lighter;\n",
              "  color: var(--sklearn-color-text-muted);\n",
              "}\n",
              "\n",
              "#sk-container-id-2 label.sk-toggleable__label-arrow:before {\n",
              "  /* Arrow on the left of the label */\n",
              "  content: \"▸\";\n",
              "  float: left;\n",
              "  margin-right: 0.25em;\n",
              "  color: var(--sklearn-color-icon);\n",
              "}\n",
              "\n",
              "#sk-container-id-2 label.sk-toggleable__label-arrow:hover:before {\n",
              "  color: var(--sklearn-color-text);\n",
              "}\n",
              "\n",
              "/* Toggleable content - dropdown */\n",
              "\n",
              "#sk-container-id-2 div.sk-toggleable__content {\n",
              "  max-height: 0;\n",
              "  max-width: 0;\n",
              "  overflow: hidden;\n",
              "  text-align: left;\n",
              "  /* unfitted */\n",
              "  background-color: var(--sklearn-color-unfitted-level-0);\n",
              "}\n",
              "\n",
              "#sk-container-id-2 div.sk-toggleable__content.fitted {\n",
              "  /* fitted */\n",
              "  background-color: var(--sklearn-color-fitted-level-0);\n",
              "}\n",
              "\n",
              "#sk-container-id-2 div.sk-toggleable__content pre {\n",
              "  margin: 0.2em;\n",
              "  border-radius: 0.25em;\n",
              "  color: var(--sklearn-color-text);\n",
              "  /* unfitted */\n",
              "  background-color: var(--sklearn-color-unfitted-level-0);\n",
              "}\n",
              "\n",
              "#sk-container-id-2 div.sk-toggleable__content.fitted pre {\n",
              "  /* unfitted */\n",
              "  background-color: var(--sklearn-color-fitted-level-0);\n",
              "}\n",
              "\n",
              "#sk-container-id-2 input.sk-toggleable__control:checked~div.sk-toggleable__content {\n",
              "  /* Expand drop-down */\n",
              "  max-height: 200px;\n",
              "  max-width: 100%;\n",
              "  overflow: auto;\n",
              "}\n",
              "\n",
              "#sk-container-id-2 input.sk-toggleable__control:checked~label.sk-toggleable__label-arrow:before {\n",
              "  content: \"▾\";\n",
              "}\n",
              "\n",
              "/* Pipeline/ColumnTransformer-specific style */\n",
              "\n",
              "#sk-container-id-2 div.sk-label input.sk-toggleable__control:checked~label.sk-toggleable__label {\n",
              "  color: var(--sklearn-color-text);\n",
              "  background-color: var(--sklearn-color-unfitted-level-2);\n",
              "}\n",
              "\n",
              "#sk-container-id-2 div.sk-label.fitted input.sk-toggleable__control:checked~label.sk-toggleable__label {\n",
              "  background-color: var(--sklearn-color-fitted-level-2);\n",
              "}\n",
              "\n",
              "/* Estimator-specific style */\n",
              "\n",
              "/* Colorize estimator box */\n",
              "#sk-container-id-2 div.sk-estimator input.sk-toggleable__control:checked~label.sk-toggleable__label {\n",
              "  /* unfitted */\n",
              "  background-color: var(--sklearn-color-unfitted-level-2);\n",
              "}\n",
              "\n",
              "#sk-container-id-2 div.sk-estimator.fitted input.sk-toggleable__control:checked~label.sk-toggleable__label {\n",
              "  /* fitted */\n",
              "  background-color: var(--sklearn-color-fitted-level-2);\n",
              "}\n",
              "\n",
              "#sk-container-id-2 div.sk-label label.sk-toggleable__label,\n",
              "#sk-container-id-2 div.sk-label label {\n",
              "  /* The background is the default theme color */\n",
              "  color: var(--sklearn-color-text-on-default-background);\n",
              "}\n",
              "\n",
              "/* On hover, darken the color of the background */\n",
              "#sk-container-id-2 div.sk-label:hover label.sk-toggleable__label {\n",
              "  color: var(--sklearn-color-text);\n",
              "  background-color: var(--sklearn-color-unfitted-level-2);\n",
              "}\n",
              "\n",
              "/* Label box, darken color on hover, fitted */\n",
              "#sk-container-id-2 div.sk-label.fitted:hover label.sk-toggleable__label.fitted {\n",
              "  color: var(--sklearn-color-text);\n",
              "  background-color: var(--sklearn-color-fitted-level-2);\n",
              "}\n",
              "\n",
              "/* Estimator label */\n",
              "\n",
              "#sk-container-id-2 div.sk-label label {\n",
              "  font-family: monospace;\n",
              "  font-weight: bold;\n",
              "  display: inline-block;\n",
              "  line-height: 1.2em;\n",
              "}\n",
              "\n",
              "#sk-container-id-2 div.sk-label-container {\n",
              "  text-align: center;\n",
              "}\n",
              "\n",
              "/* Estimator-specific */\n",
              "#sk-container-id-2 div.sk-estimator {\n",
              "  font-family: monospace;\n",
              "  border: 1px dotted var(--sklearn-color-border-box);\n",
              "  border-radius: 0.25em;\n",
              "  box-sizing: border-box;\n",
              "  margin-bottom: 0.5em;\n",
              "  /* unfitted */\n",
              "  background-color: var(--sklearn-color-unfitted-level-0);\n",
              "}\n",
              "\n",
              "#sk-container-id-2 div.sk-estimator.fitted {\n",
              "  /* fitted */\n",
              "  background-color: var(--sklearn-color-fitted-level-0);\n",
              "}\n",
              "\n",
              "/* on hover */\n",
              "#sk-container-id-2 div.sk-estimator:hover {\n",
              "  /* unfitted */\n",
              "  background-color: var(--sklearn-color-unfitted-level-2);\n",
              "}\n",
              "\n",
              "#sk-container-id-2 div.sk-estimator.fitted:hover {\n",
              "  /* fitted */\n",
              "  background-color: var(--sklearn-color-fitted-level-2);\n",
              "}\n",
              "\n",
              "/* Specification for estimator info (e.g. \"i\" and \"?\") */\n",
              "\n",
              "/* Common style for \"i\" and \"?\" */\n",
              "\n",
              ".sk-estimator-doc-link,\n",
              "a:link.sk-estimator-doc-link,\n",
              "a:visited.sk-estimator-doc-link {\n",
              "  float: right;\n",
              "  font-size: smaller;\n",
              "  line-height: 1em;\n",
              "  font-family: monospace;\n",
              "  background-color: var(--sklearn-color-background);\n",
              "  border-radius: 1em;\n",
              "  height: 1em;\n",
              "  width: 1em;\n",
              "  text-decoration: none !important;\n",
              "  margin-left: 0.5em;\n",
              "  text-align: center;\n",
              "  /* unfitted */\n",
              "  border: var(--sklearn-color-unfitted-level-1) 1pt solid;\n",
              "  color: var(--sklearn-color-unfitted-level-1);\n",
              "}\n",
              "\n",
              ".sk-estimator-doc-link.fitted,\n",
              "a:link.sk-estimator-doc-link.fitted,\n",
              "a:visited.sk-estimator-doc-link.fitted {\n",
              "  /* fitted */\n",
              "  border: var(--sklearn-color-fitted-level-1) 1pt solid;\n",
              "  color: var(--sklearn-color-fitted-level-1);\n",
              "}\n",
              "\n",
              "/* On hover */\n",
              "div.sk-estimator:hover .sk-estimator-doc-link:hover,\n",
              ".sk-estimator-doc-link:hover,\n",
              "div.sk-label-container:hover .sk-estimator-doc-link:hover,\n",
              ".sk-estimator-doc-link:hover {\n",
              "  /* unfitted */\n",
              "  background-color: var(--sklearn-color-unfitted-level-3);\n",
              "  color: var(--sklearn-color-background);\n",
              "  text-decoration: none;\n",
              "}\n",
              "\n",
              "div.sk-estimator.fitted:hover .sk-estimator-doc-link.fitted:hover,\n",
              ".sk-estimator-doc-link.fitted:hover,\n",
              "div.sk-label-container:hover .sk-estimator-doc-link.fitted:hover,\n",
              ".sk-estimator-doc-link.fitted:hover {\n",
              "  /* fitted */\n",
              "  background-color: var(--sklearn-color-fitted-level-3);\n",
              "  color: var(--sklearn-color-background);\n",
              "  text-decoration: none;\n",
              "}\n",
              "\n",
              "/* Span, style for the box shown on hovering the info icon */\n",
              ".sk-estimator-doc-link span {\n",
              "  display: none;\n",
              "  z-index: 9999;\n",
              "  position: relative;\n",
              "  font-weight: normal;\n",
              "  right: .2ex;\n",
              "  padding: .5ex;\n",
              "  margin: .5ex;\n",
              "  width: min-content;\n",
              "  min-width: 20ex;\n",
              "  max-width: 50ex;\n",
              "  color: var(--sklearn-color-text);\n",
              "  box-shadow: 2pt 2pt 4pt #999;\n",
              "  /* unfitted */\n",
              "  background: var(--sklearn-color-unfitted-level-0);\n",
              "  border: .5pt solid var(--sklearn-color-unfitted-level-3);\n",
              "}\n",
              "\n",
              ".sk-estimator-doc-link.fitted span {\n",
              "  /* fitted */\n",
              "  background: var(--sklearn-color-fitted-level-0);\n",
              "  border: var(--sklearn-color-fitted-level-3);\n",
              "}\n",
              "\n",
              ".sk-estimator-doc-link:hover span {\n",
              "  display: block;\n",
              "}\n",
              "\n",
              "/* \"?\"-specific style due to the `<a>` HTML tag */\n",
              "\n",
              "#sk-container-id-2 a.estimator_doc_link {\n",
              "  float: right;\n",
              "  font-size: 1rem;\n",
              "  line-height: 1em;\n",
              "  font-family: monospace;\n",
              "  background-color: var(--sklearn-color-background);\n",
              "  border-radius: 1rem;\n",
              "  height: 1rem;\n",
              "  width: 1rem;\n",
              "  text-decoration: none;\n",
              "  /* unfitted */\n",
              "  color: var(--sklearn-color-unfitted-level-1);\n",
              "  border: var(--sklearn-color-unfitted-level-1) 1pt solid;\n",
              "}\n",
              "\n",
              "#sk-container-id-2 a.estimator_doc_link.fitted {\n",
              "  /* fitted */\n",
              "  border: var(--sklearn-color-fitted-level-1) 1pt solid;\n",
              "  color: var(--sklearn-color-fitted-level-1);\n",
              "}\n",
              "\n",
              "/* On hover */\n",
              "#sk-container-id-2 a.estimator_doc_link:hover {\n",
              "  /* unfitted */\n",
              "  background-color: var(--sklearn-color-unfitted-level-3);\n",
              "  color: var(--sklearn-color-background);\n",
              "  text-decoration: none;\n",
              "}\n",
              "\n",
              "#sk-container-id-2 a.estimator_doc_link.fitted:hover {\n",
              "  /* fitted */\n",
              "  background-color: var(--sklearn-color-fitted-level-3);\n",
              "}\n",
              "</style><div id=\"sk-container-id-2\" class=\"sk-top-container\"><div class=\"sk-text-repr-fallback\"><pre>CountVectorizer(max_features=32000)</pre><b>In a Jupyter environment, please rerun this cell to show the HTML representation or trust the notebook. <br />On GitHub, the HTML representation is unable to render, please try loading this page with nbviewer.org.</b></div><div class=\"sk-container\" hidden><div class=\"sk-item\"><div class=\"sk-estimator fitted sk-toggleable\"><input class=\"sk-toggleable__control sk-hidden--visually\" id=\"sk-estimator-id-2\" type=\"checkbox\" checked><label for=\"sk-estimator-id-2\" class=\"sk-toggleable__label fitted sk-toggleable__label-arrow\"><div><div>CountVectorizer</div></div><div><a class=\"sk-estimator-doc-link fitted\" rel=\"noreferrer\" target=\"_blank\" href=\"https://scikit-learn.org/1.6/modules/generated/sklearn.feature_extraction.text.CountVectorizer.html\">?<span>Documentation for CountVectorizer</span></a><span class=\"sk-estimator-doc-link fitted\">i<span>Fitted</span></span></div></label><div class=\"sk-toggleable__content fitted\"><pre>CountVectorizer(max_features=32000)</pre></div> </div></div></div></div>"
            ],
            "text/plain": [
              "CountVectorizer(max_features=32000)"
            ]
          },
          "execution_count": 38,
          "metadata": {},
          "output_type": "execute_result"
        }
      ],
      "source": [
        "prepro_vectorizer"
      ]
    },
    {
      "cell_type": "code",
      "execution_count": 39,
      "metadata": {
        "colab": {
          "base_uri": "https://localhost:8080/"
        },
        "id": "pfubKI8bQl9b",
        "outputId": "e9cec05b-613d-4f08-8c7d-84f94fe8e6d8"
      },
      "outputs": [
        {
          "data": {
            "text/plain": [
              "<Compressed Sparse Row sparse matrix of dtype 'int64'\n",
              "\twith 68 stored elements and shape (20000, 1)>"
            ]
          },
          "execution_count": 39,
          "metadata": {},
          "output_type": "execute_result"
        }
      ],
      "source": [
        "X_vectors_train_freq.getcol(arg_yellow)"
      ]
    },
    {
      "cell_type": "code",
      "execution_count": 40,
      "metadata": {
        "colab": {
          "base_uri": "https://localhost:8080/",
          "height": 303
        },
        "id": "TjOtPlhzQl9b",
        "outputId": "8cda4126-2b28-48e6-9059-71bf80c9fefc"
      },
      "outputs": [
        {
          "data": {
            "text/plain": [
              "yellow\n",
              "0         19932\n",
              "1            61\n",
              "2             3\n",
              "5             2\n",
              "3             1\n",
              "7             1\n",
              "Name: count, dtype: int64"
            ]
          },
          "execution_count": 40,
          "metadata": {},
          "output_type": "execute_result"
        }
      ],
      "source": [
        "pd.DataFrame(X_vectors_train_freq.getcol(arg_yellow).toarray(), columns= ['yellow']).value_counts()"
      ]
    },
    {
      "cell_type": "markdown",
      "metadata": {
        "id": "WBOxl72QQl9b"
      },
      "source": [
        "Para ver las diferencias busquemos algún token que pueda aparecer más de una vez, como por ejemplo (si acertaste lo tenía preparado), \"yellow\":"
      ]
    },
    {
      "cell_type": "code",
      "execution_count": 41,
      "metadata": {
        "id": "NOCCD5JRQl9b",
        "scrolled": true
      },
      "outputs": [],
      "source": [
        "#df_train_vectorized_bow_freq[\"yellow\"].value_counts()"
      ]
    },
    {
      "cell_type": "markdown",
      "metadata": {
        "id": "qfAd90CMQl9b"
      },
      "source": [
        "Y si lo vemos en el vectorizado binario:"
      ]
    },
    {
      "cell_type": "code",
      "execution_count": 42,
      "metadata": {
        "colab": {
          "base_uri": "https://localhost:8080/",
          "height": 178
        },
        "id": "SMOj3qt2Ql9c",
        "outputId": "fc4b83fc-1dea-4832-9031-cbb6da623f6a",
        "scrolled": true
      },
      "outputs": [
        {
          "data": {
            "text/plain": [
              "yellow\n",
              "0    19932\n",
              "1       68\n",
              "Name: count, dtype: int64"
            ]
          },
          "execution_count": 42,
          "metadata": {},
          "output_type": "execute_result"
        }
      ],
      "source": [
        "X_train_binary_vectorized[\"yellow\"].value_counts()"
      ]
    },
    {
      "cell_type": "markdown",
      "metadata": {
        "id": "v1FRG-UGQl9c",
        "scrolled": true
      },
      "source": [
        "Por curiosidad, quien repite \"yellow\", 7 veces"
      ]
    },
    {
      "cell_type": "code",
      "execution_count": 43,
      "metadata": {
        "id": "-wCefasLQl9c"
      },
      "outputs": [],
      "source": [
        "fila_yellow7 = X_vectors_train_freq.getcol(arg_yellow).toarray().ravel().argmax()"
      ]
    },
    {
      "cell_type": "code",
      "execution_count": 44,
      "metadata": {
        "colab": {
          "base_uri": "https://localhost:8080/"
        },
        "id": "bNAcj8PdQl9c",
        "outputId": "4401dc5f-97a3-4d79-95fa-e5bfb37a9a40"
      },
      "outputs": [
        {
          "name": "stdout",
          "output_type": "stream",
          "text": [
            "\"Jag är nyfiken  Yellow\" is a lot of fun. Like at least one other reviewer, I was, on numerous occasions, laughing out loud. Yellow is energetic, playful, self-aware, explorative. Don't expect Bergman here. This movie is about a youth in the early- to mid-60s in Sweden and about the issues, read *contradictions*, that the nation and the world were facing. At times Yellow appears to be an earnest social-political documentary, with Lena, the main character, and others interviewing both common people and politicians (e.g. Olaf Palme at home). At other times, Yellow seems to parody this kind of documentary. All the while, Yellow acts as a personal documentary exploring Lena's life - her home life, her loves, her political views, her view of herself. She is a complete person  complex, flawed, contradictory, happy, sad, curious. And placed over all of this is the wonderful additional dimension of the director, Sjöman, and his crew documenting themselves documenting Lena. It is this that, for me, really gives Yellow wings. Not only do they suddenly appear at some very funny times and in some funny ways, reminding the viewer that this is fiction and artifice, but their presence is itself another layer of the film; they are filming themselves filming themselves. I am reminded of a Bjork music video with this same quality  a music video about the making of a music video, ad infinitum, with each iteration getting weirder and more cartoonish. I think Sjöman may have had something similar in mind. While \"Jag är nyfiken  Yellow\" may not be everyone's cup of tea, it is certainly intelligent, witty, refreshing, ebullient, and authentic.\n"
          ]
        }
      ],
      "source": [
        "#mascara7 = X_vectors_train_freq.getcol(arg_yellow).toarray() == 7\n",
        "\n",
        "print(train_set.loc[fila_yellow7,\"reseña\"])"
      ]
    },
    {
      "cell_type": "code",
      "execution_count": 45,
      "metadata": {
        "id": "ZKzhCbS-Ql9c",
        "scrolled": true
      },
      "outputs": [],
      "source": [
        "#print(train_set.loc[df_train_vectorized_bow_freq.yellow == 7, \"reseña\"].values)"
      ]
    },
    {
      "cell_type": "markdown",
      "metadata": {
        "id": "SMHQ2vsJQl9c"
      },
      "source": [
        "Es una pena no tener el título porque verías que la película a la que hace referencia es la primera del dataset \"I am a curious yellow\" (no preguntes más, la conozco tanto como tú)"
      ]
    },
    {
      "cell_type": "markdown",
      "metadata": {
        "id": "EdZth94sQl9c"
      },
      "source": [
        "***"
      ]
    },
    {
      "cell_type": "markdown",
      "metadata": {
        "id": "3bG27MpVQl9d"
      },
      "source": [
        "#### Vectorizacion de texto (II): con tf-idf"
      ]
    },
    {
      "cell_type": "markdown",
      "metadata": {
        "id": "wr5YGV5pQl9d"
      },
      "source": [
        "Otra forma común de representar las \"features\" de texto en lenguaje natural en un dataframe es utilizar la estadística tf-idf (frecuencia de término-frecuencia inversa de documento) para cada palabra/token, que es un factor de ponderación que podemos usar en lugar de representaciones binarias o de conteo de palabras.\n",
        "\n",
        "*NOTA*: Antes de continuar, un poco de terminología NLP. En NLP se designa como **documento** a cada fragmento de texto a vectorizar o analizar por individual, en nuestro caso cada reseña sería un documento. Y se desgina como **corpus** al conjunto completo de documentos que se tratan de forma agrupada, en nuestro caso el corpus del train es el conjunto total de reseñas del train y el corpus del test sería el conjunto total de reseñas del test. Sigamos.\n",
        "\n",
        "Existen varias formas de realizar la transformación tf-idf, pero en esencia, tf-idf pretende representar el número de veces que una palabra dada aparece en un documento (una reseña de película en nuestro caso) en relación con el número de documentos (reseñas) en el corpus (todas las reseñas de train o de test) en los que aparece la palabra."
      ]
    },
    {
      "cell_type": "markdown",
      "metadata": {
        "id": "MSW91Ol5Ql9d"
      },
      "source": [
        "Por cada token en un texto se hace el cáculo de su tf-idf y eso es lo que se almacena.\n",
        "Para cada texto, pasa por cada token del texo:  \n",
        "    * Calculamos tf -> El número de veces que aparece ese token/El número de tokens que hay en el documento/instancia (en nuestro caso el número de veces que un token aparece en la review que estamos vectorizando)  \n",
        "    $$tf(token_x) = num\\_apariciones\\_token_x$$\n",
        "    * Calculamos la idf -> la inversa de una medida de la frecuencia de aparición del token en todos los textos del dataset/corpus:\n",
        "    $$idf(token_x) = \\log({\\frac{len(dataset)}{df(token_x)}}) + 1,\\text{donde }df(token_x)\\ \\text{es el número de reseñas en las que aparece el token x}$$\n",
        "    * Y el valor que almacenaríamos en la feature del texto para el token es el producto de los dos valores anteriores. Y digo almacenaríamos porque sklearn aplica dos modificaciones por defecto, una fórmula suavizada y una normalización (una divisón del valor total por la norma del vector resultante (pero a efectos teóricos lo que se está haciendo es una ponderación de los valores en función de las frecuencias de aparición).\n"
      ]
    },
    {
      "cell_type": "markdown",
      "metadata": {
        "id": "ykotBCToQl9d"
      },
      "source": [
        "Veamos un ejemplo sencillo y luego lo aplicaremos a nuestro train y nuestro test... por supuesto, tiramos de scikit-learn:"
      ]
    },
    {
      "cell_type": "code",
      "execution_count": 46,
      "metadata": {
        "colab": {
          "base_uri": "https://localhost:8080/",
          "height": 143
        },
        "id": "AcVxpP3IQl9d",
        "outputId": "57a587a5-cdee-40e4-ee7b-84f4093b9efb",
        "scrolled": true
      },
      "outputs": [
        {
          "data": {
            "text/html": [
              "<div>\n",
              "<style scoped>\n",
              "    .dataframe tbody tr th:only-of-type {\n",
              "        vertical-align: middle;\n",
              "    }\n",
              "\n",
              "    .dataframe tbody tr th {\n",
              "        vertical-align: top;\n",
              "    }\n",
              "\n",
              "    .dataframe thead th {\n",
              "        text-align: right;\n",
              "    }\n",
              "</style>\n",
              "<table border=\"1\" class=\"dataframe\">\n",
              "  <thead>\n",
              "    <tr style=\"text-align: right;\">\n",
              "      <th></th>\n",
              "      <th>fat</th>\n",
              "      <th>is</th>\n",
              "      <th>my</th>\n",
              "      <th>name</th>\n",
              "      <th>ralph</th>\n",
              "      <th>Sent</th>\n",
              "    </tr>\n",
              "  </thead>\n",
              "  <tbody>\n",
              "    <tr>\n",
              "      <th>0</th>\n",
              "      <td>0.000000</td>\n",
              "      <td>1.405465</td>\n",
              "      <td>2.098612</td>\n",
              "      <td>2.098612</td>\n",
              "      <td>1.0</td>\n",
              "      <td>My name is Ralph</td>\n",
              "    </tr>\n",
              "    <tr>\n",
              "      <th>1</th>\n",
              "      <td>2.098612</td>\n",
              "      <td>1.405465</td>\n",
              "      <td>0.000000</td>\n",
              "      <td>0.000000</td>\n",
              "      <td>1.0</td>\n",
              "      <td>Ralph is fat</td>\n",
              "    </tr>\n",
              "    <tr>\n",
              "      <th>2</th>\n",
              "      <td>0.000000</td>\n",
              "      <td>0.000000</td>\n",
              "      <td>0.000000</td>\n",
              "      <td>0.000000</td>\n",
              "      <td>1.0</td>\n",
              "      <td>Ralph</td>\n",
              "    </tr>\n",
              "  </tbody>\n",
              "</table>\n",
              "</div>"
            ],
            "text/plain": [
              "        fat        is        my      name  ralph              Sent\n",
              "0  0.000000  1.405465  2.098612  2.098612    1.0  My name is Ralph\n",
              "1  2.098612  1.405465  0.000000  0.000000    1.0      Ralph is fat\n",
              "2  0.000000  0.000000  0.000000  0.000000    1.0             Ralph"
            ]
          },
          "execution_count": 46,
          "metadata": {},
          "output_type": "execute_result"
        }
      ],
      "source": [
        "from sklearn.feature_extraction.text import TfidfVectorizer\n",
        "# TfidfTransformer\n",
        "'''\n",
        "Cuanto mas comun, mas bajo es el TfidfVectorizer\n",
        "'''\n",
        "sent1 = 'My name is Ralph'\n",
        "sent2 = 'Ralph is fat'\n",
        "sent3 = 'Ralph'\n",
        "\n",
        "test = TfidfVectorizer(smooth_idf= False, norm = None) # Para que sea la fórmula anterior, si no usa una para suavizar\n",
        "valores = test.fit_transform([sent1, sent2, sent3])\n",
        "df_test_tfidf = pd.DataFrame(valores.toarray(), columns = test.get_feature_names_out())\n",
        "df_test_tfidf[\"Sent\"] = [sent1,sent2,sent3]\n",
        "df_test_tfidf"
      ]
    },
    {
      "cell_type": "code",
      "execution_count": 47,
      "metadata": {
        "colab": {
          "base_uri": "https://localhost:8080/"
        },
        "id": "DjsTd3pSQl9d",
        "outputId": "d32d7cc1-78b3-4a83-9942-4368ff5bbffc"
      },
      "outputs": [
        {
          "data": {
            "text/plain": [
              "1.4054651081081644"
            ]
          },
          "execution_count": 47,
          "metadata": {},
          "output_type": "execute_result"
        }
      ],
      "source": [
        "1*(np.log(3/2)+1)"
      ]
    },
    {
      "cell_type": "markdown",
      "metadata": {
        "id": "x7LTeQ_IQl9d"
      },
      "source": [
        "Apliquémoslo a nuestro train y test:"
      ]
    },
    {
      "cell_type": "code",
      "execution_count": 48,
      "metadata": {
        "id": "tFZviDGAQl9d"
      },
      "outputs": [],
      "source": [
        "vectorizador_tfidf = TfidfVectorizer(max_features = 32000)\n",
        "vec_train_tfidf = prepro_vectorizer.fit_transform(train_set[\"tokenizada\"])\n",
        "vec_test_tfidf = prepro_vectorizer.transform(test_set[\"tokenizada\"])\n",
        "features_tfidf = prepro_vectorizer.get_feature_names_out()"
      ]
    },
    {
      "cell_type": "markdown",
      "metadata": {
        "id": "FpuksYRQQl9e"
      },
      "source": [
        "Por ahora y para ahorrar memoria no lo vamos a expandir a un dataset, de hecho te mostraré que puedes usar las sparse matrix en sklearn directamente."
      ]
    },
    {
      "cell_type": "markdown",
      "metadata": {
        "id": "dJgDQb33Ql9e"
      },
      "source": [
        "Desde un punto de vista un poco \"grosero\" el tf-idf se podría considerar como una normalización o escalado particular bastante interantes (porque se adapta a las propiedades genéricas del corpus) para un BoW normal."
      ]
    },
    {
      "cell_type": "markdown",
      "metadata": {
        "id": "vhwOBqc9Ql9e"
      },
      "source": [
        "#### Vectorización de texto (III): Con n-gramas"
      ]
    },
    {
      "cell_type": "markdown",
      "metadata": {
        "id": "fRdBL23eQl9e"
      },
      "source": [
        "Finalmente, vamos a cambiar la unidad de referencia, en vez de ser el token vamos a utilizar lo n-gramms (n-gramas).  \n",
        "Un **n-gramma** es una combinación de n palabras/tokens que van seguidas. n = 1 -> token.  \n",
        "Podemos hacer que en vez de contar tokens se cuenten n-grams, y además no sólo un tipo de n-gram, puedo incluir tokens (1-grams), bi-grams (2-grams), tri-gramas (3-grams)... etc y lo que haremos será vectorizar como hemos hecho antes pero sobre los n-gramas."
      ]
    },
    {
      "cell_type": "markdown",
      "metadata": {
        "id": "S9Llbzi0Ql9e"
      },
      "source": [
        "Para que veas el concepto:"
      ]
    },
    {
      "cell_type": "code",
      "execution_count": 49,
      "metadata": {
        "colab": {
          "base_uri": "https://localhost:8080/"
        },
        "id": "Hz3uDwxOQl9e",
        "outputId": "f912c83f-a606-445a-b05b-2aeb5d90970d"
      },
      "outputs": [
        {
          "name": "stdout",
          "output_type": "stream",
          "text": [
            "this is foo bar\n",
            "2-grams\n",
            "('this', 'is')\n",
            "('is', 'foo')\n",
            "('foo', 'bar')\n",
            "###############\n",
            "3-grams\n",
            "('this', 'is', 'foo')\n",
            "('is', 'foo', 'bar')\n"
          ]
        }
      ],
      "source": [
        "from nltk import ngrams\n",
        "\n",
        "sentence = 'this is foo bar'\n",
        "\n",
        "two = ngrams(sentence.split(), 2)\n",
        "three = ngrams(sentence.split(), 3)\n",
        "\n",
        "print(sentence)\n",
        "print(\"2-grams\")\n",
        "for grams in two:\n",
        "    print(grams)\n",
        "print('###############')\n",
        "print(\"3-grams\")\n",
        "for grams in three:\n",
        "    print(grams)\n",
        "\n",
        "\n"
      ]
    },
    {
      "cell_type": "markdown",
      "metadata": {
        "id": "G8weOQdCQl9e"
      },
      "source": [
        "Entonces ahora en vez de considerar los tokens sueltos iremos considerando agrupaciones de 2,3,.., n tokens que aparezcan seguidos (es decir para el ejemplo anterior en el caso de bigramas, 2-gram, n= 2, no  buscaríamos cuánto aparecen \"this\", \"is\",\"foo\" o \"bar\", buscaríamos cuánto aparecen \"this is\", \"is foo\", etc, etc). Te puedes imaginar que esto dispara aún más nuestro número de features en la vectorización y  más si además no sólo me centro en bigramas sino en tokens y bigramas juntos, etc, etc. Como la explosión combinatoria de la regresión polinómica."
      ]
    },
    {
      "cell_type": "code",
      "execution_count": 50,
      "metadata": {
        "colab": {
          "base_uri": "https://localhost:8080/",
          "height": 133
        },
        "id": "bSIA9TvwQl9e",
        "outputId": "b1ff5998-5e63-4787-aae1-3fb324bf6b23"
      },
      "outputs": [
        {
          "name": "stdout",
          "output_type": "stream",
          "text": [
            "[[1 1 1 1 1 1 1 1 1]]\n",
            "9\n",
            "dict_keys(['this', 'is', 'foo', 'bar', 'this is', 'is foo', 'foo bar', 'this is foo', 'is foo bar'])\n"
          ]
        },
        {
          "data": {
            "text/html": [
              "<div>\n",
              "<style scoped>\n",
              "    .dataframe tbody tr th:only-of-type {\n",
              "        vertical-align: middle;\n",
              "    }\n",
              "\n",
              "    .dataframe tbody tr th {\n",
              "        vertical-align: top;\n",
              "    }\n",
              "\n",
              "    .dataframe thead th {\n",
              "        text-align: right;\n",
              "    }\n",
              "</style>\n",
              "<table border=\"1\" class=\"dataframe\">\n",
              "  <thead>\n",
              "    <tr style=\"text-align: right;\">\n",
              "      <th></th>\n",
              "      <th>bar</th>\n",
              "      <th>foo</th>\n",
              "      <th>foo bar</th>\n",
              "      <th>is</th>\n",
              "      <th>is foo</th>\n",
              "      <th>is foo bar</th>\n",
              "      <th>this</th>\n",
              "      <th>this is</th>\n",
              "      <th>this is foo</th>\n",
              "    </tr>\n",
              "  </thead>\n",
              "  <tbody>\n",
              "    <tr>\n",
              "      <th>0</th>\n",
              "      <td>1</td>\n",
              "      <td>1</td>\n",
              "      <td>1</td>\n",
              "      <td>1</td>\n",
              "      <td>1</td>\n",
              "      <td>1</td>\n",
              "      <td>1</td>\n",
              "      <td>1</td>\n",
              "      <td>1</td>\n",
              "    </tr>\n",
              "  </tbody>\n",
              "</table>\n",
              "</div>"
            ],
            "text/plain": [
              "   bar  foo  foo bar  is  is foo  is foo bar  this  this is  this is foo\n",
              "0    1    1        1   1       1           1     1        1            1"
            ]
          },
          "execution_count": 50,
          "metadata": {},
          "output_type": "execute_result"
        }
      ],
      "source": [
        "ngram_vectorizer = CountVectorizer(binary=True,\n",
        "                                   ngram_range=(1, 3)) # Va contar para los tokens originales, para 2-gramms y para 3-gramms\n",
        "\n",
        "vector = ngram_vectorizer.fit_transform([sentence]).toarray()\n",
        "print(vector)\n",
        "print(len(vector[0]))\n",
        "print(ngram_vectorizer.vocabulary_.keys())\n",
        "pd.DataFrame(vector, columns= ngram_vectorizer.get_feature_names_out())"
      ]
    },
    {
      "cell_type": "markdown",
      "metadata": {
        "id": "YESllikDQl9e"
      },
      "source": [
        "Debido al uso de memoria, no vamos a aplicarlo a nuestro dataset inicial y no entrenaremos con ello, solo vamos a ver como sería el diccionario o vocabulario que se obtendría:"
      ]
    },
    {
      "cell_type": "code",
      "execution_count": 51,
      "metadata": {
        "colab": {
          "base_uri": "https://localhost:8080/"
        },
        "id": "Lm29_aTXQl9f",
        "outputId": "89732959-b599-4847-8852-4a467bab37ac"
      },
      "outputs": [
        {
          "name": "stdout",
          "output_type": "stream",
          "text": [
            "[('verge getting', 3556621), ('nondescript american', 2284214), ('element nowadays truly', 935724), ('duke countoo', 897073), ('alone takes', 94542), ('doctor nuttier', 856463), ('appeal largest money', 165904), ('stealing belongings', 3151659), ('family new housing', 1104676), ('way connected reviewers', 3632920)]\n"
          ]
        }
      ],
      "source": [
        "import random as rm\n",
        "ngram_vectorizer.fit(train_set[\"tokenizada\"])\n",
        "print(rm.sample([(ngrama,feature_num) for ngrama,feature_num in ngram_vectorizer.vocabulary_.items()],10))"
      ]
    },
    {
      "cell_type": "code",
      "execution_count": 52,
      "metadata": {
        "colab": {
          "base_uri": "https://localhost:8080/"
        },
        "id": "6Pad_uJeQl9f",
        "outputId": "166e9ab6-08fc-4521-d8b2-949705d52186"
      },
      "outputs": [
        {
          "name": "stdout",
          "output_type": "stream",
          "text": [
            "3797113\n"
          ]
        }
      ],
      "source": [
        "print(len(ngram_vectorizer.get_feature_names_out()))"
      ]
    },
    {
      "cell_type": "markdown",
      "metadata": {
        "id": "Vv-3xOeiQl9f"
      },
      "source": [
        "Ufffff!!! Ese el número de features que obtendríamos de hacer la vectorización aunando tokens, bigramas y trigramas. No lo vamos a hacer, pero con tiempo y recursos podrías planteartelo."
      ]
    },
    {
      "cell_type": "markdown",
      "metadata": {
        "id": "xKCAiqBBQl9f"
      },
      "source": [
        "***"
      ]
    },
    {
      "cell_type": "markdown",
      "metadata": {
        "id": "C2dL6urrQl9f"
      },
      "source": [
        "### Parte IV.2: Selección/Reducción de Features"
      ]
    },
    {
      "cell_type": "markdown",
      "metadata": {
        "id": "RoO67ThrQl9f"
      },
      "source": [
        "Ya tenemos las features:"
      ]
    },
    {
      "cell_type": "code",
      "execution_count": 53,
      "metadata": {
        "colab": {
          "base_uri": "https://localhost:8080/"
        },
        "id": "nUnkY5fvQl9f",
        "outputId": "377fb5cb-cd4a-431d-e9de-110425324ed1"
      },
      "outputs": [
        {
          "name": "stdout",
          "output_type": "stream",
          "text": [
            "Features para vectorización binaria: 32000\n",
            "Features para vectorización no binaria: 32000\n",
            "Features para vectorización tf-idf: 32000\n"
          ]
        }
      ],
      "source": [
        "print(\"Features para vectorización binaria:\", X_train_binary_vectorized.shape[1])\n",
        "print(\"Features para vectorización no binaria:\", X_vectors_train_freq.shape[1])\n",
        "print(\"Features para vectorización tf-idf:\", len(prepro_vectorizer.get_feature_names_out()))"
      ]
    },
    {
      "cell_type": "markdown",
      "metadata": {
        "id": "WRV8O_BbQl9g"
      },
      "source": [
        "Todas as 32K porque es el número de entradas en el vocabulario/diccionario que permitimos. Ahora podríamos hacer una reducción de features con los mecanismos que vimos en el sprint anterior (menos el visual, claro), incluyendo la PCA. No lo vamos a hacer, por limitaciones de tiempo, pero puedes ver como aquí sí que aplica una buena reducción de la dimensionalidad (32K features > 20K instancias)"
      ]
    },
    {
      "cell_type": "markdown",
      "metadata": {
        "id": "53O_6qCCQl9g",
        "scrolled": true
      },
      "source": [
        "Lo que sí vamos a hacer es **<u>comentar** (no da para más esta parte introductoria) dos formas específicas de NLP para reducir features que se aplican OJO antes de la vectorización"
      ]
    },
    {
      "cell_type": "markdown",
      "metadata": {
        "id": "jxCznju0Ql9g"
      },
      "source": [
        "#### INCISO: REDUCCION FEATURES EN NLP"
      ]
    },
    {
      "cell_type": "markdown",
      "metadata": {
        "id": "opl-9fl5Ql9g"
      },
      "source": [
        "Hasta ahora hemos usado cada \"palabra\" como un token. Pero hay muchas palabras que en realidad están muy relacionadas y puede ser interesante considerarlas como la misma. Por ejemplo:\n",
        "- las formas verbales de un mismo verbo: pienso, pensé, pensasteís (ahora las consideramos como tokens distintos, pero puede que nos interese sólo considerarlo como <pensar>)\n",
        "- Los plurales: casas, casa -> ahora son dos tokens, pero igual quiero considerarlo sólo como una feature (casa)\n",
        "- Los adjetivos: simpático, simpática, simpáticos, simpáticas -> dejarlo en simpatica"
      ]
    },
    {
      "cell_type": "markdown",
      "metadata": {
        "id": "G8kchOqIQl9g"
      },
      "source": [
        "Tenemos dos formas de hacerlo: stemming y lemmatization\n",
        "- stemming: buscamos la \"raíz\" de la palabra quitando prefijos y sufijos -> prefabricado, fabrica se convierten en fabric\n",
        "- lemmatization: buscamos el \"lemma\", raíz léxica, de la palabra (la palabra original de la que viene, en los verbos por ejemplo su infinitivo) -> corriendo, corrí se convierten en correr"
      ]
    },
    {
      "cell_type": "markdown",
      "metadata": {
        "id": "9XG9yQAsQl9g"
      },
      "source": [
        "Pasaremos el Stemming y la Lemmatization (UNO U OTRO) y después haremos la vectorización,"
      ]
    },
    {
      "cell_type": "markdown",
      "metadata": {
        "id": "4aDf9MK-Ql9g"
      },
      "source": [
        "Aquí te dejo el código para que puedas aplicarlo a los datasets (pero en local, es decir en tu ordenador), pero nosotros no vamos a ejecutarlo, recuerda que es antes de la vectorización que quieras aplicar."
      ]
    },
    {
      "cell_type": "markdown",
      "metadata": {
        "id": "-Kipsfd5Ql9g"
      },
      "source": [
        "**Stemming [NO EJECUTAR EN LA PLATAFORMA]**"
      ]
    },
    {
      "cell_type": "markdown",
      "metadata": {
        "id": "nw-OBN6AQl9g"
      },
      "source": [
        "NLTK has several stemming algorithm implementations. We’ll use the Porter stemmer. Most used:\n",
        "\n",
        "    PorterStemmer\n",
        "    SnowballStemmer\n",
        "\n",
        "Apply a PoterStemmer, vectorize, and train the model again"
      ]
    },
    {
      "cell_type": "code",
      "execution_count": 54,
      "metadata": {
        "colab": {
          "base_uri": "https://localhost:8080/"
        },
        "id": "_4FkNScnQl9h",
        "outputId": "576fd106-ecc0-4d35-be70-9afe2b3198d1"
      },
      "outputs": [
        {
          "name": "stdout",
          "output_type": "stream",
          "text": [
            "caress fli die mule deni die agre own humbl size meet state siez item sensat tradit refer colon plot\n"
          ]
        }
      ],
      "source": [
        "from nltk.stem.porter import PorterStemmer\n",
        "stemmer_eng = PorterStemmer()\n",
        "\n",
        "plurals = ['caresses', 'flies', 'dies', 'mules', 'denied',\n",
        "            'died', 'agreed', 'owned', 'humbled', 'sized',\n",
        "            'meeting', 'stating', 'siezing', 'itemization',\n",
        "            'sensational', 'traditional', 'reference', 'colonizer',\n",
        "            'plotted']\n",
        "singles = [stemmer_eng.stem(plural) for plural in plurals]\n",
        "\n",
        "print(' '.join(singles))"
      ]
    },
    {
      "cell_type": "markdown",
      "metadata": {
        "id": "bC05ma1oQl9h"
      },
      "source": [
        "Para español SnowballStemmer"
      ]
    },
    {
      "cell_type": "code",
      "execution_count": 55,
      "metadata": {
        "colab": {
          "base_uri": "https://localhost:8080/"
        },
        "id": "CXgnkt50Ql9h",
        "outputId": "0aac479c-5102-45de-975b-b358a1243bd5"
      },
      "outputs": [
        {
          "name": "stdout",
          "output_type": "stream",
          "text": [
            "corr cas play vol vol volv\n"
          ]
        }
      ],
      "source": [
        "from nltk.stem.snowball import SnowballStemmer\n",
        "stemmer = SnowballStemmer('spanish')\n",
        "\n",
        "plurals = ['corriendo', 'casas', 'playa', 'volando', 'volar', 'volveré']\n",
        "singles = [stemmer.stem(plural) for plural in plurals]\n",
        "\n",
        "print(' '.join(singles))"
      ]
    },
    {
      "cell_type": "code",
      "execution_count": 56,
      "metadata": {
        "id": "A0n1FcynQl9h"
      },
      "outputs": [],
      "source": [
        "def stemming_eng(row):\n",
        "    return stemmer_eng.stem(row)"
      ]
    },
    {
      "cell_type": "markdown",
      "metadata": {
        "id": "-JFvewN5Ql9h"
      },
      "source": [
        "```python\n",
        "train_set[\"tokenizada_stemmed\"] = train_set[\"tokenizada\"].apply(stemming_eng)\n",
        "test_set[\"tokenizada_stemmed\"] = test_set[\"tokenizada\"].apply(stemming_eng)\n",
        "prepro_vectorizer = CountVectorizer(binary=True)\n",
        "prepro_vectorizer.fit(train_set[\"tokenizada_stemmed\"])\n",
        "vectors_preprocesed = prepro_vectorizer.transform(train_set[\"tokenizda_stmmed\")\n",
        "# Y aquí vendría la parte del test y la conversión a dataframe, si la necesitas y que sólo tienes que adaptar de las secciones anteriores*\n",
        "```"
      ]
    },
    {
      "cell_type": "markdown",
      "metadata": {
        "id": "SWP-JQmHQl9h",
        "jp-MarkdownHeadingCollapsed": true
      },
      "source": [
        "**Lemmatization [NO EJECUTAR EN LA PLATAFORMA]**"
      ]
    },
    {
      "cell_type": "code",
      "execution_count": 57,
      "metadata": {
        "id": "FEgZZ8pgbb6R"
      },
      "outputs": [],
      "source": [
        "import nltk"
      ]
    },
    {
      "cell_type": "code",
      "execution_count": 58,
      "metadata": {
        "colab": {
          "base_uri": "https://localhost:8080/"
        },
        "id": "OwADjSSyQl9h",
        "outputId": "d324fd51-4637-4e4b-e933-04440b7c13ba"
      },
      "outputs": [
        {
          "name": "stderr",
          "output_type": "stream",
          "text": [
            "[nltk_data] Downloading collection 'popular'\n",
            "[nltk_data]    | \n",
            "[nltk_data]    | Downloading package cmudict to\n",
            "[nltk_data]    |     C:\\Users\\usuar\\AppData\\Roaming\\nltk_data...\n",
            "[nltk_data]    |   Package cmudict is already up-to-date!\n",
            "[nltk_data]    | Downloading package gazetteers to\n",
            "[nltk_data]    |     C:\\Users\\usuar\\AppData\\Roaming\\nltk_data...\n",
            "[nltk_data]    |   Package gazetteers is already up-to-date!\n",
            "[nltk_data]    | Downloading package genesis to\n",
            "[nltk_data]    |     C:\\Users\\usuar\\AppData\\Roaming\\nltk_data...\n",
            "[nltk_data]    |   Package genesis is already up-to-date!\n",
            "[nltk_data]    | Downloading package gutenberg to\n",
            "[nltk_data]    |     C:\\Users\\usuar\\AppData\\Roaming\\nltk_data...\n",
            "[nltk_data]    |   Package gutenberg is already up-to-date!\n",
            "[nltk_data]    | Downloading package inaugural to\n",
            "[nltk_data]    |     C:\\Users\\usuar\\AppData\\Roaming\\nltk_data...\n",
            "[nltk_data]    |   Package inaugural is already up-to-date!\n",
            "[nltk_data]    | Downloading package movie_reviews to\n",
            "[nltk_data]    |     C:\\Users\\usuar\\AppData\\Roaming\\nltk_data...\n",
            "[nltk_data]    |   Package movie_reviews is already up-to-date!\n",
            "[nltk_data]    | Downloading package names to\n",
            "[nltk_data]    |     C:\\Users\\usuar\\AppData\\Roaming\\nltk_data...\n",
            "[nltk_data]    |   Package names is already up-to-date!\n",
            "[nltk_data]    | Downloading package shakespeare to\n",
            "[nltk_data]    |     C:\\Users\\usuar\\AppData\\Roaming\\nltk_data...\n",
            "[nltk_data]    |   Package shakespeare is already up-to-date!\n",
            "[nltk_data]    | Downloading package stopwords to\n",
            "[nltk_data]    |     C:\\Users\\usuar\\AppData\\Roaming\\nltk_data...\n",
            "[nltk_data]    |   Package stopwords is already up-to-date!\n",
            "[nltk_data]    | Downloading package treebank to\n",
            "[nltk_data]    |     C:\\Users\\usuar\\AppData\\Roaming\\nltk_data...\n",
            "[nltk_data]    |   Package treebank is already up-to-date!\n",
            "[nltk_data]    | Downloading package twitter_samples to\n",
            "[nltk_data]    |     C:\\Users\\usuar\\AppData\\Roaming\\nltk_data...\n",
            "[nltk_data]    |   Package twitter_samples is already up-to-date!\n",
            "[nltk_data]    | Downloading package omw to\n",
            "[nltk_data]    |     C:\\Users\\usuar\\AppData\\Roaming\\nltk_data...\n",
            "[nltk_data]    |   Package omw is already up-to-date!\n",
            "[nltk_data]    | Downloading package omw-1.4 to\n",
            "[nltk_data]    |     C:\\Users\\usuar\\AppData\\Roaming\\nltk_data...\n",
            "[nltk_data]    |   Package omw-1.4 is already up-to-date!\n",
            "[nltk_data]    | Downloading package wordnet to\n",
            "[nltk_data]    |     C:\\Users\\usuar\\AppData\\Roaming\\nltk_data...\n",
            "[nltk_data]    |   Package wordnet is already up-to-date!\n",
            "[nltk_data]    | Downloading package wordnet2021 to\n",
            "[nltk_data]    |     C:\\Users\\usuar\\AppData\\Roaming\\nltk_data...\n",
            "[nltk_data]    |   Package wordnet2021 is already up-to-date!\n",
            "[nltk_data]    | Downloading package wordnet31 to\n",
            "[nltk_data]    |     C:\\Users\\usuar\\AppData\\Roaming\\nltk_data...\n",
            "[nltk_data]    |   Package wordnet31 is already up-to-date!\n",
            "[nltk_data]    | Downloading package wordnet_ic to\n",
            "[nltk_data]    |     C:\\Users\\usuar\\AppData\\Roaming\\nltk_data...\n",
            "[nltk_data]    |   Package wordnet_ic is already up-to-date!\n",
            "[nltk_data]    | Downloading package words to\n",
            "[nltk_data]    |     C:\\Users\\usuar\\AppData\\Roaming\\nltk_data...\n",
            "[nltk_data]    |   Package words is already up-to-date!\n",
            "[nltk_data]    | Downloading package maxent_ne_chunker to\n",
            "[nltk_data]    |     C:\\Users\\usuar\\AppData\\Roaming\\nltk_data...\n",
            "[nltk_data]    |   Package maxent_ne_chunker is already up-to-date!\n",
            "[nltk_data]    | Downloading package punkt to\n",
            "[nltk_data]    |     C:\\Users\\usuar\\AppData\\Roaming\\nltk_data...\n",
            "[nltk_data]    |   Package punkt is already up-to-date!\n",
            "[nltk_data]    | Downloading package snowball_data to\n",
            "[nltk_data]    |     C:\\Users\\usuar\\AppData\\Roaming\\nltk_data...\n",
            "[nltk_data]    |   Package snowball_data is already up-to-date!\n",
            "[nltk_data]    | Downloading package averaged_perceptron_tagger to\n",
            "[nltk_data]    |     C:\\Users\\usuar\\AppData\\Roaming\\nltk_data...\n",
            "[nltk_data]    |   Package averaged_perceptron_tagger is already up-\n",
            "[nltk_data]    |       to-date!\n",
            "[nltk_data]    | \n",
            "[nltk_data]  Done downloading collection popular\n"
          ]
        },
        {
          "data": {
            "text/plain": [
              "True"
            ]
          },
          "execution_count": 58,
          "metadata": {},
          "output_type": "execute_result"
        }
      ],
      "source": [
        "nltk.download('popular')"
      ]
    },
    {
      "cell_type": "code",
      "execution_count": 59,
      "metadata": {
        "colab": {
          "base_uri": "https://localhost:8080/"
        },
        "id": "0Fkab9zZQl9i",
        "outputId": "21ade338-d7d3-4bb4-99ec-3a306b0a0f43"
      },
      "outputs": [
        {
          "name": "stdout",
          "output_type": "stream",
          "text": [
            "caress fly dy mule study died agreed owned humbled sized meeting stating siezing itemization sensational traditional reference colonizer plotted\n"
          ]
        }
      ],
      "source": [
        "'''\n",
        "La diferencia con el stemming es que la lematización tiene en cuenta la morfología\n",
        "de la palabra, sustituyendola por la raiz, no recortándola. Y no es tan restrictivo como el stemming.\n",
        "Necesita un buen diccionario con mapeos, como wordnet\n",
        "\n",
        "En nltk no hay lematizadores en español. Habria que bajarse algun paquete como pip install es-lemmatizer\n",
        "'''\n",
        "\n",
        "from nltk.stem import WordNetLemmatizer\n",
        "lemmatizer = WordNetLemmatizer()\n",
        "\n",
        "plurals = ['caresses', 'flies', 'dies', 'mules', 'studies',\n",
        "            'died', 'agreed', 'owned', 'humbled', 'sized',\n",
        "            'meeting', 'stating', 'siezing', 'itemization',\n",
        "            'sensational', 'traditional', 'reference', 'colonizer',\n",
        "            'plotted']\n",
        "singles = [lemmatizer.lemmatize(plural) for plural in plurals]\n",
        "\n",
        "print(' '.join(singles))"
      ]
    },
    {
      "cell_type": "markdown",
      "metadata": {
        "id": "qli3x8w-Ql9i"
      },
      "source": [
        "```python\n",
        "def lemmatized_text(word):\n",
        "    return lemmatizer.lemmatize(word)\n",
        "\n",
        "train_set[\"tokenizada_lemmatized\"] = train_set[\"tokenizada\"].apply(lemmatized_text)\n",
        "test_set[\"tokenizada_lemmatized\"] = test_set[\"tokenizada\"].apply(lemmatized_text)\n",
        "prepro_vectorizer = CountVectorizer(binary=True)\n",
        "prepro_vectorizer.fit(train_set[\"tokenizada_lemmatized\")\n",
        "\n",
        "vectors_preprocesed = prepro_vectorizer.transform(train_set[\"tokenizada_lemmatized)\n",
        "# Y aquí vendría la parte del test y la conversión a dataframe, si la necesitas y que sólo tienes que adaptar de las secciones anteriores*\n",
        "```\n",
        "                                                  "
      ]
    },
    {
      "cell_type": "markdown",
      "metadata": {
        "id": "DDpbZMVIQl9i"
      },
      "source": [
        "***"
      ]
    },
    {
      "cell_type": "markdown",
      "metadata": {
        "id": "P4GCKZXEQl9i"
      },
      "source": [
        "### Parte V: Escoger modelos con Cross_Validation"
      ]
    },
    {
      "cell_type": "markdown",
      "metadata": {
        "id": "A38YKYMEQl9i"
      },
      "source": [
        "En este tipo de tarea nos vale muy bien una Regresión Logística o un SVM (sí, lo sé) con kernel lineal y debido al número de features los árboles sufren si no controlamos el número de features a considerar."
      ]
    },
    {
      "cell_type": "code",
      "execution_count": 60,
      "metadata": {
        "id": "WrY2qhyiQl9i"
      },
      "outputs": [],
      "source": [
        "y_train = train_set[target]\n",
        "y_test = test_set[target]"
      ]
    },
    {
      "cell_type": "code",
      "execution_count": 61,
      "metadata": {
        "id": "YamvdjjhQl9i"
      },
      "outputs": [],
      "source": [
        "\n",
        "from sklearn.linear_model import LogisticRegression\n",
        "from sklearn.svm import LinearSVC\n",
        "from sklearn.ensemble import RandomForestClassifier\n",
        "from time import time\n",
        "\n",
        "feature_sets = {\n",
        "    \"BoW Binaria\": vectors_preprocesed_train, #X_train_binary_vectorized,\n",
        "    \"BoW No-Binaria\": X_vectors_train_freq,\n",
        "    \"BoW Tf-idf\": vec_train_tfidf\n",
        "}\n",
        "\n",
        "lr_clf = LogisticRegression(max_iter = 50000)\n",
        "rf_clf = RandomForestClassifier(max_features = 60, random_state= 42)\n",
        "svm_clf =LinearSVC(random_state = 42)\n",
        "\n",
        "\n",
        "modelos = {\n",
        "    \"Regresion Logistica\": lr_clf,\n",
        "    \"SVM\": svm_clf,\n",
        "    \"Random Forest\": rf_clf\n",
        "}\n",
        "\n"
      ]
    },
    {
      "cell_type": "code",
      "execution_count": 62,
      "metadata": {
        "colab": {
          "base_uri": "https://localhost:8080/",
          "height": 203
        },
        "id": "HKF_tNb3cAKT",
        "outputId": "df7b828f-032f-4fe9-c777-39b2663f599d"
      },
      "outputs": [],
      "source": [
        "#type(X_train_binary_vectorized)"
      ]
    },
    {
      "cell_type": "code",
      "execution_count": 63,
      "metadata": {
        "id": "4RzGzllZcuKf"
      },
      "outputs": [],
      "source": [
        "#del X_train_binary_vectorized, X_test_binary_vectorized"
      ]
    },
    {
      "cell_type": "code",
      "execution_count": 64,
      "metadata": {
        "colab": {
          "base_uri": "https://localhost:8080/",
          "height": 186
        },
        "id": "e4q1fLdQcp69",
        "outputId": "9978b1b4-33ea-4352-f8b6-06745b6acf49"
      },
      "outputs": [
        {
          "data": {
            "text/plain": [
              "scipy.sparse._csr.csr_matrix"
            ]
          },
          "execution_count": 64,
          "metadata": {},
          "output_type": "execute_result"
        }
      ],
      "source": [
        "type(vectors_preprocesed_train)"
      ]
    },
    {
      "cell_type": "code",
      "execution_count": 65,
      "metadata": {
        "colab": {
          "base_uri": "https://localhost:8080/",
          "height": 186
        },
        "id": "fzBVSZoPcQdP",
        "outputId": "665fb2cc-9625-4e62-b706-7d1ecac378ba"
      },
      "outputs": [
        {
          "data": {
            "text/plain": [
              "scipy.sparse._csr.csr_matrix"
            ]
          },
          "execution_count": 65,
          "metadata": {},
          "output_type": "execute_result"
        }
      ],
      "source": [
        "type(X_vectors_train_freq)"
      ]
    },
    {
      "cell_type": "code",
      "execution_count": 66,
      "metadata": {
        "colab": {
          "base_uri": "https://localhost:8080/",
          "height": 186
        },
        "id": "_biUV5iCcWnJ",
        "outputId": "dabd7962-3ca1-43d4-e766-58ec41f72451"
      },
      "outputs": [
        {
          "data": {
            "text/plain": [
              "scipy.sparse._csr.csr_matrix"
            ]
          },
          "execution_count": 66,
          "metadata": {},
          "output_type": "execute_result"
        }
      ],
      "source": [
        "type(vec_train_tfidf)"
      ]
    },
    {
      "cell_type": "code",
      "execution_count": 67,
      "metadata": {
        "colab": {
          "base_uri": "https://localhost:8080/"
        },
        "id": "QxkaZigOQl9i",
        "outputId": "8b3dfe4d-016a-4552-8186-a079e285a4ae"
      },
      "outputs": [
        {
          "name": "stdout",
          "output_type": "stream",
          "text": [
            "Para <BoW Binaria>:\n"
          ]
        },
        {
          "name": "stdout",
          "output_type": "stream",
          "text": [
            "\tRegresion Logistica, score: 0.8710000000000001, elapsed: 2.416722297668457\n"
          ]
        },
        {
          "name": "stderr",
          "output_type": "stream",
          "text": [
            "c:\\Users\\usuar\\AppData\\Local\\Programs\\Python\\Python312\\Lib\\site-packages\\sklearn\\svm\\_base.py:1249: ConvergenceWarning: Liblinear failed to converge, increase the number of iterations.\n",
            "  warnings.warn(\n"
          ]
        },
        {
          "name": "stdout",
          "output_type": "stream",
          "text": [
            "\tSVM, score: 0.8512000000000001, elapsed: 12.661442995071411\n",
            "\tRandom Forest, score: 0.8424998867068347, elapsed: 80.60038924217224\n",
            "Para <BoW No-Binaria>:\n",
            "\tRegresion Logistica, score: 0.87415, elapsed: 4.893599510192871\n"
          ]
        },
        {
          "name": "stderr",
          "output_type": "stream",
          "text": [
            "c:\\Users\\usuar\\AppData\\Local\\Programs\\Python\\Python312\\Lib\\site-packages\\sklearn\\svm\\_base.py:1249: ConvergenceWarning: Liblinear failed to converge, increase the number of iterations.\n",
            "  warnings.warn(\n",
            "c:\\Users\\usuar\\AppData\\Local\\Programs\\Python\\Python312\\Lib\\site-packages\\sklearn\\svm\\_base.py:1249: ConvergenceWarning: Liblinear failed to converge, increase the number of iterations.\n",
            "  warnings.warn(\n",
            "c:\\Users\\usuar\\AppData\\Local\\Programs\\Python\\Python312\\Lib\\site-packages\\sklearn\\svm\\_base.py:1249: ConvergenceWarning: Liblinear failed to converge, increase the number of iterations.\n",
            "  warnings.warn(\n",
            "c:\\Users\\usuar\\AppData\\Local\\Programs\\Python\\Python312\\Lib\\site-packages\\sklearn\\svm\\_base.py:1249: ConvergenceWarning: Liblinear failed to converge, increase the number of iterations.\n",
            "  warnings.warn(\n"
          ]
        },
        {
          "name": "stdout",
          "output_type": "stream",
          "text": [
            "\tSVM, score: 0.85365, elapsed: 15.090032815933228\n",
            "\tRandom Forest, score: 0.8471499467330864, elapsed: 81.31926560401917\n",
            "Para <BoW Tf-idf>:\n",
            "\tRegresion Logistica, score: 0.87415, elapsed: 4.87828516960144\n"
          ]
        },
        {
          "name": "stderr",
          "output_type": "stream",
          "text": [
            "c:\\Users\\usuar\\AppData\\Local\\Programs\\Python\\Python312\\Lib\\site-packages\\sklearn\\svm\\_base.py:1249: ConvergenceWarning: Liblinear failed to converge, increase the number of iterations.\n",
            "  warnings.warn(\n",
            "c:\\Users\\usuar\\AppData\\Local\\Programs\\Python\\Python312\\Lib\\site-packages\\sklearn\\svm\\_base.py:1249: ConvergenceWarning: Liblinear failed to converge, increase the number of iterations.\n",
            "  warnings.warn(\n",
            "c:\\Users\\usuar\\AppData\\Local\\Programs\\Python\\Python312\\Lib\\site-packages\\sklearn\\svm\\_base.py:1249: ConvergenceWarning: Liblinear failed to converge, increase the number of iterations.\n",
            "  warnings.warn(\n",
            "c:\\Users\\usuar\\AppData\\Local\\Programs\\Python\\Python312\\Lib\\site-packages\\sklearn\\svm\\_base.py:1249: ConvergenceWarning: Liblinear failed to converge, increase the number of iterations.\n",
            "  warnings.warn(\n"
          ]
        },
        {
          "name": "stdout",
          "output_type": "stream",
          "text": [
            "\tSVM, score: 0.85365, elapsed: 15.03205943107605\n",
            "\tRandom Forest, score: 0.8471499467330864, elapsed: 80.88312983512878\n"
          ]
        }
      ],
      "source": [
        "#¡¡¡¡NO EJECUTAR EN LA PLATAFORMA!!!! Consume muchos recursos\n",
        "\n",
        "for nombre,set in feature_sets.items():\n",
        "    t_zero = time()\n",
        "    print(f\"Para <{nombre}>:\")\n",
        "    for name, model in modelos.items():\n",
        "        #metrica = 1\n",
        "        metrica = np.mean(cross_val_score(model, set, y_train, cv = 5 if \"Random\" not in name else 3, scoring = \"accuracy\"))\n",
        "        print(f\"\\t{name}, score: {metrica}, elapsed: {time() - t_zero}\")"
      ]
    },
    {
      "cell_type": "markdown",
      "metadata": {
        "id": "L_om9T0-Ql9j"
      },
      "source": [
        "![image.png](attachment:51c37732-6881-4699-901a-f581b76fa7da.png)"
      ]
    },
    {
      "cell_type": "markdown",
      "metadata": {
        "id": "t3H7EAVqQl9j"
      },
      "source": [
        "Nos quedamos con la regresión logística y con la vectorización por tf-idf, además es interesante que te fijes en los tiempos para que cuando tengas que trabajar con matrices muy dispersas y ya la tengas con ese tipo en numpy lo hagas directamente y no las transformes."
      ]
    },
    {
      "cell_type": "markdown",
      "metadata": {
        "id": "z3a7eK1_Ql9j"
      },
      "source": [
        "### Parte VI: Ajuste de hiperparámetros"
      ]
    },
    {
      "cell_type": "markdown",
      "metadata": {
        "id": "pqOvbMwWQl9j"
      },
      "source": [
        "Solo vamos a ajustar el factor de penalización, recuerda que es el inverso del alfa de regularización l1 o l2 o elastic net, es decir a menos más regularización."
      ]
    },
    {
      "cell_type": "code",
      "execution_count": 68,
      "metadata": {
        "colab": {
          "base_uri": "https://localhost:8080/",
          "height": 134
        },
        "id": "JpYryawpQl9j",
        "outputId": "bb07d820-df3e-4f58-9c60-96fd2f250659"
      },
      "outputs": [
        {
          "data": {
            "text/html": [
              "<style>#sk-container-id-3 {\n",
              "  /* Definition of color scheme common for light and dark mode */\n",
              "  --sklearn-color-text: #000;\n",
              "  --sklearn-color-text-muted: #666;\n",
              "  --sklearn-color-line: gray;\n",
              "  /* Definition of color scheme for unfitted estimators */\n",
              "  --sklearn-color-unfitted-level-0: #fff5e6;\n",
              "  --sklearn-color-unfitted-level-1: #f6e4d2;\n",
              "  --sklearn-color-unfitted-level-2: #ffe0b3;\n",
              "  --sklearn-color-unfitted-level-3: chocolate;\n",
              "  /* Definition of color scheme for fitted estimators */\n",
              "  --sklearn-color-fitted-level-0: #f0f8ff;\n",
              "  --sklearn-color-fitted-level-1: #d4ebff;\n",
              "  --sklearn-color-fitted-level-2: #b3dbfd;\n",
              "  --sklearn-color-fitted-level-3: cornflowerblue;\n",
              "\n",
              "  /* Specific color for light theme */\n",
              "  --sklearn-color-text-on-default-background: var(--sg-text-color, var(--theme-code-foreground, var(--jp-content-font-color1, black)));\n",
              "  --sklearn-color-background: var(--sg-background-color, var(--theme-background, var(--jp-layout-color0, white)));\n",
              "  --sklearn-color-border-box: var(--sg-text-color, var(--theme-code-foreground, var(--jp-content-font-color1, black)));\n",
              "  --sklearn-color-icon: #696969;\n",
              "\n",
              "  @media (prefers-color-scheme: dark) {\n",
              "    /* Redefinition of color scheme for dark theme */\n",
              "    --sklearn-color-text-on-default-background: var(--sg-text-color, var(--theme-code-foreground, var(--jp-content-font-color1, white)));\n",
              "    --sklearn-color-background: var(--sg-background-color, var(--theme-background, var(--jp-layout-color0, #111)));\n",
              "    --sklearn-color-border-box: var(--sg-text-color, var(--theme-code-foreground, var(--jp-content-font-color1, white)));\n",
              "    --sklearn-color-icon: #878787;\n",
              "  }\n",
              "}\n",
              "\n",
              "#sk-container-id-3 {\n",
              "  color: var(--sklearn-color-text);\n",
              "}\n",
              "\n",
              "#sk-container-id-3 pre {\n",
              "  padding: 0;\n",
              "}\n",
              "\n",
              "#sk-container-id-3 input.sk-hidden--visually {\n",
              "  border: 0;\n",
              "  clip: rect(1px 1px 1px 1px);\n",
              "  clip: rect(1px, 1px, 1px, 1px);\n",
              "  height: 1px;\n",
              "  margin: -1px;\n",
              "  overflow: hidden;\n",
              "  padding: 0;\n",
              "  position: absolute;\n",
              "  width: 1px;\n",
              "}\n",
              "\n",
              "#sk-container-id-3 div.sk-dashed-wrapped {\n",
              "  border: 1px dashed var(--sklearn-color-line);\n",
              "  margin: 0 0.4em 0.5em 0.4em;\n",
              "  box-sizing: border-box;\n",
              "  padding-bottom: 0.4em;\n",
              "  background-color: var(--sklearn-color-background);\n",
              "}\n",
              "\n",
              "#sk-container-id-3 div.sk-container {\n",
              "  /* jupyter's `normalize.less` sets `[hidden] { display: none; }`\n",
              "     but bootstrap.min.css set `[hidden] { display: none !important; }`\n",
              "     so we also need the `!important` here to be able to override the\n",
              "     default hidden behavior on the sphinx rendered scikit-learn.org.\n",
              "     See: https://github.com/scikit-learn/scikit-learn/issues/21755 */\n",
              "  display: inline-block !important;\n",
              "  position: relative;\n",
              "}\n",
              "\n",
              "#sk-container-id-3 div.sk-text-repr-fallback {\n",
              "  display: none;\n",
              "}\n",
              "\n",
              "div.sk-parallel-item,\n",
              "div.sk-serial,\n",
              "div.sk-item {\n",
              "  /* draw centered vertical line to link estimators */\n",
              "  background-image: linear-gradient(var(--sklearn-color-text-on-default-background), var(--sklearn-color-text-on-default-background));\n",
              "  background-size: 2px 100%;\n",
              "  background-repeat: no-repeat;\n",
              "  background-position: center center;\n",
              "}\n",
              "\n",
              "/* Parallel-specific style estimator block */\n",
              "\n",
              "#sk-container-id-3 div.sk-parallel-item::after {\n",
              "  content: \"\";\n",
              "  width: 100%;\n",
              "  border-bottom: 2px solid var(--sklearn-color-text-on-default-background);\n",
              "  flex-grow: 1;\n",
              "}\n",
              "\n",
              "#sk-container-id-3 div.sk-parallel {\n",
              "  display: flex;\n",
              "  align-items: stretch;\n",
              "  justify-content: center;\n",
              "  background-color: var(--sklearn-color-background);\n",
              "  position: relative;\n",
              "}\n",
              "\n",
              "#sk-container-id-3 div.sk-parallel-item {\n",
              "  display: flex;\n",
              "  flex-direction: column;\n",
              "}\n",
              "\n",
              "#sk-container-id-3 div.sk-parallel-item:first-child::after {\n",
              "  align-self: flex-end;\n",
              "  width: 50%;\n",
              "}\n",
              "\n",
              "#sk-container-id-3 div.sk-parallel-item:last-child::after {\n",
              "  align-self: flex-start;\n",
              "  width: 50%;\n",
              "}\n",
              "\n",
              "#sk-container-id-3 div.sk-parallel-item:only-child::after {\n",
              "  width: 0;\n",
              "}\n",
              "\n",
              "/* Serial-specific style estimator block */\n",
              "\n",
              "#sk-container-id-3 div.sk-serial {\n",
              "  display: flex;\n",
              "  flex-direction: column;\n",
              "  align-items: center;\n",
              "  background-color: var(--sklearn-color-background);\n",
              "  padding-right: 1em;\n",
              "  padding-left: 1em;\n",
              "}\n",
              "\n",
              "\n",
              "/* Toggleable style: style used for estimator/Pipeline/ColumnTransformer box that is\n",
              "clickable and can be expanded/collapsed.\n",
              "- Pipeline and ColumnTransformer use this feature and define the default style\n",
              "- Estimators will overwrite some part of the style using the `sk-estimator` class\n",
              "*/\n",
              "\n",
              "/* Pipeline and ColumnTransformer style (default) */\n",
              "\n",
              "#sk-container-id-3 div.sk-toggleable {\n",
              "  /* Default theme specific background. It is overwritten whether we have a\n",
              "  specific estimator or a Pipeline/ColumnTransformer */\n",
              "  background-color: var(--sklearn-color-background);\n",
              "}\n",
              "\n",
              "/* Toggleable label */\n",
              "#sk-container-id-3 label.sk-toggleable__label {\n",
              "  cursor: pointer;\n",
              "  display: flex;\n",
              "  width: 100%;\n",
              "  margin-bottom: 0;\n",
              "  padding: 0.5em;\n",
              "  box-sizing: border-box;\n",
              "  text-align: center;\n",
              "  align-items: start;\n",
              "  justify-content: space-between;\n",
              "  gap: 0.5em;\n",
              "}\n",
              "\n",
              "#sk-container-id-3 label.sk-toggleable__label .caption {\n",
              "  font-size: 0.6rem;\n",
              "  font-weight: lighter;\n",
              "  color: var(--sklearn-color-text-muted);\n",
              "}\n",
              "\n",
              "#sk-container-id-3 label.sk-toggleable__label-arrow:before {\n",
              "  /* Arrow on the left of the label */\n",
              "  content: \"▸\";\n",
              "  float: left;\n",
              "  margin-right: 0.25em;\n",
              "  color: var(--sklearn-color-icon);\n",
              "}\n",
              "\n",
              "#sk-container-id-3 label.sk-toggleable__label-arrow:hover:before {\n",
              "  color: var(--sklearn-color-text);\n",
              "}\n",
              "\n",
              "/* Toggleable content - dropdown */\n",
              "\n",
              "#sk-container-id-3 div.sk-toggleable__content {\n",
              "  max-height: 0;\n",
              "  max-width: 0;\n",
              "  overflow: hidden;\n",
              "  text-align: left;\n",
              "  /* unfitted */\n",
              "  background-color: var(--sklearn-color-unfitted-level-0);\n",
              "}\n",
              "\n",
              "#sk-container-id-3 div.sk-toggleable__content.fitted {\n",
              "  /* fitted */\n",
              "  background-color: var(--sklearn-color-fitted-level-0);\n",
              "}\n",
              "\n",
              "#sk-container-id-3 div.sk-toggleable__content pre {\n",
              "  margin: 0.2em;\n",
              "  border-radius: 0.25em;\n",
              "  color: var(--sklearn-color-text);\n",
              "  /* unfitted */\n",
              "  background-color: var(--sklearn-color-unfitted-level-0);\n",
              "}\n",
              "\n",
              "#sk-container-id-3 div.sk-toggleable__content.fitted pre {\n",
              "  /* unfitted */\n",
              "  background-color: var(--sklearn-color-fitted-level-0);\n",
              "}\n",
              "\n",
              "#sk-container-id-3 input.sk-toggleable__control:checked~div.sk-toggleable__content {\n",
              "  /* Expand drop-down */\n",
              "  max-height: 200px;\n",
              "  max-width: 100%;\n",
              "  overflow: auto;\n",
              "}\n",
              "\n",
              "#sk-container-id-3 input.sk-toggleable__control:checked~label.sk-toggleable__label-arrow:before {\n",
              "  content: \"▾\";\n",
              "}\n",
              "\n",
              "/* Pipeline/ColumnTransformer-specific style */\n",
              "\n",
              "#sk-container-id-3 div.sk-label input.sk-toggleable__control:checked~label.sk-toggleable__label {\n",
              "  color: var(--sklearn-color-text);\n",
              "  background-color: var(--sklearn-color-unfitted-level-2);\n",
              "}\n",
              "\n",
              "#sk-container-id-3 div.sk-label.fitted input.sk-toggleable__control:checked~label.sk-toggleable__label {\n",
              "  background-color: var(--sklearn-color-fitted-level-2);\n",
              "}\n",
              "\n",
              "/* Estimator-specific style */\n",
              "\n",
              "/* Colorize estimator box */\n",
              "#sk-container-id-3 div.sk-estimator input.sk-toggleable__control:checked~label.sk-toggleable__label {\n",
              "  /* unfitted */\n",
              "  background-color: var(--sklearn-color-unfitted-level-2);\n",
              "}\n",
              "\n",
              "#sk-container-id-3 div.sk-estimator.fitted input.sk-toggleable__control:checked~label.sk-toggleable__label {\n",
              "  /* fitted */\n",
              "  background-color: var(--sklearn-color-fitted-level-2);\n",
              "}\n",
              "\n",
              "#sk-container-id-3 div.sk-label label.sk-toggleable__label,\n",
              "#sk-container-id-3 div.sk-label label {\n",
              "  /* The background is the default theme color */\n",
              "  color: var(--sklearn-color-text-on-default-background);\n",
              "}\n",
              "\n",
              "/* On hover, darken the color of the background */\n",
              "#sk-container-id-3 div.sk-label:hover label.sk-toggleable__label {\n",
              "  color: var(--sklearn-color-text);\n",
              "  background-color: var(--sklearn-color-unfitted-level-2);\n",
              "}\n",
              "\n",
              "/* Label box, darken color on hover, fitted */\n",
              "#sk-container-id-3 div.sk-label.fitted:hover label.sk-toggleable__label.fitted {\n",
              "  color: var(--sklearn-color-text);\n",
              "  background-color: var(--sklearn-color-fitted-level-2);\n",
              "}\n",
              "\n",
              "/* Estimator label */\n",
              "\n",
              "#sk-container-id-3 div.sk-label label {\n",
              "  font-family: monospace;\n",
              "  font-weight: bold;\n",
              "  display: inline-block;\n",
              "  line-height: 1.2em;\n",
              "}\n",
              "\n",
              "#sk-container-id-3 div.sk-label-container {\n",
              "  text-align: center;\n",
              "}\n",
              "\n",
              "/* Estimator-specific */\n",
              "#sk-container-id-3 div.sk-estimator {\n",
              "  font-family: monospace;\n",
              "  border: 1px dotted var(--sklearn-color-border-box);\n",
              "  border-radius: 0.25em;\n",
              "  box-sizing: border-box;\n",
              "  margin-bottom: 0.5em;\n",
              "  /* unfitted */\n",
              "  background-color: var(--sklearn-color-unfitted-level-0);\n",
              "}\n",
              "\n",
              "#sk-container-id-3 div.sk-estimator.fitted {\n",
              "  /* fitted */\n",
              "  background-color: var(--sklearn-color-fitted-level-0);\n",
              "}\n",
              "\n",
              "/* on hover */\n",
              "#sk-container-id-3 div.sk-estimator:hover {\n",
              "  /* unfitted */\n",
              "  background-color: var(--sklearn-color-unfitted-level-2);\n",
              "}\n",
              "\n",
              "#sk-container-id-3 div.sk-estimator.fitted:hover {\n",
              "  /* fitted */\n",
              "  background-color: var(--sklearn-color-fitted-level-2);\n",
              "}\n",
              "\n",
              "/* Specification for estimator info (e.g. \"i\" and \"?\") */\n",
              "\n",
              "/* Common style for \"i\" and \"?\" */\n",
              "\n",
              ".sk-estimator-doc-link,\n",
              "a:link.sk-estimator-doc-link,\n",
              "a:visited.sk-estimator-doc-link {\n",
              "  float: right;\n",
              "  font-size: smaller;\n",
              "  line-height: 1em;\n",
              "  font-family: monospace;\n",
              "  background-color: var(--sklearn-color-background);\n",
              "  border-radius: 1em;\n",
              "  height: 1em;\n",
              "  width: 1em;\n",
              "  text-decoration: none !important;\n",
              "  margin-left: 0.5em;\n",
              "  text-align: center;\n",
              "  /* unfitted */\n",
              "  border: var(--sklearn-color-unfitted-level-1) 1pt solid;\n",
              "  color: var(--sklearn-color-unfitted-level-1);\n",
              "}\n",
              "\n",
              ".sk-estimator-doc-link.fitted,\n",
              "a:link.sk-estimator-doc-link.fitted,\n",
              "a:visited.sk-estimator-doc-link.fitted {\n",
              "  /* fitted */\n",
              "  border: var(--sklearn-color-fitted-level-1) 1pt solid;\n",
              "  color: var(--sklearn-color-fitted-level-1);\n",
              "}\n",
              "\n",
              "/* On hover */\n",
              "div.sk-estimator:hover .sk-estimator-doc-link:hover,\n",
              ".sk-estimator-doc-link:hover,\n",
              "div.sk-label-container:hover .sk-estimator-doc-link:hover,\n",
              ".sk-estimator-doc-link:hover {\n",
              "  /* unfitted */\n",
              "  background-color: var(--sklearn-color-unfitted-level-3);\n",
              "  color: var(--sklearn-color-background);\n",
              "  text-decoration: none;\n",
              "}\n",
              "\n",
              "div.sk-estimator.fitted:hover .sk-estimator-doc-link.fitted:hover,\n",
              ".sk-estimator-doc-link.fitted:hover,\n",
              "div.sk-label-container:hover .sk-estimator-doc-link.fitted:hover,\n",
              ".sk-estimator-doc-link.fitted:hover {\n",
              "  /* fitted */\n",
              "  background-color: var(--sklearn-color-fitted-level-3);\n",
              "  color: var(--sklearn-color-background);\n",
              "  text-decoration: none;\n",
              "}\n",
              "\n",
              "/* Span, style for the box shown on hovering the info icon */\n",
              ".sk-estimator-doc-link span {\n",
              "  display: none;\n",
              "  z-index: 9999;\n",
              "  position: relative;\n",
              "  font-weight: normal;\n",
              "  right: .2ex;\n",
              "  padding: .5ex;\n",
              "  margin: .5ex;\n",
              "  width: min-content;\n",
              "  min-width: 20ex;\n",
              "  max-width: 50ex;\n",
              "  color: var(--sklearn-color-text);\n",
              "  box-shadow: 2pt 2pt 4pt #999;\n",
              "  /* unfitted */\n",
              "  background: var(--sklearn-color-unfitted-level-0);\n",
              "  border: .5pt solid var(--sklearn-color-unfitted-level-3);\n",
              "}\n",
              "\n",
              ".sk-estimator-doc-link.fitted span {\n",
              "  /* fitted */\n",
              "  background: var(--sklearn-color-fitted-level-0);\n",
              "  border: var(--sklearn-color-fitted-level-3);\n",
              "}\n",
              "\n",
              ".sk-estimator-doc-link:hover span {\n",
              "  display: block;\n",
              "}\n",
              "\n",
              "/* \"?\"-specific style due to the `<a>` HTML tag */\n",
              "\n",
              "#sk-container-id-3 a.estimator_doc_link {\n",
              "  float: right;\n",
              "  font-size: 1rem;\n",
              "  line-height: 1em;\n",
              "  font-family: monospace;\n",
              "  background-color: var(--sklearn-color-background);\n",
              "  border-radius: 1rem;\n",
              "  height: 1rem;\n",
              "  width: 1rem;\n",
              "  text-decoration: none;\n",
              "  /* unfitted */\n",
              "  color: var(--sklearn-color-unfitted-level-1);\n",
              "  border: var(--sklearn-color-unfitted-level-1) 1pt solid;\n",
              "}\n",
              "\n",
              "#sk-container-id-3 a.estimator_doc_link.fitted {\n",
              "  /* fitted */\n",
              "  border: var(--sklearn-color-fitted-level-1) 1pt solid;\n",
              "  color: var(--sklearn-color-fitted-level-1);\n",
              "}\n",
              "\n",
              "/* On hover */\n",
              "#sk-container-id-3 a.estimator_doc_link:hover {\n",
              "  /* unfitted */\n",
              "  background-color: var(--sklearn-color-unfitted-level-3);\n",
              "  color: var(--sklearn-color-background);\n",
              "  text-decoration: none;\n",
              "}\n",
              "\n",
              "#sk-container-id-3 a.estimator_doc_link.fitted:hover {\n",
              "  /* fitted */\n",
              "  background-color: var(--sklearn-color-fitted-level-3);\n",
              "}\n",
              "</style><div id=\"sk-container-id-3\" class=\"sk-top-container\"><div class=\"sk-text-repr-fallback\"><pre>GridSearchCV(cv=5, estimator=LogisticRegression(max_iter=50000),\n",
              "             param_grid={&#x27;C&#x27;: [0.1, 0.2, 0.6, 1, 10]}, scoring=&#x27;accuracy&#x27;)</pre><b>In a Jupyter environment, please rerun this cell to show the HTML representation or trust the notebook. <br />On GitHub, the HTML representation is unable to render, please try loading this page with nbviewer.org.</b></div><div class=\"sk-container\" hidden><div class=\"sk-item sk-dashed-wrapped\"><div class=\"sk-label-container\"><div class=\"sk-label fitted sk-toggleable\"><input class=\"sk-toggleable__control sk-hidden--visually\" id=\"sk-estimator-id-3\" type=\"checkbox\" ><label for=\"sk-estimator-id-3\" class=\"sk-toggleable__label fitted sk-toggleable__label-arrow\"><div><div>GridSearchCV</div></div><div><a class=\"sk-estimator-doc-link fitted\" rel=\"noreferrer\" target=\"_blank\" href=\"https://scikit-learn.org/1.6/modules/generated/sklearn.model_selection.GridSearchCV.html\">?<span>Documentation for GridSearchCV</span></a><span class=\"sk-estimator-doc-link fitted\">i<span>Fitted</span></span></div></label><div class=\"sk-toggleable__content fitted\"><pre>GridSearchCV(cv=5, estimator=LogisticRegression(max_iter=50000),\n",
              "             param_grid={&#x27;C&#x27;: [0.1, 0.2, 0.6, 1, 10]}, scoring=&#x27;accuracy&#x27;)</pre></div> </div></div><div class=\"sk-parallel\"><div class=\"sk-parallel-item\"><div class=\"sk-item\"><div class=\"sk-label-container\"><div class=\"sk-label fitted sk-toggleable\"><input class=\"sk-toggleable__control sk-hidden--visually\" id=\"sk-estimator-id-4\" type=\"checkbox\" ><label for=\"sk-estimator-id-4\" class=\"sk-toggleable__label fitted sk-toggleable__label-arrow\"><div><div>best_estimator_: LogisticRegression</div></div></label><div class=\"sk-toggleable__content fitted\"><pre>LogisticRegression(C=0.1, max_iter=50000)</pre></div> </div></div><div class=\"sk-serial\"><div class=\"sk-item\"><div class=\"sk-estimator fitted sk-toggleable\"><input class=\"sk-toggleable__control sk-hidden--visually\" id=\"sk-estimator-id-5\" type=\"checkbox\" ><label for=\"sk-estimator-id-5\" class=\"sk-toggleable__label fitted sk-toggleable__label-arrow\"><div><div>LogisticRegression</div></div><div><a class=\"sk-estimator-doc-link fitted\" rel=\"noreferrer\" target=\"_blank\" href=\"https://scikit-learn.org/1.6/modules/generated/sklearn.linear_model.LogisticRegression.html\">?<span>Documentation for LogisticRegression</span></a></div></label><div class=\"sk-toggleable__content fitted\"><pre>LogisticRegression(C=0.1, max_iter=50000)</pre></div> </div></div></div></div></div></div></div></div></div>"
            ],
            "text/plain": [
              "GridSearchCV(cv=5, estimator=LogisticRegression(max_iter=50000),\n",
              "             param_grid={'C': [0.1, 0.2, 0.6, 1, 10]}, scoring='accuracy')"
            ]
          },
          "execution_count": 68,
          "metadata": {},
          "output_type": "execute_result"
        }
      ],
      "source": [
        "param_grid = {\n",
        "    \"C\": [0.1,0.2,0.6,1,10]\n",
        "}\n",
        "\n",
        "lr_grid = GridSearchCV(lr_clf,\n",
        "                       param_grid = param_grid,\n",
        "                       cv = 5,\n",
        "                       scoring = \"accuracy\"\n",
        "                      )\n",
        "\n",
        "lr_grid.fit(vec_train_tfidf, y_train)"
      ]
    },
    {
      "cell_type": "code",
      "execution_count": 69,
      "metadata": {
        "colab": {
          "base_uri": "https://localhost:8080/"
        },
        "id": "yyHpt6ICQl9j",
        "outputId": "9f8ef73b-23f1-4770-e62a-2690b7c2b128"
      },
      "outputs": [
        {
          "data": {
            "text/plain": [
              "{'C': 0.1}"
            ]
          },
          "execution_count": 69,
          "metadata": {},
          "output_type": "execute_result"
        }
      ],
      "source": [
        "lr_grid.best_params_"
      ]
    },
    {
      "cell_type": "code",
      "execution_count": 70,
      "metadata": {
        "colab": {
          "base_uri": "https://localhost:8080/"
        },
        "id": "mzGETzEqQl9j",
        "outputId": "ad5ecc76-5be2-4791-8db0-6da11c192cd6"
      },
      "outputs": [
        {
          "data": {
            "text/plain": [
              "0.8807"
            ]
          },
          "execution_count": 70,
          "metadata": {},
          "output_type": "execute_result"
        }
      ],
      "source": [
        "lr_grid.best_score_"
      ]
    },
    {
      "cell_type": "code",
      "execution_count": 71,
      "metadata": {
        "colab": {
          "base_uri": "https://localhost:8080/"
        },
        "id": "_43urQ2xQl9k",
        "outputId": "7f2a2e61-f015-4e0d-f2e7-ffc119f50470",
        "scrolled": true
      },
      "outputs": [
        {
          "name": "stdout",
          "output_type": "stream",
          "text": [
            "              precision    recall  f1-score   support\n",
            "\n",
            "           0       0.90      0.88      0.89      2500\n",
            "           1       0.88      0.90      0.89      2500\n",
            "\n",
            "    accuracy                           0.89      5000\n",
            "   macro avg       0.89      0.89      0.89      5000\n",
            "weighted avg       0.89      0.89      0.89      5000\n",
            "\n"
          ]
        }
      ],
      "source": [
        "y_pred = lr_grid.best_estimator_.predict(vec_test_tfidf)\n",
        "print(classification_report(y_test, y_pred))"
      ]
    },
    {
      "cell_type": "markdown",
      "metadata": {
        "id": "gqsYmuHWQl9k"
      },
      "source": [
        "No está nada mal, ya tenemos el modelo que Showtimes quería, un recall estupendo y una precisión por encima del 70%."
      ]
    },
    {
      "cell_type": "markdown",
      "metadata": {
        "id": "QGodEC50Ql9k"
      },
      "source": [
        "### Parte VII: Analisis de errores/coeficientes"
      ]
    },
    {
      "cell_type": "markdown",
      "metadata": {
        "id": "oq4pZ1NZQl9k"
      },
      "source": [
        "Ahora tocaría el momento de analizar probabilidades (ya que al ser un clasificador binario los errores de una clase se convierten en asignaciones a la otra, y por lo tanto es más interesante analizar las probabilidades por si hubiera manera de jugar con los umbrales, por ejemplo). Pero como ha salido tan bien, otra cosa que podemos hacer es analizar los pesos para ver qué tokens están influyendo más en la valoración positiva y negativa."
      ]
    },
    {
      "cell_type": "markdown",
      "metadata": {
        "id": "14nhb_frQl9k"
      },
      "source": [
        "Esto es posible, gracias a que es una regresión logística y sus pesos tienen signo lo cual nos ayuda en ese sentido:"
      ]
    },
    {
      "cell_type": "code",
      "execution_count": 72,
      "metadata": {
        "colab": {
          "base_uri": "https://localhost:8080/"
        },
        "id": "fVj2ipC1Ql9k",
        "outputId": "ba46fc3c-7525-4037-8d5c-06d9fe8acf2f"
      },
      "outputs": [
        {
          "data": {
            "text/plain": [
              "array(['aa', 'aaa', 'aag', ..., 'zwick', 'ème', 'émigré'], dtype=object)"
            ]
          },
          "execution_count": 72,
          "metadata": {},
          "output_type": "execute_result"
        }
      ],
      "source": [
        "features_tfidf"
      ]
    },
    {
      "cell_type": "code",
      "execution_count": 73,
      "metadata": {
        "colab": {
          "base_uri": "https://localhost:8080/",
          "height": 423
        },
        "id": "fd507I1VQl9k",
        "outputId": "f2dc5006-8bd1-45d4-e2a3-8ce6091affcb"
      },
      "outputs": [
        {
          "data": {
            "text/html": [
              "<div>\n",
              "<style scoped>\n",
              "    .dataframe tbody tr th:only-of-type {\n",
              "        vertical-align: middle;\n",
              "    }\n",
              "\n",
              "    .dataframe tbody tr th {\n",
              "        vertical-align: top;\n",
              "    }\n",
              "\n",
              "    .dataframe thead th {\n",
              "        text-align: right;\n",
              "    }\n",
              "</style>\n",
              "<table border=\"1\" class=\"dataframe\">\n",
              "  <thead>\n",
              "    <tr style=\"text-align: right;\">\n",
              "      <th></th>\n",
              "      <th>Importancia</th>\n",
              "    </tr>\n",
              "  </thead>\n",
              "  <tbody>\n",
              "    <tr>\n",
              "      <th>aa</th>\n",
              "      <td>-0.059267</td>\n",
              "    </tr>\n",
              "    <tr>\n",
              "      <th>aaa</th>\n",
              "      <td>-0.059343</td>\n",
              "    </tr>\n",
              "    <tr>\n",
              "      <th>aag</th>\n",
              "      <td>-0.005338</td>\n",
              "    </tr>\n",
              "    <tr>\n",
              "      <th>aames</th>\n",
              "      <td>0.012673</td>\n",
              "    </tr>\n",
              "    <tr>\n",
              "      <th>aankhen</th>\n",
              "      <td>0.002127</td>\n",
              "    </tr>\n",
              "    <tr>\n",
              "      <th>...</th>\n",
              "      <td>...</td>\n",
              "    </tr>\n",
              "    <tr>\n",
              "      <th>zulu</th>\n",
              "      <td>-0.070912</td>\n",
              "    </tr>\n",
              "    <tr>\n",
              "      <th>zuniga</th>\n",
              "      <td>-0.058066</td>\n",
              "    </tr>\n",
              "    <tr>\n",
              "      <th>zwick</th>\n",
              "      <td>-0.004263</td>\n",
              "    </tr>\n",
              "    <tr>\n",
              "      <th>ème</th>\n",
              "      <td>0.005211</td>\n",
              "    </tr>\n",
              "    <tr>\n",
              "      <th>émigré</th>\n",
              "      <td>-0.025641</td>\n",
              "    </tr>\n",
              "  </tbody>\n",
              "</table>\n",
              "<p>32000 rows × 1 columns</p>\n",
              "</div>"
            ],
            "text/plain": [
              "         Importancia\n",
              "aa         -0.059267\n",
              "aaa        -0.059343\n",
              "aag        -0.005338\n",
              "aames       0.012673\n",
              "aankhen     0.002127\n",
              "...              ...\n",
              "zulu       -0.070912\n",
              "zuniga     -0.058066\n",
              "zwick      -0.004263\n",
              "ème         0.005211\n",
              "émigré     -0.025641\n",
              "\n",
              "[32000 rows x 1 columns]"
            ]
          },
          "execution_count": 73,
          "metadata": {},
          "output_type": "execute_result"
        }
      ],
      "source": [
        "df_coef = pd.DataFrame(lr_grid.best_estimator_.coef_[0], columns = [\"Importancia\"], index = list(features_tfidf)) # Recuperando la variable donde guardamos el nombre de las features\n",
        "df_coef"
      ]
    },
    {
      "cell_type": "code",
      "execution_count": 74,
      "metadata": {
        "colab": {
          "base_uri": "https://localhost:8080/",
          "height": 258
        },
        "id": "fkxDHcaJQl9k",
        "outputId": "fc2ab60b-54e9-4567-dd97-e5dd7048f8af"
      },
      "outputs": [
        {
          "name": "stdout",
          "output_type": "stream",
          "text": [
            "Tokens Positivos\n"
          ]
        },
        {
          "data": {
            "text/plain": [
              "excellent      0.896822\n",
              "perfect        0.807674\n",
              "funniest       0.737804\n",
              "wonderfully    0.719856\n",
              "hilarious      0.660426\n",
              "Name: Importancia, dtype: float64"
            ]
          },
          "execution_count": 74,
          "metadata": {},
          "output_type": "execute_result"
        }
      ],
      "source": [
        "print(\"Tokens Positivos\")\n",
        "df_coef.Importancia.nlargest(5)"
      ]
    },
    {
      "cell_type": "code",
      "execution_count": 75,
      "metadata": {
        "colab": {
          "base_uri": "https://localhost:8080/",
          "height": 258
        },
        "id": "MIcZv5c2Ql9k",
        "outputId": "c052db19-cc1b-4eee-c004-1a09c4d5d552"
      },
      "outputs": [
        {
          "name": "stdout",
          "output_type": "stream",
          "text": [
            "Tokens Negativos\n"
          ]
        },
        {
          "data": {
            "text/plain": [
              "worst            -1.384429\n",
              "waste            -1.221655\n",
              "awful            -1.073531\n",
              "disappointment   -0.991766\n",
              "poorly           -0.934169\n",
              "Name: Importancia, dtype: float64"
            ]
          },
          "execution_count": 75,
          "metadata": {},
          "output_type": "execute_result"
        }
      ],
      "source": [
        "print(\"Tokens Negativos\")\n",
        "df_coef.Importancia.nsmallest(5)"
      ]
    },
    {
      "cell_type": "markdown",
      "metadata": {
        "id": "glDxZvwkQl9l"
      },
      "source": [
        "Con los coeficientes y las palabras se puede construir un diccionario \"sentimental\" que se puede aplicar a otras clasificaciones de texto (de forma que ahora no sustituiremos los tokens por sus valores de conteo o tf-idf sino por ejemplo por estos valores \"sentimentales\") y que además no tengan que ver con el cine, ni nada parecido."
      ]
    },
    {
      "cell_type": "code",
      "execution_count": null,
      "metadata": {
        "id": "LATeO8uDQl9l"
      },
      "outputs": [],
      "source": []
    },
    {
      "cell_type": "code",
      "execution_count": null,
      "metadata": {
        "id": "idBmg8LUQl9l"
      },
      "outputs": [],
      "source": []
    },
    {
      "cell_type": "code",
      "execution_count": null,
      "metadata": {
        "id": "E6gCO4tMQl9l"
      },
      "outputs": [],
      "source": []
    },
    {
      "cell_type": "code",
      "execution_count": null,
      "metadata": {
        "id": "F1I6_iotQl9l"
      },
      "outputs": [],
      "source": []
    },
    {
      "cell_type": "code",
      "execution_count": null,
      "metadata": {
        "id": "ju1ZTrTwQl9l"
      },
      "outputs": [],
      "source": []
    }
  ],
  "metadata": {
    "colab": {
      "provenance": []
    },
    "kernelspec": {
      "display_name": "Python 3",
      "language": "python",
      "name": "python3"
    },
    "language_info": {
      "codemirror_mode": {
        "name": "ipython",
        "version": 3
      },
      "file_extension": ".py",
      "mimetype": "text/x-python",
      "name": "python",
      "nbconvert_exporter": "python",
      "pygments_lexer": "ipython3",
      "version": "3.12.7"
    }
  },
  "nbformat": 4,
  "nbformat_minor": 0
}
