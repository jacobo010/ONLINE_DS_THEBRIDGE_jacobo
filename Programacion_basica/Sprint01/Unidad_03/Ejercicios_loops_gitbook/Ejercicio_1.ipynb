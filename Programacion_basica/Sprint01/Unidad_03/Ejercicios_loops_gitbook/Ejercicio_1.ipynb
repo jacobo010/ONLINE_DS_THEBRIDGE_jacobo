{
 "cells": [
  {
   "cell_type": "markdown",
   "metadata": {},
   "source": [
    "# Ejericios de Gitbook\n",
    "link: [ejercicios gitbook](https://erlerobotics.gitbooks.io/erle-robotics-learning-python-gitbook-free/content/loops/exercises_loops.html)"
   ]
  },
  {
   "cell_type": "markdown",
   "metadata": {},
   "source": [
    "## Ejericio 1\n",
    "- Define random_number con un valor aleatorio entre 0 y 10.\n",
    "- Inicializa guesses_left en 3.\n",
    "- Usa un bucle while para permitir que el usuario siga adivinando mientras guesses_left sea mayor que cero.\n",
    "- Pide al usuario que haga su suposición, tal como en el segundo ejemplo anterior.\n",
    "- Si adivinan correctamente, imprime \"¡Ganaste!\" y usa break. Decrementa guesses_left en uno.\n",
    " -Usa un caso else después de tu bucle while para imprimir: \"Perdiste\"."
   ]
  },
  {
   "cell_type": "code",
   "execution_count": 1,
   "metadata": {},
   "outputs": [
    {
     "name": "stdout",
     "output_type": "stream",
     "text": [
      " Te quedan 2 intentos\n",
      " Te quedan 1 intentos\n",
      " Te quedan 0 intentos\n",
      "No te quedan intentos, el número era 9\n"
     ]
    }
   ],
   "source": [
    "import random\n",
    "numero_random = random.randint (0,10)\n",
    "intentos_restantes = 3\n",
    "while intentos_restantes > 0:\n",
    "    intento_usuario = int(input(\"Ingresa tu número:\"))\n",
    "    if intento_usuario == numero_random:\n",
    "        print(\"Has ganado\")\n",
    "    else:\n",
    "        intentos_restantes -= 1\n",
    "        print(f\" Te quedan {intentos_restantes} intentos\")\n",
    "else:\n",
    "    print(f\"No te quedan intentos, el número era {numero_random}\")"
   ]
  },
  {
   "cell_type": "markdown",
   "metadata": {},
   "source": [
    "## Ejericio 2\n",
    "- Crea un bucle for que le pida al usuario un pasatiempo 3 veces y luego agregue cada uno a hobbies."
   ]
  },
  {
   "cell_type": "code",
   "execution_count": 5,
   "metadata": {},
   "outputs": [
    {
     "name": "stdout",
     "output_type": "stream",
     "text": [
      "['futbol', 'cazar conejos', 'tenis']\n"
     ]
    }
   ],
   "source": [
    "hobbies = []\n",
    "for pasatiempo in range(3):\n",
    "    pasatiempo = input(\"Dame un pasatiempo:\")\n",
    "    hobbies.append(pasatiempo)\n",
    "print(hobbies)\n"
   ]
  },
  {
   "cell_type": "markdown",
   "metadata": {},
   "source": [
    "## Ejericio 3\n",
    "- Recuerda: El carácter , después de nuestra instrucción print significa que nuestra siguiente instrucción print seguirá imprimiendo en la misma línea. Filtraremos la letra 'A' de nuestra cadena.\n",
    "- frase = \"A bird in the hand...\"\n",
    "- Haz lo siguiente para cada carácter en la frase:\n",
    "- Si char es una 'A' o char es una 'a', imprime 'X' en lugar de char. Asegúrate de incluir la coma al final.\n",
    "- De lo contrario (else:), imprime char, con la coma al final."
   ]
  },
  {
   "cell_type": "code",
   "execution_count": 19,
   "metadata": {},
   "outputs": [
    {
     "name": "stdout",
     "output_type": "stream",
     "text": [
      "X, ,b,i,r,d, ,i,n, ,t,h,e, ,h,X,n,d,"
     ]
    }
   ],
   "source": [
    "frase = \"A bird in the hand\"\n",
    "for char in frase:\n",
    "    if char == \"A\" or char ==\"a\":\n",
    "        print (\"X\", end = \",\")\n",
    "    else:\n",
    "        print(char, end = \",\")"
   ]
  },
  {
   "cell_type": "markdown",
   "metadata": {},
   "source": [
    "## Ejericio 4\n",
    "- Define una función is_even que tomará un número x como entrada. \n",
    "- Si x es par, entonces devuelve True. De lo contrario, devuelve False. Nota: \"par\" significa que es divisible por dos. Verifica si funciona."
   ]
  },
  {
   "cell_type": "code",
   "execution_count": 5,
   "metadata": {},
   "outputs": [
    {
     "name": "stdout",
     "output_type": "stream",
     "text": [
      "No es par\n"
     ]
    }
   ],
   "source": [
    "numero = int(input(\"Introduce un número:\")) \n",
    "if numero % 2 == 0:\n",
    "      print (\"Es par\")\n",
    "else:\n",
    "     print(\"No es par\")"
   ]
  },
  {
   "cell_type": "markdown",
   "metadata": {},
   "source": [
    "## Ejericio 5\n",
    "- Escribe una función llamada digit_sum que tome un número entero positivo n como entrada y devuelva la suma de todos los dígitos de ese número."
   ]
  },
  {
   "cell_type": "code",
   "execution_count": 12,
   "metadata": {},
   "outputs": [
    {
     "name": "stdout",
     "output_type": "stream",
     "text": [
      "La suma de los digitos es: 6\n"
     ]
    }
   ],
   "source": [
    "n = int(input(\"Introduce un numero positivo:\"))\n",
    "suma = 0\n",
    "for digito in str(n):\n",
    "    suma += int(digito)\n",
    "print(f\"La suma de los digitos es: {suma}\")\n"
   ]
  }
 ],
 "metadata": {
  "kernelspec": {
   "display_name": "Python 3",
   "language": "python",
   "name": "python3"
  },
  "language_info": {
   "codemirror_mode": {
    "name": "ipython",
    "version": 3
   },
   "file_extension": ".py",
   "mimetype": "text/x-python",
   "name": "python",
   "nbconvert_exporter": "python",
   "pygments_lexer": "ipython3",
   "version": "3.13.0"
  }
 },
 "nbformat": 4,
 "nbformat_minor": 2
}
