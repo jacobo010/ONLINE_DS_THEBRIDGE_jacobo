{
 "cells": [
  {
   "cell_type": "markdown",
   "metadata": {},
   "source": [
    "#  HUNDIR LA FLOTA\n",
    "    > Desarrollado por Team Minerva"
   ]
  },
  {
   "cell_type": "markdown",
   "metadata": {},
   "source": [
    "Aquí describimos la estructura y organización del código del juego \"Hundir la Flota\", que está dividido en cuatro ficheros principales. Cada fichero tiene responsabilidades\n",
    "específicas que permiten mantener la modularidad y facilitar la modificación y mantenimiento del código."
   ]
  },
  {
   "cell_type": "markdown",
   "metadata": {},
   "source": [
    "\n",
    "## 1.  **variables.py**"
   ]
  },
  {
   "cell_type": "markdown",
   "metadata": {},
   "source": [
    "El fichero variables.py contiene todas las constantes y configuraciones globales necesarias\n",
    "para el juego. Esto incluye el tamaño del tablero, los tipos de celdas (agua, barco, impacto) y\n",
    "la estructura de los barcos. La separación de estas configuraciones permite modificar el\n",
    "juego sin afectar el resto del código, es decir que le da escalabilidad."
   ]
  },
  {
   "cell_type": "markdown",
   "metadata": {},
   "source": [
    "<span>![variables.py](imagen_presentacion_1.png)</span>"
   ]
  },
  {
   "cell_type": "markdown",
   "metadata": {},
   "source": [
    "### Contenido de variables.py"
   ]
  },
  {
   "cell_type": "code",
   "execution_count": 24,
   "metadata": {},
   "outputs": [],
   "source": [
    "BOARD_SIZE = 10"
   ]
  },
  {
   "cell_type": "markdown",
   "metadata": {},
   "source": [
    "- Define el tamaño del tablero del juego como una cuadrícula de 10x10."
   ]
  },
  {
   "cell_type": "code",
   "execution_count": 25,
   "metadata": {},
   "outputs": [],
   "source": [
    "SHIPS = {\n",
    "    \"Barco 1\": 1,  # 4 barcos de 1 posición\n",
    "    \"Barco 2\": 2,  # 3 barcos de 2 posiciones\n",
    "    \"Barco 3\": 3,  # 2 barcos de 3 posiciones\n",
    "    \"Barco 4\": 4   # 1 barco de 4 posiciones\n",
    "}"
   ]
  },
  {
   "cell_type": "markdown",
   "metadata": {},
   "source": [
    "- Define los tipos de barcos y cuántos de cada tipo estarán en el juego.\n",
    "- Además, eesta esttructura nos facilita añadir o quitar barcos sin tocar la lógica principal."
   ]
  },
  {
   "cell_type": "code",
   "execution_count": 26,
   "metadata": {},
   "outputs": [],
   "source": [
    "WATER = \"0\"  # Agua\n",
    "SHIP = \"1\"   # Barco\n",
    "HIT = \"X\"    # Impacto\n",
    "MISS = \"M\"   # Agua disparada\n"
   ]
  },
  {
   "cell_type": "markdown",
   "metadata": {},
   "source": [
    "- Establece los valores posibles para las celdas del tablero. Cada valor tiene un significado específico: \n",
    "\n",
    "    + WATER (\"0\"): Indica que esa celda está vacía.\n",
    "    + SHIP (\"1\"): Representa una celda ocupada por un barco.\n",
    "    + HIT (\"X\"): Marca un disparo que impactó en un barco.\n",
    "    + MISS (\"M\"): Indica un disparo que no alcanzó un barco."
   ]
  },
  {
   "cell_type": "markdown",
   "metadata": {},
   "source": [
    "## 2.  **clases.py**"
   ]
  },
  {
   "cell_type": "markdown",
   "metadata": {},
   "source": [
    "Este fichero define la clase Board, que encapsula la lógica relacionada con los tableros del juego, incluyendo la colocación de barcos, los disparos y la visualización. Es uno de los componentes más importantes del código porque gestiona las reglas fundamentales del juego."
   ]
  },
  {
   "cell_type": "markdown",
   "metadata": {},
   "source": [
    "### Contenido de clases.py"
   ]
  },
  {
   "cell_type": "code",
   "execution_count": 27,
   "metadata": {},
   "outputs": [],
   "source": [
    "import numpy as np\n",
    "from random import randint\n",
    "#from variables import SHIPS, BOARD_SIZE, WATER, SHIP, HIT, MISS\n"
   ]
  },
  {
   "cell_type": "markdown",
   "metadata": {},
   "source": [
    "- Primero importamos las librerias y las variables que nos hemos creado: \n",
    "\n",
    "    + numpy: Para crear y manipular matrices como hemos aprendido en los springs.\n",
    "    + randint: Para manejar numeros enteros aleatorios.\n",
    "    + variables: Nos servirán para dar forma al tablero y sus métodos.\n",
    "    "
   ]
  },
  {
   "cell_type": "code",
   "execution_count": 28,
   "metadata": {},
   "outputs": [],
   "source": [
    "class Board:\n",
    "    def __init__(self, player_id):\n",
    "        self.player_id = player_id\n",
    "        self.size = BOARD_SIZE\n",
    "        self.grid = np.full((self.size, self.size), WATER)  # Tablero visible\n",
    "        self.ship_grid = np.full((self.size, self.size), WATER)  # Tablero oculto con los barcos\n",
    "        self.ships = []  # Lista de coordenadas de barcos\n",
    "\n",
    "        # Coloca los barcos en posiciones fijas o aleatorias\n",
    "        self.place_ships()\n"
   ]
  },
  {
   "cell_type": "markdown",
   "metadata": {},
   "source": [
    "- Aquí configuramos el \"molde\" principal del juego, es decir, el tablero, que es donde ocurrirá todo.\n",
    "\n",
    "- En esta clase llamada \"board\" podemos ver que hemos definido los atributos:\n",
    "\n",
    "    +  player_id: Identifica si el tablero pertenece al jugador o a la IA.\n",
    "    + grid: Representa el tablero visible para el jugador. Que está inicialmente lleno de WATER (\"0\").\n",
    "    + ship_grid: Tablero oculto que contiene la posición de los barcos (SHIP).\n",
    "    + ships: Una lista de coordenadas que almacena la ubicación exacta de cada barco.   "
   ]
  },
  {
   "cell_type": "code",
   "execution_count": 29,
   "metadata": {},
   "outputs": [],
   "source": [
    "def place_ships(self):\n",
    "    for ship_name, length in SHIPS.items():\n",
    "        for _ in range(SHIPS[ship_name]):\n",
    "            placed = False\n",
    "            while not placed:\n",
    "                placed = self.place_single_ship(length)\n"
   ]
  },
  {
   "cell_type": "markdown",
   "metadata": {},
   "source": [
    "- Esta función nos permite colocar los barcos sin que se superpongan:\n",
    "\n",
    "    + Itera sobre el diccionario SHIPS para obtener el nombre y la longitud de cada tipo de barco.\n",
    "    + Intenta colocar cada barco utilizando el método place_single_ship.\n",
    "    + Si no puede colocarlo (por ejemplo, porque las posiciones están ocupadas), lo intenta nuevamente hasta que se coloque."
   ]
  },
  {
   "cell_type": "code",
   "execution_count": 30,
   "metadata": {},
   "outputs": [],
   "source": [
    "def place_single_ship(self, length):\n",
    "    direction = randint(0, 3)  # 0 = Norte, 1 = Sur, 2 = Este, 3 = Oeste\n",
    "    x = randint(0, self.size - 1)\n",
    "    y = randint(0, self.size - 1)\n",
    "\n",
    "    coordinates = []\n",
    "    if direction == 0:  # Norte\n",
    "        if x - length >= 0:\n",
    "            coordinates = [(x - i, y) for i in range(length)]\n",
    "    elif direction == 1:  # Sur\n",
    "        if x + length < self.size:\n",
    "            coordinates = [(x + i, y) for i in range(length)]\n",
    "    elif direction == 2:  # Este\n",
    "        if y + length < self.size:\n",
    "            coordinates = [(x, y + i) for i in range(length)]\n",
    "    else:  # Oeste\n",
    "        if y - length >= 0:\n",
    "            coordinates = [(x, y - i) for i in range(length)]\n",
    "\n",
    "    if all(self.ship_grid[coord[0], coord[1]] == WATER for coord in coordinates):\n",
    "        for coord in coordinates:\n",
    "            self.ship_grid[coord[0], coord[1]] = SHIP\n",
    "        self.ships.append(coordinates)\n",
    "        return True\n",
    "    return False\n"
   ]
  },
  {
   "cell_type": "markdown",
   "metadata": {},
   "source": [
    "- Aquí es donde creamos la lógica que nos permitirá colocar barco a barco en una posicion aleatoria del tablero. Para ello, creamos una cardinalidad, coloca el barco y nos devuelve un booleano que será usado en place_ships para verificar si esa posición estaba ocupada."
   ]
  },
  {
   "cell_type": "code",
   "execution_count": 31,
   "metadata": {},
   "outputs": [],
   "source": [
    "def shoot(self, x, y):\n",
    "    if self.grid[x, y] == HIT or self.grid[x, y] == MISS:\n",
    "        return \"Ya has disparado en esta coordenada. Intenta con otra.\"\n",
    "    if self.ship_grid[x, y] == SHIP:\n",
    "        self.grid[x, y] = HIT\n",
    "        return \"Disparo certero\"\n",
    "    else:\n",
    "        self.grid[x, y] = MISS\n",
    "        return \"Disparo fallido\"\n"
   ]
  },
  {
   "cell_type": "markdown",
   "metadata": {},
   "source": [
    "- Aquí definimos la lógica de los disparos:\n",
    "\n",
    "    + Si el jugador ya disparó en esa coordenada (HIT o MISS), devuelve un mensaje de error.\n",
    "    + Si hay un barco (SHIP) en la celda, marca un impacto (HIT) y devuelve \"Disparo certero\".\n",
    "    + Si no hay barco, marca un fallo (MISS) y devuelve \"Disparo fallido\"."
   ]
  },
  {
   "cell_type": "code",
   "execution_count": 32,
   "metadata": {},
   "outputs": [],
   "source": [
    "def display(self):\n",
    "    columnas = \"   \" + \" \".join(f\"{i:2}\" for i in range(self.size))\n",
    "    print(columnas)\n",
    "    print(\"   \" + \"-\" * (self.size * 3))\n",
    "    for i, fila in enumerate(self.grid):\n",
    "        fila_completa = \" \".join(f\"{cell:2}\" for cell in fila)\n",
    "        print(f\"{i:2} | {fila_completa}\")\n"
   ]
  },
  {
   "cell_type": "markdown",
   "metadata": {},
   "source": [
    "Esta función configura la visualización, mostrando el tablero visible (sin barcos) en un formato limpio con coordenadas numeradas.\n"
   ]
  },
  {
   "cell_type": "code",
   "execution_count": 33,
   "metadata": {},
   "outputs": [],
   "source": [
    "def display_full_board(self):\n",
    "    full_board = np.where(self.ship_grid == SHIP, SHIP, self.grid)\n",
    "    columnas = \"   \" + \" \".join(f\"{i:2}\" for i in range(self.size))\n",
    "    print(columnas)\n",
    "    print(\"   \" + \"-\" * (self.size * 3))\n",
    "    for i, fila in enumerate(full_board):\n",
    "        fila_completa = \" \".join(f\"{cell:2}\" for cell in fila)\n",
    "        print(f\"{i:2} | {fila_completa}\")\n"
   ]
  },
  {
   "cell_type": "markdown",
   "metadata": {},
   "source": [
    "- Muestra un tablero combinado que revela la posición de los barcos."
   ]
  },
  {
   "cell_type": "code",
   "execution_count": 34,
   "metadata": {},
   "outputs": [],
   "source": [
    "def is_sunk(self, ship_coordinates):\n",
    "    return all(self.grid[x, y] == HIT for x, y in ship_coordinates)"
   ]
  },
  {
   "cell_type": "markdown",
   "metadata": {},
   "source": [
    "- Determina si un barco específico (identificado por sus coordenadas) ha sido completamente hundido."
   ]
  },
  {
   "cell_type": "markdown",
   "metadata": {},
   "source": [
    "<span>![variables.py](imagen_presentacion_3.png)</span>"
   ]
  },
  {
   "cell_type": "markdown",
   "metadata": {},
   "source": [
    "## 3.  **funciones.py**"
   ]
  },
  {
   "cell_type": "markdown",
   "metadata": {},
   "source": [
    "El fichero funciones.py contiene funciones auxiliares que facilitan la interacción entre el\n",
    "jugador y el programa. Estas funciones son la entrada de usuario, el disparo de la\n",
    "inteligencia artificial y la verificación del estado del juego, con acciones específicas\n",
    "como la entrada/salida y la lógica del turno."
   ]
  },
  {
   "cell_type": "markdown",
   "metadata": {},
   "source": [
    "### Contenido de funciones.py"
   ]
  },
  {
   "cell_type": "code",
   "execution_count": 16,
   "metadata": {},
   "outputs": [],
   "source": [
    "#from random import randint\n",
    "#from clases import Board\n",
    "#from variables import BOARD_SIZE"
   ]
  },
  {
   "cell_type": "markdown",
   "metadata": {},
   "source": [
    "- Como antes, importamos numeros aleatórios y ahora las clases y variables qu hemos construido."
   ]
  },
  {
   "cell_type": "code",
   "execution_count": 35,
   "metadata": {},
   "outputs": [],
   "source": [
    "def print_welcome_message():\n",
    "    print(\"¡Bienvenido a Hundir la Flota!\")\n",
    "    print(\"Este es un juego entre dos jugadores: tú y la máquina.\")\n",
    "    print(\"El objetivo es hundir todos los barcos del adversario antes que él haga lo mismo contigo.\")\n",
    "    print(\"Durante tu turno, puedes disparar a coordenadas (x, y), ver los tableros ('Mostrar') o salir del juego ('Salir').\")\n"
   ]
  },
  {
   "cell_type": "markdown",
   "metadata": {},
   "source": [
    "- Mostrar un mensaje introductorio que explica las reglas del juego al jugador."
   ]
  },
  {
   "cell_type": "code",
   "execution_count": 18,
   "metadata": {},
   "outputs": [],
   "source": [
    "def get_player_input():\n",
    "    while True:\n",
    "        try:\n",
    "            user_input = input(\"Ingresa las coordenadas (x, y) para disparar o 'mostrar' para ver los tableros, 'salir' para salir: \").strip().lower()\n",
    "            if user_input == \"salir\":\n",
    "                return \"salir\"\n",
    "            elif user_input == \"mostrar\":\n",
    "                return \"mostrar\"\n",
    "            else:\n",
    "                x, y = map(int, user_input.split(','))\n",
    "                if 0 <= x < 10 and 0 <= y < 10:\n",
    "                    return x, y\n",
    "                else:\n",
    "                    print(\"Coordenadas fuera de rango. Deben ser entre 0 y 9.\")\n",
    "        except ValueError:\n",
    "            print(\"Entrada inválida. Debes ingresar las coordenadas en el formato x,y (por ejemplo, 1,2).\")\n"
   ]
  },
  {
   "cell_type": "markdown",
   "metadata": {},
   "source": [
    "- Capturar y validar la entrada del jugador para asegurarse de que sea válida antes de procesarla:\n",
    "\n",
    "    + Solicita al jugador que ingrese una acción o coordenadas.\n",
    "    + Comprueba si el jugador quiere:\n",
    "        - Salir del juego (\"salir\"): Retorna \"salir\".\n",
    "        - Mostrar los tableros (\"mostrar\"): Retorna \"mostrar\". \n",
    "    + Si se ingresan coordenadas (x,y):\n",
    "        - Intenta convertirlas en números enteros (int).\n",
    "        - Verifica que estén dentro del rango permitido (0-9).\n",
    "        - Si son válidas, las retorna como una tupla (x, y). \n",
    "    + Si la entrada es inválida, muestra un mensaje de error y pide la entrada nuevamente.\n"
   ]
  },
  {
   "cell_type": "code",
   "execution_count": 19,
   "metadata": {},
   "outputs": [],
   "source": [
    "def ai_shoot():\n",
    "    x, y = randint(0, 9), randint(0, 9)\n",
    "    return x, y\n"
   ]
  },
  {
   "cell_type": "markdown",
   "metadata": {},
   "source": [
    "- Generar disparos aleatorios para la inteligencia artificial (IA):\n",
    "\n",
    "    + Usa randint para generar dos números aleatorios (x y y) entre 0 y 9.\n",
    "    + Retorna las coordenadas generadas como una tupla (x, y).\n"
   ]
  },
  {
   "cell_type": "code",
   "execution_count": 20,
   "metadata": {},
   "outputs": [],
   "source": [
    "def check_game_over(player):\n",
    "    for ship in player.ships:\n",
    "        if not player.is_sunk(ship):\n",
    "            return False\n",
    "    return True\n"
   ]
  },
  {
   "cell_type": "markdown",
   "metadata": {},
   "source": [
    "- Verificar si todos los barcos de un jugador han sido hundidos, determinando así si el juego ha terminado:\n",
    "\n",
    "    + Itera sobre la lista de barcos (player.ships) de un jugador.\n",
    "    + Para cada barco, llama al método is_sunk de la clase Board:\n",
    "        - Comprueba si todas las coordenadas del barco están marcadas como impactos (HIT).\n",
    "    + Si al menos un barco no está hundido, retorna False.\n",
    "    + Si todos los barcos están hundidos, retorna True."
   ]
  },
  {
   "cell_type": "markdown",
   "metadata": {},
   "source": [
    "<span>![variables.py](imagen_presentacion_4.png)</span>"
   ]
  },
  {
   "cell_type": "markdown",
   "metadata": {},
   "source": [
    "## 4.  **main.py**"
   ]
  },
  {
   "cell_type": "markdown",
   "metadata": {},
   "source": [
    "Este archivo define la función principal del programa, main, que coordina el flujo general del juego. Es el núcleo del juego y combina las funcionalidades de otros archivos para que todo funcione como un sistema cohesivo."
   ]
  },
  {
   "cell_type": "markdown",
   "metadata": {},
   "source": [
    "<span>![variables.py](imagen_presentacion_2.png)</span>"
   ]
  },
  {
   "cell_type": "markdown",
   "metadata": {},
   "source": [
    "### Contenido de main.py"
   ]
  },
  {
   "cell_type": "code",
   "execution_count": 21,
   "metadata": {},
   "outputs": [],
   "source": [
    "#from funciones import print_welcome_message, get_player_input, ai_shoot, check_game_over\n",
    "#from clases import Board"
   ]
  },
  {
   "cell_type": "markdown",
   "metadata": {},
   "source": [
    "- Importamos las clases y las funciones."
   ]
  },
  {
   "cell_type": "code",
   "execution_count": 39,
   "metadata": {},
   "outputs": [],
   "source": [
    "def main ():\n",
    "    print_welcome_message()\n",
    "    player_board = Board(player_id=\"Player\")\n",
    "    ai_board = Board(player_id=\"AI\")\n",
    "    while True:\n",
    "        # Turno del jugador humanoo\n",
    "        print(\"\\nTu tablero completo con la ubicación de tus barcos:\")\n",
    "        player_board.display_full_board()\n",
    "        print(\"Tablero de la Skynet con tus impactos: \")\n",
    "        ai_board.display()\n",
    "\n",
    "        player_action = get_player_input()\n",
    "\n",
    "        if player_action == \"salir\":\n",
    "            print(\"¡Gracias por jugar! Hasta la próxima.\")\n",
    "            break\n",
    "        elif player_action == \"mostrar\":\n",
    "            continue\n",
    "        else:\n",
    "            x, y = player_action\n",
    "            result = ai_board.shoot(x, y)\n",
    "            print(f\"Disparo en ({x}, {y}): {result.capitalize()}\")\n",
    "\n",
    "            if check_game_over(ai_board):\n",
    "                print(\"¡Ganaste! La Skynet ha sido derrotada.\")\n",
    "                break\n",
    "\n",
    "            # Turno de la Skynet\n",
    "            x, y = ai_shoot()\n",
    "            print(f\"Skynet dispara en ({x}, {y})\")\n",
    "            result = player_board.shoot(x, y)\n",
    "            print(f\"Resultado: {result.capitalize()}\")\n",
    "\n",
    "            if check_game_over(player_board):\n",
    "                print(\"Perdiste. La Skynet ha ganado.\")\n",
    "                break\n"
   ]
  },
  {
   "cell_type": "markdown",
   "metadata": {},
   "source": [
    "- Saludamos.\n",
    "- Inicializamos los tableros.\n",
    "- El juego se desarrolla en un bucle infinito que solo termina cuando:\n",
    "    + El jugador elige salir (\"salir\").\n",
    "    + Uno de los jugadores gana.  \n",
    "- Renderizamos el tablero.\n",
    "- Llama a get_player_input para capturar la acción del jugador:\n",
    "    + \"salir\": Termina el juego.\n",
    "    + \"mostrar\": Muestra los tableros nuevamente sin realizar una acción.\n",
    "    + (x, y): Dispara a las coordenadas especificadas.\n",
    "- Si el jugador dispara a (x, y):\n",
    "    + Llama al método shoot de ai_board para registrar el disparo.\n",
    "    + Muestra el resultado (\"Disparo certero\" o \"Disparo fallido\").\n",
    "- Llama a check_game_over para verificar si el jugador ha hundido todos los barcos de la IA.\n",
    "- Si la IA no tiene más barcos, el jugador gana y el juego termina.\n",
    "- La IA genera disparos aleatorios usando ai_shoot.\n",
    "- El disparo se registra en el tablero del jugador humano (player_board.shoot).\n",
    "- El resultado del disparo se imprime.\n",
    "- Verifica si la IA ha hundido todos los barcos del jugador.\n",
    "- Si no quedan barcos, el jugador pierde y el juego termina.\n",
    "- Permite al jugador salir del juego en cualquier momento escribiendo \"salir\".\n",
    "- Muestra un mensaje de despedida y termina el programa.\n",
    "\n",
    "\n",
    "\n"
   ]
  }
 ],
 "metadata": {
  "kernelspec": {
   "display_name": "Python 3",
   "language": "python",
   "name": "python3"
  },
  "language_info": {
   "codemirror_mode": {
    "name": "ipython",
    "version": 3
   },
   "file_extension": ".py",
   "mimetype": "text/x-python",
   "name": "python",
   "nbconvert_exporter": "python",
   "pygments_lexer": "ipython3",
   "version": "3.13.0"
  },
  "orig_nbformat": 4
 },
 "nbformat": 4,
 "nbformat_minor": 2
}
