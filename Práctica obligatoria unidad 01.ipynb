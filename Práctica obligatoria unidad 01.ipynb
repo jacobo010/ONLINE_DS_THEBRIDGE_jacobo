{
 "cells": [
  {
   "cell_type": "markdown",
   "id": "fb8c7999-64ea-480c-98b1-f123d38e63ca",
   "metadata": {},
   "source": [
    "**Lo más importante**\n",
    "\n",
    "- Matemáticas\n",
    "- Python\n",
    "- SQL\n",
    "\n",
    "<img src=\"https://upload.wikimedia.org/wikipedia/commons/thumb/c/c3/Python-logo-notext.svg/1869px-Python-logo-notext.svg.png\" width=\"200\" height=\"200\">\n",
    "\n",
    "Otro tema importante es el de *Business Intelligence*\n",
    "\n",
    "Si tienes dudas, puedes escribirme a: <alberto.romero@thebridgeschool.es>\n",
    "\n",
    "Y en esta página se aprende mucho de machine learning: [página con ML](https://www.kaggle.com/)\n",
    "\n",
    "\n",
    "#Ejercicio 2\n",
    "\n",
    "|Ramp up|Data Analysis |Machine Learning|Data and Business|\n",
    "|-------|--------------|----------------|-----------------|\n",
    "|Python |EDA|Supervised|Productivizacion |\n",
    "|Estadística|R|Non Supervised|Storytelling|\n",
    "|SQL|Feat Eng|Deep Learning|API|\n",
    "\n",
    "$$\n",
    "\\sqrt{3x-1}+(1+x)^2\n",
    "$$"
   ]
  }
 ],
 "metadata": {
  "kernelspec": {
   "display_name": "Python 3 (ipykernel)",
   "language": "python",
   "name": "python3"
  },
  "language_info": {
   "codemirror_mode": {
    "name": "ipython",
    "version": 3
   },
   "file_extension": ".py",
   "mimetype": "text/x-python",
   "name": "python",
   "nbconvert_exporter": "python",
   "pygments_lexer": "ipython3",
   "version": "3.13.0"
  }
 },
 "nbformat": 4,
 "nbformat_minor": 5
}
