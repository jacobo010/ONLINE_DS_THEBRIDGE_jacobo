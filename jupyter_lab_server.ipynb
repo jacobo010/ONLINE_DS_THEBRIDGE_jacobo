{
 "cells": [
  {
   "cell_type": "markdown",
   "metadata": {},
   "source": [
    "## Servidor Jupyter Lab DS TheBridge:\n",
    "[Servidor Jupyter](https://jupyterhubonline.thebridge.tech/user/jacobo_andreuibarra/lab/workspaces/auto-R)"
   ]
  }
 ],
 "metadata": {
  "language_info": {
   "name": "python"
  }
 },
 "nbformat": 4,
 "nbformat_minor": 2
}
